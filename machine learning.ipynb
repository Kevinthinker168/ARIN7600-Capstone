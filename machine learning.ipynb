{
 "cells": [
  {
   "cell_type": "code",
   "execution_count": 1,
   "id": "f4e384d4",
   "metadata": {},
   "outputs": [],
   "source": [
    "import pandas as pd\n",
    "import yfinance as yf\n",
    "from pandas_datareader import data\n",
    "import matplotlib.pyplot as plt\n",
    "from datetime import datetime, timedelta\n",
    "import talib \n",
    "from dateutil.relativedelta import relativedelta\n",
    "\n",
    "from Tools import *\n",
    "from Tools2 import *\n",
    "import numpy as np\n",
    "\n",
    "# Machine learning\n",
    "from sklearn.linear_model import LogisticRegression\n",
    "from sklearn import metrics\n",
    "from sklearn.model_selection import cross_val_score\n",
    "yf.pdr_override()"
   ]
  },
  {
   "cell_type": "code",
   "execution_count": 2,
   "id": "70034e44",
   "metadata": {},
   "outputs": [
    {
     "name": "stdout",
     "output_type": "stream",
     "text": [
      "[[5], [6], [11], [12], [5, 6], [5, 11], [5, 12], [6, 11], [6, 12], [11, 12], [5, 6, 11], [5, 6, 12], [5, 11, 12], [6, 11, 12]]\n"
     ]
    }
   ],
   "source": [
    "from itertools import combinations\n",
    "\n",
    "lst = [5, 6, 11,12]\n",
    "index=[]\n",
    "i=0\n",
    "while i<len(lst):\n",
    "    for comb in combinations(lst,r=i):\n",
    "        if comb==():\n",
    "            continue\n",
    "        index.append(list(comb))\n",
    "    i+=1\n",
    "print(index)\n",
    "        \n"
   ]
  },
  {
   "cell_type": "code",
   "execution_count": 3,
   "id": "dba22bc7",
   "metadata": {
    "scrolled": true
   },
   "outputs": [
    {
     "name": "stdout",
     "output_type": "stream",
     "text": [
      "0.5010204081632652\n",
      "0.5010204081632652\n",
      "[5]\n",
      "0.503061224489796\n",
      "0.503061224489796\n",
      "[6]\n",
      "0.5008928571428571\n",
      "0.44272959183673477\n",
      "0.5010204081632652\n",
      "0.5010204081632652\n",
      "0.5010204081632652\n",
      "0.5008928571428571\n",
      "0.43647959183673474\n",
      "0.4801020408163265\n",
      "0.5010204081632652\n",
      "0.5010204081632652\n",
      "0.5010204081632652\n",
      "0.4801020408163265\n"
     ]
    }
   ],
   "source": [
    "start=\"2020-12-31\"\n",
    "end=\"2022-12-31\"\n",
    "name=\"AAPL\"\n",
    "\n",
    "#MACD619RSI21_8020\n",
    "stock_data=pct_change(name,start,end)\n",
    "#stock_data=data.get_data_yahoo(tickers=name,start=start,end=end,progress=False)\n",
    "    \n",
    "stock_data=MACD_short(stock_data)\n",
    "stock_data=RSI(stock_data)\n",
    "stock_data=RSI_MACD(stock_data,21,80,20)\n",
    "\n",
    "\n",
    "stock_data = stock_data.dropna()\n",
    "del stock_data[\"real_situation\"]\n",
    "del stock_data[\"RSI6\"]\n",
    "del stock_data[\"RSI14\"]\n",
    "\n",
    "y = np.where(stock_data['Close'].shift(-1) > stock_data['Close'],1,-1)\n",
    "\n",
    "high=0\n",
    "for i in index:\n",
    "    X = stock_data.iloc[:,i]\n",
    "    split = int(0.7*len(stock_data))\n",
    "    X_train, X_test, y_train, y_test = X[:split], X[split:], y[:split], y[split:]\n",
    "    model = LogisticRegression()\n",
    "    model = model.fit (X_train,y_train)\n",
    "    probability = model.predict_proba(X_test)\n",
    "    predicted = model.predict(X_test)\n",
    "    \n",
    "    cross_val = cross_val_score(LogisticRegression(), X, y, scoring='accuracy', cv=10)\n",
    "    mean_score=cross_val.mean()\n",
    "    print(mean_score)\n",
    "    if mean_score>=high:\n",
    "        high=mean_score\n",
    "        print(high)\n",
    "        print(i)\n",
    "    \n",
    "\n",
    "\n"
   ]
  },
  {
   "cell_type": "code",
   "execution_count": 4,
   "id": "f6994124",
   "metadata": {},
   "outputs": [
    {
     "ename": "NameError",
     "evalue": "name 'test' is not defined",
     "output_type": "error",
     "traceback": [
      "\u001b[0;31m---------------------------------------------------------------------------\u001b[0m",
      "\u001b[0;31mNameError\u001b[0m                                 Traceback (most recent call last)",
      "Input \u001b[0;32mIn [4]\u001b[0m, in \u001b[0;36m<cell line: 1>\u001b[0;34m()\u001b[0m\n\u001b[0;32m----> 1\u001b[0m \u001b[43mtest\u001b[49m\n",
      "\u001b[0;31mNameError\u001b[0m: name 'test' is not defined"
     ]
    }
   ],
   "source": [
    "test"
   ]
  },
  {
   "cell_type": "code",
   "execution_count": null,
   "id": "04a57117",
   "metadata": {},
   "outputs": [],
   "source": [
    "y = np.where(stock_data['Close'].shift(-1) > stock_data['Close'],1,-1)"
   ]
  },
  {
   "cell_type": "code",
   "execution_count": null,
   "id": "a0004197",
   "metadata": {},
   "outputs": [],
   "source": [
    "split = int(0.7*len(stock_data))\n",
    "X_train, X_test, y_train, y_test = X[:split], X[split:], y[:split], y[split:]"
   ]
  },
  {
   "cell_type": "code",
   "execution_count": null,
   "id": "860d1672",
   "metadata": {},
   "outputs": [],
   "source": [
    "model = LogisticRegression()\n",
    "model = model.fit (X_train,y_train)"
   ]
  },
  {
   "cell_type": "code",
   "execution_count": null,
   "id": "b498b97b",
   "metadata": {},
   "outputs": [],
   "source": [
    "pd.DataFrame(zip(X.columns, np.transpose(model.coef_)))"
   ]
  },
  {
   "cell_type": "code",
   "execution_count": null,
   "id": "cc3f2818",
   "metadata": {},
   "outputs": [],
   "source": [
    "probability = model.predict_proba(X_test)\n",
    "print(probability)\n",
    "\n",
    "predicted = model.predict(X_test)"
   ]
  },
  {
   "cell_type": "code",
   "execution_count": null,
   "id": "c2c91651",
   "metadata": {},
   "outputs": [],
   "source": [
    "print(metrics.confusion_matrix(y_test, predicted))"
   ]
  },
  {
   "cell_type": "code",
   "execution_count": null,
   "id": "430ccf16",
   "metadata": {},
   "outputs": [],
   "source": [
    "print(metrics.classification_report(y_test, predicted))"
   ]
  },
  {
   "cell_type": "code",
   "execution_count": null,
   "id": "a827b55a",
   "metadata": {},
   "outputs": [],
   "source": [
    "print(model.score(X_test,y_test))\n",
    "#0.4689655172413793 纯volume"
   ]
  },
  {
   "cell_type": "code",
   "execution_count": null,
   "id": "eaf3a256",
   "metadata": {},
   "outputs": [],
   "source": [
    "cross_val = cross_val_score(LogisticRegression(), X, y, scoring='accuracy', cv=10)\n",
    "print(cross_val)\n",
    "print(cross_val.mean())"
   ]
  },
  {
   "cell_type": "code",
   "execution_count": null,
   "id": "c8ac8a03",
   "metadata": {},
   "outputs": [],
   "source": [
    "stock_data['Predicted_Signal'] = model.predict(X)\n",
    "stock_data['Nifty_returns'] = np.log(stock_data['Close']/stock_data['Close'].shift(1))\n",
    "Cumulative_Nifty_returns = np.cumsum(stock_data[split:]['Nifty_returns'])\n",
    "\n",
    "stock_data['Startegy_returns'] = stock_data['Nifty_returns']* stock_data['Predicted_Signal'].shift(1)\n",
    "Cumulative_Strategy_returns = np.cumsum(stock_data[split:]['Startegy_returns'])\n",
    "\n",
    "plt.figure(figsize=(10,5))\n",
    "plt.plot(Cumulative_Nifty_returns, color='r',label = 'Nifty Returns')\n",
    "plt.plot(Cumulative_Strategy_returns, color='g', label = 'Strategy Returns')\n",
    "plt.legend()\n",
    "plt.show()"
   ]
  },
  {
   "cell_type": "code",
   "execution_count": null,
   "id": "052885ac",
   "metadata": {},
   "outputs": [],
   "source": []
  }
 ],
 "metadata": {
  "kernelspec": {
   "display_name": "Python 3 (ipykernel)",
   "language": "python",
   "name": "python3"
  },
  "language_info": {
   "codemirror_mode": {
    "name": "ipython",
    "version": 3
   },
   "file_extension": ".py",
   "mimetype": "text/x-python",
   "name": "python",
   "nbconvert_exporter": "python",
   "pygments_lexer": "ipython3",
   "version": "3.9.12"
  }
 },
 "nbformat": 4,
 "nbformat_minor": 5
}
