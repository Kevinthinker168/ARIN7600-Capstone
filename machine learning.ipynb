{
 "cells": [
  {
   "cell_type": "code",
   "execution_count": 1,
   "id": "f4e384d4",
   "metadata": {},
   "outputs": [],
   "source": [
    "import pandas as pd\n",
    "import yfinance as yf\n",
    "from pandas_datareader import data\n",
    "import matplotlib.pyplot as plt\n",
    "from datetime import datetime, timedelta\n",
    "import talib \n",
    "from dateutil.relativedelta import relativedelta\n",
    "\n",
    "from Tools import *\n",
    "from Tools2 import *\n",
    "import numpy as np\n",
    "\n",
    "# Machine learning\n",
    "from sklearn.linear_model import LogisticRegression\n",
    "from sklearn import metrics\n",
    "from sklearn.model_selection import cross_val_score\n",
    "yf.pdr_override()"
   ]
  },
  {
   "cell_type": "code",
   "execution_count": 2,
   "id": "70034e44",
   "metadata": {},
   "outputs": [
    {
     "name": "stdout",
     "output_type": "stream",
     "text": [
      "[[6], [7], [8], [10], [11], [6, 7], [6, 8], [6, 10], [6, 11], [7, 8], [7, 10], [7, 11], [8, 10], [8, 11], [10, 11], [6, 7, 8], [6, 7, 10], [6, 7, 11], [6, 8, 10], [6, 8, 11], [6, 10, 11], [7, 8, 10], [7, 8, 11], [7, 10, 11], [8, 10, 11], [6, 7, 8, 10], [6, 7, 8, 11], [6, 7, 10, 11], [6, 8, 10, 11], [7, 8, 10, 11]]\n"
     ]
    }
   ],
   "source": [
    "from itertools import combinations\n",
    "\n",
    "lst = [6,7,8,10,11]\n",
    "index=[]\n",
    "i=0\n",
    "while i<len(lst):\n",
    "    for comb in combinations(lst,r=i):\n",
    "        if comb==():\n",
    "            continue\n",
    "        index.append(list(comb))\n",
    "    i+=1\n",
    "print(index)\n",
    "        \n"
   ]
  },
  {
   "cell_type": "code",
   "execution_count": 3,
   "id": "dba22bc7",
   "metadata": {
    "scrolled": true
   },
   "outputs": [
    {
     "name": "stdout",
     "output_type": "stream",
     "text": [
      "                  Open        High         Low       Close   Adj Close  \\\n",
      "Date                                                                     \n",
      "2021-02-02  135.729996  136.309998  134.610001  134.990005  132.822083   \n",
      "2021-02-03  135.759995  135.770004  133.610001  133.940002  131.788956   \n",
      "2021-02-04  136.300003  137.399994  134.589996  137.389999  135.183533   \n",
      "2021-02-05  137.350006  137.419998  135.860001  136.759995  134.764725   \n",
      "2021-02-08  136.029999  136.960007  134.919998  136.910004  134.912552   \n",
      "...                ...         ...         ...         ...         ...   \n",
      "2022-12-23  130.919998  132.419998  129.639999  131.860001  131.299820   \n",
      "2022-12-27  131.380005  131.410004  128.720001  130.029999  129.477585   \n",
      "2022-12-28  129.669998  131.029999  125.870003  126.040001  125.504547   \n",
      "2022-12-29  127.989998  130.479996  127.730003  129.610001  129.059372   \n",
      "2022-12-30  128.410004  129.949997  127.430000  129.929993  129.378006   \n",
      "\n",
      "              Volume  Close_price_percentage        EMA6       EMA19  \\\n",
      "Date                                                                   \n",
      "2021-02-02  83305400                0.006337  135.742787  134.691455   \n",
      "2021-02-03  89880900               -0.007778  135.227706  134.616310   \n",
      "2021-02-04  84183100                0.025758  135.845504  134.893679   \n",
      "2021-02-05  75693800               -0.004586  136.106787  135.080310   \n",
      "2021-02-08  71297200                0.001097  136.336277  135.263280   \n",
      "...              ...                     ...         ...         ...   \n",
      "2022-12-23  63814900               -0.002798  134.005551  138.976031   \n",
      "2022-12-27  69007800               -0.013878  132.869679  138.081427   \n",
      "2022-12-28  85438400               -0.030685  130.918343  136.877285   \n",
      "2022-12-29  75703700                0.028324  130.544531  136.150556   \n",
      "2022-12-30  77034200                0.002469  130.368948  135.528500   \n",
      "\n",
      "                 DIF      MACD  Position      RSI21  \n",
      "Date                                                 \n",
      "2021-02-02  1.051332  1.888470        -1  52.126483  \n",
      "2021-02-03  0.611396  1.633055        -1  51.085036  \n",
      "2021-02-04  0.951825  1.496809        -1  54.239236  \n",
      "2021-02-05  1.026476  1.402743        -1  53.576808  \n",
      "2021-02-08  1.072998  1.336794        -1  53.718127  \n",
      "...              ...       ...       ...        ...  \n",
      "2022-12-23 -4.970479 -3.837252        -1  39.225752  \n",
      "2022-12-27 -5.211748 -4.112151        -1  37.826304  \n",
      "2022-12-28 -5.958942 -4.481509        -1  34.970080  \n",
      "2022-12-29 -5.606026 -4.706413        -1  39.277645  \n",
      "2022-12-30 -5.159552 -4.797040        -1  39.653853  \n",
      "\n",
      "[483 rows x 13 columns]\n"
     ]
    }
   ],
   "source": [
    "start=\"2020-12-31\"\n",
    "end=\"2022-12-31\"\n",
    "name=\"AAPL\"\n",
    "\n",
    "#MACD619RSI21_8020\n",
    "stock_data=pct_change(name,start,end)\n",
    "#stock_data=data.get_data_yahoo(tickers=name,start=start,end=end,progress=False)\n",
    "    \n",
    "stock_data=MACD_short(stock_data)\n",
    "stock_data=RSI(stock_data)\n",
    "stock_data=RSI_MACD(stock_data,21,80,20)\n",
    "\n",
    "\n",
    "stock_data = stock_data.dropna()\n",
    "del stock_data[\"real_situation\"]\n",
    "del stock_data[\"RSI6\"]\n",
    "del stock_data[\"RSI14\"]\n",
    "\n",
    "print(stock_data)\n",
    "y = np.where(stock_data['Close'].shift(-1) > stock_data['Close'],1,-1)\n",
    "\n"
   ]
  },
  {
   "cell_type": "code",
   "execution_count": 4,
   "id": "4098a745",
   "metadata": {},
   "outputs": [
    {
     "name": "stdout",
     "output_type": "stream",
     "text": [
      "0.503061224489796\n",
      "[6]\n",
      "0.519515306122449\n",
      "[7]\n",
      "0.519515306122449\n",
      "[6, 7]\n",
      "30\n"
     ]
    }
   ],
   "source": [
    "high=0\n",
    "count=0\n",
    "for i in index:\n",
    "    X = stock_data.iloc[:,i]\n",
    "    split = int(0.7*len(stock_data))\n",
    "    X_train, X_test, y_train, y_test = X[:split], X[split:], y[:split], y[split:]\n",
    "    model = LogisticRegression()\n",
    "    model = model.fit (X_train,y_train)\n",
    "    probability = model.predict_proba(X_test)\n",
    "    predicted = model.predict(X_test)\n",
    "    \n",
    "    #print(model.score(X_test,y_test))\n",
    "    \n",
    "    cross_val = cross_val_score(LogisticRegression(), X, y, scoring='accuracy', cv=10)\n",
    "    mean_score=cross_val.mean()\n",
    "    \n",
    "    \n",
    "    #print(mean_score)\n",
    "    count+=1\n",
    "    if mean_score>=high:\n",
    "        high=mean_score\n",
    "        print(high)\n",
    "        print(i)\n",
    "    \n",
    "\n",
    "print(count)\n"
   ]
  },
  {
   "cell_type": "code",
   "execution_count": null,
   "id": "052885ac",
   "metadata": {},
   "outputs": [],
   "source": []
  }
 ],
 "metadata": {
  "kernelspec": {
   "display_name": "Python 3 (ipykernel)",
   "language": "python",
   "name": "python3"
  },
  "language_info": {
   "codemirror_mode": {
    "name": "ipython",
    "version": 3
   },
   "file_extension": ".py",
   "mimetype": "text/x-python",
   "name": "python",
   "nbconvert_exporter": "python",
   "pygments_lexer": "ipython3",
   "version": "3.9.12"
  }
 },
 "nbformat": 4,
 "nbformat_minor": 5
}
