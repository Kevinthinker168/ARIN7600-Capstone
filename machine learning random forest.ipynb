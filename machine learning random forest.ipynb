{
 "cells": [
  {
   "cell_type": "code",
   "execution_count": 1,
   "id": "e8fea681",
   "metadata": {},
   "outputs": [],
   "source": [
    "import pandas as pd\n",
    "import yfinance as yf\n",
    "from pandas_datareader import data\n",
    "import matplotlib.pyplot as plt\n",
    "from datetime import datetime, timedelta\n",
    "import talib \n",
    "from dateutil.relativedelta import relativedelta\n",
    "from sklearn.decomposition import PCA\n",
    "\n",
    "from Tools import *\n",
    "from Tools2 import *\n",
    "import numpy as np\n",
    "\n",
    "# Machine learning\n",
    "from sklearn.ensemble import RandomForestClassifier\n",
    "from sklearn import metrics\n",
    "from sklearn.metrics import accuracy_score, confusion_matrix, precision_score, recall_score, ConfusionMatrixDisplay\n",
    "from sklearn.model_selection import RandomizedSearchCV, train_test_split\n",
    "from scipy.stats import randint\n",
    "\n",
    "from sklearn.model_selection import cross_val_score\n",
    "from sklearn.model_selection import train_test_split\n",
    "from sklearn.preprocessing import StandardScaler  \n",
    "from sklearn.preprocessing import MinMaxScaler\n",
    "yf.pdr_override()"
   ]
  },
  {
   "cell_type": "code",
   "execution_count": 2,
   "id": "4998c671",
   "metadata": {},
   "outputs": [],
   "source": [
    "start=\"2020-12-31\"\n",
    "end=\"2022-12-31\"\n",
    "name=\"AAPL\"\n",
    "\n",
    "#MACD619RSI21_8020\n",
    "stock_data=pct_change(name,start,end)\n",
    "#stock_data=data.get_data_yahoo(tickers=name,start=start,end=end,progress=False)\n",
    "    \n",
    "stock_data=MACD_short(stock_data)\n",
    "stock_data=RSI(stock_data)\n",
    "stock_data=RSI_MACD(stock_data,21,80,20)\n",
    "\n",
    "#stock_data[\"log_vaolume\"] = np.log(stock_data['Volume'])\n",
    "\n",
    "stock_data = stock_data.dropna()\n",
    "del stock_data[\"real_situation\"]\n",
    "del stock_data[\"Position\"]\n",
    "del stock_data[\"Close_price_percentage\"]\n",
    "#print(stock_data)\n",
    "\n",
    "X = stock_data.iloc[:,:13]\n",
    "#st_x= StandardScaler()  \n",
    "#X= st_x.fit_transform(X) \n",
    "\n",
    "y = np.where(stock_data['Close'].shift(-1) > stock_data['Close'],1,-1)"
   ]
  },
  {
   "cell_type": "code",
   "execution_count": 3,
   "id": "0b7406e9",
   "metadata": {},
   "outputs": [
    {
     "name": "stdout",
     "output_type": "stream",
     "text": [
      "The shape of our features is: (483, 13)\n"
     ]
    },
    {
     "data": {
      "text/html": [
       "<div>\n",
       "<style scoped>\n",
       "    .dataframe tbody tr th:only-of-type {\n",
       "        vertical-align: middle;\n",
       "    }\n",
       "\n",
       "    .dataframe tbody tr th {\n",
       "        vertical-align: top;\n",
       "    }\n",
       "\n",
       "    .dataframe thead th {\n",
       "        text-align: right;\n",
       "    }\n",
       "</style>\n",
       "<table border=\"1\" class=\"dataframe\">\n",
       "  <thead>\n",
       "    <tr style=\"text-align: right;\">\n",
       "      <th></th>\n",
       "      <th>Open</th>\n",
       "      <th>High</th>\n",
       "      <th>Low</th>\n",
       "      <th>Close</th>\n",
       "      <th>Adj Close</th>\n",
       "      <th>Volume</th>\n",
       "      <th>EMA6</th>\n",
       "      <th>EMA19</th>\n",
       "      <th>DIF</th>\n",
       "      <th>MACD</th>\n",
       "      <th>RSI6</th>\n",
       "      <th>RSI14</th>\n",
       "      <th>RSI21</th>\n",
       "    </tr>\n",
       "  </thead>\n",
       "  <tbody>\n",
       "    <tr>\n",
       "      <th>count</th>\n",
       "      <td>483.000000</td>\n",
       "      <td>483.000000</td>\n",
       "      <td>483.000000</td>\n",
       "      <td>483.000000</td>\n",
       "      <td>483.000000</td>\n",
       "      <td>4.830000e+02</td>\n",
       "      <td>483.000000</td>\n",
       "      <td>483.000000</td>\n",
       "      <td>483.000000</td>\n",
       "      <td>483.000000</td>\n",
       "      <td>483.000000</td>\n",
       "      <td>483.000000</td>\n",
       "      <td>483.000000</td>\n",
       "    </tr>\n",
       "    <tr>\n",
       "      <th>mean</th>\n",
       "      <td>148.426501</td>\n",
       "      <td>150.214907</td>\n",
       "      <td>146.694534</td>\n",
       "      <td>148.511553</td>\n",
       "      <td>147.093777</td>\n",
       "      <td>8.805633e+07</td>\n",
       "      <td>148.540926</td>\n",
       "      <td>148.495338</td>\n",
       "      <td>0.045589</td>\n",
       "      <td>0.102688</td>\n",
       "      <td>51.255756</td>\n",
       "      <td>51.419566</td>\n",
       "      <td>51.504096</td>\n",
       "    </tr>\n",
       "    <tr>\n",
       "      <th>std</th>\n",
       "      <td>15.430169</td>\n",
       "      <td>15.659046</td>\n",
       "      <td>15.253614</td>\n",
       "      <td>15.484026</td>\n",
       "      <td>15.518508</td>\n",
       "      <td>2.597780e+07</td>\n",
       "      <td>15.101175</td>\n",
       "      <td>14.390307</td>\n",
       "      <td>3.391581</td>\n",
       "      <td>2.989394</td>\n",
       "      <td>18.437517</td>\n",
       "      <td>11.542187</td>\n",
       "      <td>8.931929</td>\n",
       "    </tr>\n",
       "    <tr>\n",
       "      <th>min</th>\n",
       "      <td>119.029999</td>\n",
       "      <td>120.400002</td>\n",
       "      <td>116.209999</td>\n",
       "      <td>116.360001</td>\n",
       "      <td>114.662338</td>\n",
       "      <td>3.519590e+07</td>\n",
       "      <td>120.670025</td>\n",
       "      <td>122.282615</td>\n",
       "      <td>-8.365363</td>\n",
       "      <td>-6.865316</td>\n",
       "      <td>7.689013</td>\n",
       "      <td>27.552350</td>\n",
       "      <td>34.155729</td>\n",
       "    </tr>\n",
       "    <tr>\n",
       "      <th>25%</th>\n",
       "      <td>136.610001</td>\n",
       "      <td>137.820000</td>\n",
       "      <td>134.599998</td>\n",
       "      <td>136.834999</td>\n",
       "      <td>135.187309</td>\n",
       "      <td>7.039000e+07</td>\n",
       "      <td>137.564619</td>\n",
       "      <td>139.500865</td>\n",
       "      <td>-2.571177</td>\n",
       "      <td>-2.207413</td>\n",
       "      <td>37.499700</td>\n",
       "      <td>42.038085</td>\n",
       "      <td>44.488513</td>\n",
       "    </tr>\n",
       "    <tr>\n",
       "      <th>50%</th>\n",
       "      <td>147.770004</td>\n",
       "      <td>149.210007</td>\n",
       "      <td>146.149994</td>\n",
       "      <td>148.009995</td>\n",
       "      <td>146.562256</td>\n",
       "      <td>8.328130e+07</td>\n",
       "      <td>147.120813</td>\n",
       "      <td>147.244187</td>\n",
       "      <td>0.042815</td>\n",
       "      <td>0.141045</td>\n",
       "      <td>50.560800</td>\n",
       "      <td>50.026666</td>\n",
       "      <td>50.436781</td>\n",
       "    </tr>\n",
       "    <tr>\n",
       "      <th>75%</th>\n",
       "      <td>160.005005</td>\n",
       "      <td>162.659996</td>\n",
       "      <td>157.675003</td>\n",
       "      <td>159.894997</td>\n",
       "      <td>158.417442</td>\n",
       "      <td>9.922350e+07</td>\n",
       "      <td>160.656954</td>\n",
       "      <td>161.235230</td>\n",
       "      <td>2.454600</td>\n",
       "      <td>2.062052</td>\n",
       "      <td>64.648928</td>\n",
       "      <td>59.885058</td>\n",
       "      <td>57.825398</td>\n",
       "    </tr>\n",
       "    <tr>\n",
       "      <th>max</th>\n",
       "      <td>182.630005</td>\n",
       "      <td>182.940002</td>\n",
       "      <td>179.119995</td>\n",
       "      <td>182.009995</td>\n",
       "      <td>180.190964</td>\n",
       "      <td>1.954327e+08</td>\n",
       "      <td>179.168205</td>\n",
       "      <td>175.157704</td>\n",
       "      <td>8.219328</td>\n",
       "      <td>6.742969</td>\n",
       "      <td>94.519508</td>\n",
       "      <td>81.303624</td>\n",
       "      <td>75.035330</td>\n",
       "    </tr>\n",
       "  </tbody>\n",
       "</table>\n",
       "</div>"
      ],
      "text/plain": [
       "             Open        High         Low       Close   Adj Close  \\\n",
       "count  483.000000  483.000000  483.000000  483.000000  483.000000   \n",
       "mean   148.426501  150.214907  146.694534  148.511553  147.093777   \n",
       "std     15.430169   15.659046   15.253614   15.484026   15.518508   \n",
       "min    119.029999  120.400002  116.209999  116.360001  114.662338   \n",
       "25%    136.610001  137.820000  134.599998  136.834999  135.187309   \n",
       "50%    147.770004  149.210007  146.149994  148.009995  146.562256   \n",
       "75%    160.005005  162.659996  157.675003  159.894997  158.417442   \n",
       "max    182.630005  182.940002  179.119995  182.009995  180.190964   \n",
       "\n",
       "             Volume        EMA6       EMA19         DIF        MACD  \\\n",
       "count  4.830000e+02  483.000000  483.000000  483.000000  483.000000   \n",
       "mean   8.805633e+07  148.540926  148.495338    0.045589    0.102688   \n",
       "std    2.597780e+07   15.101175   14.390307    3.391581    2.989394   \n",
       "min    3.519590e+07  120.670025  122.282615   -8.365363   -6.865316   \n",
       "25%    7.039000e+07  137.564619  139.500865   -2.571177   -2.207413   \n",
       "50%    8.328130e+07  147.120813  147.244187    0.042815    0.141045   \n",
       "75%    9.922350e+07  160.656954  161.235230    2.454600    2.062052   \n",
       "max    1.954327e+08  179.168205  175.157704    8.219328    6.742969   \n",
       "\n",
       "             RSI6       RSI14       RSI21  \n",
       "count  483.000000  483.000000  483.000000  \n",
       "mean    51.255756   51.419566   51.504096  \n",
       "std     18.437517   11.542187    8.931929  \n",
       "min      7.689013   27.552350   34.155729  \n",
       "25%     37.499700   42.038085   44.488513  \n",
       "50%     50.560800   50.026666   50.436781  \n",
       "75%     64.648928   59.885058   57.825398  \n",
       "max     94.519508   81.303624   75.035330  "
      ]
     },
     "execution_count": 3,
     "metadata": {},
     "output_type": "execute_result"
    }
   ],
   "source": [
    "print('The shape of our features is:', stock_data.shape)\n",
    "# Descriptive statistics for each column\n",
    "stock_data.describe()"
   ]
  },
  {
   "cell_type": "code",
   "execution_count": 4,
   "id": "7c96472a",
   "metadata": {},
   "outputs": [],
   "source": [
    "X_train, X_test, y_train, y_test = train_test_split(X, y, test_size=0.25)"
   ]
  },
  {
   "cell_type": "code",
   "execution_count": 5,
   "id": "896e4cb9",
   "metadata": {
    "scrolled": true
   },
   "outputs": [
    {
     "name": "stdout",
     "output_type": "stream",
     "text": [
      "Training Features Shape: (362, 13)\n",
      "Training Labels Shape: (362,)\n",
      "Testing Features Shape: (121, 13)\n",
      "Testing Labels Shape: (121,)\n"
     ]
    }
   ],
   "source": [
    "print('Training Features Shape:', X_train.shape)\n",
    "print('Training Labels Shape:', y_train.shape)\n",
    "print('Testing Features Shape:', X_test.shape)\n",
    "print('Testing Labels Shape:', y_test.shape)"
   ]
  },
  {
   "cell_type": "code",
   "execution_count": 6,
   "id": "5e1156fd",
   "metadata": {},
   "outputs": [
    {
     "data": {
      "text/plain": [
       "RandomForestClassifier(max_depth=4, n_estimators=184)"
      ]
     },
     "execution_count": 6,
     "metadata": {},
     "output_type": "execute_result"
    }
   ],
   "source": [
    "\n",
    "# Instantiate model with 1000 decision trees\n",
    "rf = RandomForestClassifier(max_depth= 4, n_estimators=184)\n",
    "# Train the model on training data\n",
    "rf.fit(X_train, y_train)"
   ]
  },
  {
   "cell_type": "code",
   "execution_count": 7,
   "id": "86488870",
   "metadata": {},
   "outputs": [
    {
     "name": "stdout",
     "output_type": "stream",
     "text": [
      "Accuracy: 0.4793388429752066\n"
     ]
    }
   ],
   "source": [
    "y_pred = rf.predict(X_test)\n",
    "accuracy = accuracy_score(y_test, y_pred)\n",
    "print(\"Accuracy:\", accuracy)"
   ]
  },
  {
   "cell_type": "code",
   "execution_count": 8,
   "id": "1ff29b18",
   "metadata": {},
   "outputs": [
    {
     "data": {
      "text/plain": [
       "RandomizedSearchCV(cv=5, estimator=RandomForestClassifier(), n_iter=5,\n",
       "                   param_distributions={'max_depth': <scipy.stats._distn_infrastructure.rv_discrete_frozen object at 0x7fca39883e50>,\n",
       "                                        'n_estimators': <scipy.stats._distn_infrastructure.rv_discrete_frozen object at 0x7fca39860850>})"
      ]
     },
     "execution_count": 8,
     "metadata": {},
     "output_type": "execute_result"
    }
   ],
   "source": [
    "param_dist = {'n_estimators': randint(50,500),\n",
    "              'max_depth': randint(1,20)}\n",
    "\n",
    "# Create a random forest classifier\n",
    "rf = RandomForestClassifier()\n",
    "\n",
    "# Use random search to find the best hyperparameters\n",
    "rand_search = RandomizedSearchCV(rf, \n",
    "                                 param_distributions = param_dist, \n",
    "                                 n_iter=5, \n",
    "                                 cv=5)\n",
    "\n",
    "# Fit the random search object to the data\n",
    "rand_search.fit(X_train, y_train)"
   ]
  },
  {
   "cell_type": "code",
   "execution_count": 9,
   "id": "ea2006c9",
   "metadata": {},
   "outputs": [
    {
     "name": "stdout",
     "output_type": "stream",
     "text": [
      "Best hyperparameters: {'max_depth': 14, 'n_estimators': 80}\n"
     ]
    }
   ],
   "source": [
    "# Create a variable for the best model\n",
    "best_rf = rand_search.best_estimator_\n",
    "\n",
    "# Print the best hyperparameters\n",
    "print('Best hyperparameters:',  rand_search.best_params_)\n",
    "\n"
   ]
  },
  {
   "cell_type": "code",
   "execution_count": 10,
   "id": "98ca7f1d",
   "metadata": {},
   "outputs": [
    {
     "data": {
      "image/png": "[encoded data removed]",
      "text/plain": [
       "<Figure size 432x288 with 2 Axes>"
      ]
     },
     "metadata": {
      "needs_background": "light"
     },
     "output_type": "display_data"
    }
   ],
   "source": [
    "y_pred = best_rf.predict(X_test)\n",
    "\n",
    "# Create the confusion matrix\n",
    "cm = confusion_matrix(y_test, y_pred)\n",
    "\n",
    "ConfusionMatrixDisplay(confusion_matrix=cm).plot();"
   ]
  },
  {
   "cell_type": "code",
   "execution_count": 11,
   "id": "228fe6b2",
   "metadata": {},
   "outputs": [
    {
     "name": "stdout",
     "output_type": "stream",
     "text": [
      "Accuracy: 0.5619834710743802\n",
      "Precision: 0.5084745762711864\n",
      "Recall: 0.5555555555555556\n"
     ]
    }
   ],
   "source": [
    "y_pred = best_rf.predict(X_test)\n",
    "\n",
    "accuracy = accuracy_score(y_test, y_pred)\n",
    "precision = precision_score(y_test, y_pred)\n",
    "recall = recall_score(y_test, y_pred)\n",
    "\n",
    "print(\"Accuracy:\", accuracy)\n",
    "print(\"Precision:\", precision)\n",
    "print(\"Recall:\", recall)"
   ]
  },
  {
   "cell_type": "code",
   "execution_count": 12,
   "id": "1ee8de7a",
   "metadata": {},
   "outputs": [
    {
     "data": {
      "image/png": "[encoded data removed]",
      "text/plain": [
       "<Figure size 432x288 with 1 Axes>"
      ]
     },
     "metadata": {
      "needs_background": "light"
     },
     "output_type": "display_data"
    }
   ],
   "source": [
    "# Create a series containing feature importances from the model and feature names from the training data\n",
    "feature_importances = pd.Series(best_rf.feature_importances_, index=X_train.columns).sort_values(ascending=False)\n",
    "\n",
    "# Plot a simple bar chart\n",
    "feature_importances.plot.bar();"
   ]
  },
  {
   "cell_type": "code",
   "execution_count": null,
   "id": "542ca02c",
   "metadata": {},
   "outputs": [],
   "source": []
  }
 ],
 "metadata": {
  "kernelspec": {
   "display_name": "Python 3 (ipykernel)",
   "language": "python",
   "name": "python3"
  },
  "language_info": {
   "codemirror_mode": {
    "name": "ipython",
    "version": 3
   },
   "file_extension": ".py",
   "mimetype": "text/x-python",
   "name": "python",
   "nbconvert_exporter": "python",
   "pygments_lexer": "ipython3",
   "version": "3.9.12"
  }
 },
 "nbformat": 4,
 "nbformat_minor": 5
}
