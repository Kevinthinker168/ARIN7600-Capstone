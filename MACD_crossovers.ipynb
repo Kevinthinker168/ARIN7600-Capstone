{
 "cells": [
  {
   "cell_type": "code",
   "execution_count": 8,
   "id": "2895e35a",
   "metadata": {},
   "outputs": [],
   "source": [
    "import pandas as pd\n",
    "from pandas_datareader import data\n",
    "import yfinance as yf\n",
    "yf.pdr_override()\n",
    "\n",
    "\n"
   ]
  },
  {
   "cell_type": "code",
   "execution_count": 1,
   "id": "10a44222",
   "metadata": {},
   "outputs": [],
   "source": [
    "def get_macd(price, slow, fast, smooth):\n",
    "    exp1 = price.ewm(span = fast, adjust = False).mean()\n",
    "    exp2 = price.ewm(span = slow, adjust = False).mean()\n",
    "    macd = pd.DataFrame(exp1 - exp2).rename(columns = {'Close':'macd'})\n",
    "    signal = pd.DataFrame(macd.ewm(span = smooth, adjust = False).mean()).rename(columns = {'macd':'signal'})\n",
    "    hist = pd.DataFrame(macd['macd'] - signal['signal']).rename(columns = {0:'hist'})\n",
    "    frames =  [macd, signal, hist]\n",
    "    df = pd.concat(frames, join = 'inner', axis = 1)\n",
    "    return df\n",
    "\n",
    "def macd_diff(df,i):\n",
    "    return df.loc[i,'macd']-df.loc[i,'signal']\n",
    "    \n",
    "def get_almost_macd_signal(df,hold,i):\n",
    "    if (i<2):\n",
    "        return False\n",
    "    if (hold):\n",
    "        if (macd_diff(df,i)<macd_diff(df,i-1) and macd_diff(df,i-1)<macd_diff(df,i-2) and macd_diff(df,i)>0 and macd_diff(df,i)<1):\n",
    "            return True\n",
    "        return False\n",
    "    else:\n",
    "        if (macd_diff(df,i)>macd_diff(df,i-1) and macd_diff(df,i-1)>macd_diff(df,i-2) and macd_diff(df,i)<0 and macd_diff(df,i)>-1):\n",
    "            return True\n",
    "        return False\n",
    "\n",
    "def get_almost_macd_signal1(df,hold,i):\n",
    "    if (i<2):\n",
    "        return False\n",
    "    if (hold):\n",
    "        if (macd_diff(df,i)<macd_diff(df,i-1) and macd_diff(df,i-1)<macd_diff(df,i-2) and macd_diff(df,i)>0 and macd_diff(df,i)<0.1):\n",
    "            return True\n",
    "        return False\n",
    "    else:\n",
    "        if (macd_diff(df,i)>macd_diff(df,i-1) and macd_diff(df,i-1)>macd_diff(df,i-2) and macd_diff(df,i)<0 and macd_diff(df,i)>-0.1):\n",
    "            return True\n",
    "        return False\n",
    "    \n",
    "def get_almost_macd_signal2(df,hold,i):\n",
    "    if (i<2):\n",
    "        return False\n",
    "    if (hold):\n",
    "        if (macd_diff(df,i)<macd_diff(df,i-1) and macd_diff(df,i-1)<macd_diff(df,i-2) and macd_diff(df,i)>0 and macd_diff(df,i)<0.01):\n",
    "            return True\n",
    "        return False\n",
    "    else:\n",
    "        if (macd_diff(df,i)>macd_diff(df,i-1) and macd_diff(df,i-1)>macd_diff(df,i-2) and macd_diff(df,i)<0 and macd_diff(df,i)>-0.01):\n",
    "            return True\n",
    "        return False\n",
    "    \n",
    "    \n",
    "    \n",
    "    \n",
    "def get_macd_signal(df,hold,i):\n",
    "    if (hold):\n",
    "        if ((df.iloc[i])['macd']<(df.iloc[i])['signal']):\n",
    "            return True\n",
    "        return False\n",
    "    else:\n",
    "        if ((df.iloc[i])['macd']>(df.iloc[i])['signal']):\n",
    "            return True\n",
    "        return False\n",
    "\n",
    "def get_macd_signal_new(df,hold,i):\n",
    "    if (i<1):\n",
    "        return False\n",
    "    \n",
    "    if (hold):\n",
    "        if (((df.iloc[i-1])['macd']>(df.iloc[i-1])['signal']) and ((df.iloc[i])['macd']<(df.iloc[i])['signal'])):\n",
    "            return True\n",
    "        return False\n",
    "    else:\n",
    "        if (((df.iloc[i-1])['macd']<(df.iloc[i-1])['signal']) and ((df.iloc[i])['macd']>(df.iloc[i])['signal'])):\n",
    "            return True\n",
    "        return False    \n",
    "     \n",
    "def naive_backtest(df,get_signal):\n",
    "    pv=1000\n",
    "    hold=False\n",
    "    start_price=-float(\"inf\")\n",
    "    \n",
    "    total_trade=0\n",
    "    win_count=0\n",
    "    \n",
    "    #count=0\n",
    "    for i in range(len(df)):\n",
    "        if (hold):\n",
    "            if (get_signal(df,hold,i)):\n",
    "                end_price=df.iloc[i]['Adj Close']\n",
    "                pv*=end_price/start_price\n",
    "                hold=False\n",
    "                \n",
    "                total_trade+=1\n",
    "                if (end_price>start_price):\n",
    "                    win_count+=1\n",
    "        else:\n",
    "            if (get_signal(df,hold,i)):\n",
    "                #count+=1\n",
    "                start_price=df.iloc[i]['Adj Close']\n",
    "                hold=True\n",
    "    #print(count) \n",
    "    return (pv,total_trade,win_count)\n",
    "\n",
    "\n",
    "def backtest_one_day(df,get_signal):\n",
    "    pv=1000\n",
    "\n",
    "    total_trade=0\n",
    "    win_count=0\n",
    "    \n",
    "    #count=0\n",
    "    for i in range(len(df)-1):\n",
    "        if (get_signal(df,False,i)):\n",
    "            #count+=1\n",
    "            start_price=df.iloc[i]['Adj Close']\n",
    "            end_price=df.iloc[i+1]['Adj Close']\n",
    "            pv*=end_price/start_price\n",
    "\n",
    "            total_trade+=1\n",
    "            if (end_price>start_price):\n",
    "                win_count+=1\n",
    "            #print(pv,start_price,end_price)\n",
    "    #print(count)\n",
    "    return (pv,total_trade,win_count)\n",
    "\n",
    "def backtest_one_day_short_possible(df,get_signal):\n",
    "    pv=1000\n",
    "\n",
    "    total_trade=0\n",
    "    win_count=0\n",
    "    \n",
    "    for i in range(len(df)-1):\n",
    "        if (get_signal(df,False,i)):\n",
    "            start_price=df.iloc[i]['Adj Close']\n",
    "            end_price=df.iloc[i+1]['Adj Close']\n",
    "            pv*=end_price/start_price\n",
    "            \n",
    "            total_trade+=1\n",
    "            if (end_price>start_price):\n",
    "                win_count+=1\n",
    "        elif (get_signal(df,True,i)):\n",
    "            start_price=df.iloc[i]['Adj Close']\n",
    "            end_price=df.iloc[i+1]['Adj Close']\n",
    "            pv*=start_price/end_price\n",
    "            \n",
    "            total_trade+=1\n",
    "            if (end_price<start_price):\n",
    "                win_count+=1\n",
    "        \n",
    "    return (pv,total_trade,win_count)\n",
    "\n",
    "China_A_list=['601318.ss','603938.ss','002229.sz','603722.ss','600519.ss','300065.sz','000002.sz','000010.sz','000035.sz','301487.sz','300570.sz'\\\n",
    "         '688359.ss','301203.sz','000564.sz','002362.sz','688333.ss','002230.sz','002415.sz','002262.sz','001979.sz','601099.ss']\n",
    "#200 stocks randomly sampled from all stocks in NASDAQ\n",
    "#in the time range 2010-01-01 to 2023-08-01, only 183 stocks are available\n",
    "nasdaq_100=['FI','AAPL', 'MSFT', 'GOOG', 'GOOGL', 'AMZN', 'NVDA', 'TSLA', 'META', 'ASML', 'AVGO', 'PEP', 'COST', 'AZN', 'CSCO', 'TMUS', 'ADBE', 'TXN', 'AMD', 'CMCSA', 'NFLX', 'QCOM', 'HON', 'AMGN', 'INTU', 'INTC', 'SBUX', 'AMAT', 'GILD', 'PDD', 'ADI', 'BKNG', 'MDLZ', 'ADP', 'REGN', 'ISRG', 'PYPL', 'VRTX', 'ABNB', 'LRCX', 'MU', 'ATVI', 'MELI', 'PANW', 'CSX', 'CHTR', 'SNPS', 'MRNA', 'CDNS', 'JD', 'KLAC', 'MNST', 'FTNT', 'ORLY', 'MAR', 'KDP', 'NXPI', 'KHC', 'MCHP', 'DXCM', 'CTAS', 'AEP', 'ADSK', 'IDXX', 'EXC', 'PAYX', 'BIIB', 'WDAY', 'LULU', 'SGEN', 'PCAR', 'ODFL', 'MRVL', 'WBD', 'ROST', 'XEL', 'ILMN', 'CPRT', 'EA', 'CRWD', 'DLTR', 'CTSH', 'FAST', 'VRSK', 'ENPH', 'WBA', 'ANSS', 'BKR', 'CSGP', 'CEG', 'ALGN', 'FANG', 'TEAM', 'EBAY', 'DDOG', 'ZM', 'ZS', 'LCID', 'SIRI', 'RIVN']\n",
    "nasdaq_random=['BOXL', 'PBLA', 'NMIH', 'OCCI', 'ONYXU', 'BRFH', 'ATRC', 'VISL', 'AMBA', 'ANDE', 'BIOL', 'MASI', 'FNCB', 'GDYN', 'RDUS', 'SGMA', 'BIAF', 'OSUR', 'DCPH', 'CPRT', 'AFBI', 'BLACU', 'AKU', 'TBMC', 'ME', 'CLPT', 'HURC', 'CHKEW', 'COOLW', 'GENK', 'BTBT', 'GLUE', 'CNOBP', 'APGE', 'UCTT', 'VERU', 'CSWCZ', 'PEGY', 'HTZ', 'IRTC', 'BMBL', 'PLXS', 'LINK', 'ZEUS', 'HOWL', 'CVKD', 'UG', 'XRX', 'ELVN', 'IOVA', 'INBX', 'VIAV', 'BBIO', 'LUXH', 'FRBA', 'COHU', 'PUBM', 'INDB', 'AMAT', 'FEIM', 'ATER', 'ADBE', 'FINW', 'BYRN', 'AVT', 'MDWT', 'SVC', 'IDN', 'ERII', 'DMRC', 'CGEM', 'CPHC', 'OCUP', 'SURF', 'VTNR', 'TFSL', 'BSET', 'IVCP', 'WAVD', 'VMD', 'EAR', 'TILE', 'GLLI', 'VTRS', 'GNLN', 'HGBL', 'MCAF', 'SONN', 'CAPR', 'PGC', 'XOMAO', 'VALU', 'ACVA', 'LIVE', 'GOGO', 'EFSC', 'APDN', 'MXL', 'IDCC', 'WINT', 'WERN', 'DKNG', 'AMPGW', 'LQDT', 'BCAB', 'CNFR', 'ALKT', 'POWL', 'SRDX', 'DUOT', 'HFWA', 'MPRA', 'CZFS', 'CDXS', 'CGBD', 'GLSI', 'OXSQ', 'CRVS', 'MSSAU', 'BTCY', 'LFMD', 'MTEX', 'TECTP', 'PAYS', 'KOD', 'PROV', 'BSFC', 'PFTA', 'JNVR', 'ZI', 'FMAO', 'CARA', 'VRA', 'RILYK', 'INBK', 'ENG', 'TRINL', 'PRSR', 'THRM', 'PTPI', 'IMMX', 'ISPO', 'BVS', 'ARCC', 'APPN', 'BLKB', 'OXSQG', 'PATK', 'KZR', 'GH', 'GIA', 'ADEA', 'ICUI', 'BDTX', 'ISPR', 'ADMA', 'INBKZ', 'UONEK', 'UTRS', 'ACAX']\n",
    "hk_stocks_random=['0237.HK', '1771.HK', '1118.HK', '0570.HK', '3396.HK', '1515.HK', '2314.HK', '1069.HK', '1966.HK', '1013.HK', '0330.HK', '2948.HK', '8066.HK', '0046.HK', '0605.HK', '1766.HK', '0372.HK', '1300.HK', '1115.HK', '3363.HK', '2011.HK', '0242.HK', '0648.HK', '1808.HK', '1139.HK', '1383.HK', '0160.HK', '0820.HK', '8028.HK', '0366.HK', '0731.HK', '0802.HK', '1396.HK', '0604.HK', '1266.HK', '1189.HK', '0224.HK', '8193.HK', '0184.HK', '0585.HK', '0431.HK', '0883.HK', '0254.HK', '0455.HK', '1057.HK', '0156.HK', '0093.HK', '2607.HK', '3027.HK', '8162.HK', '0343.HK', '2009.HK', '0480.HK', '0730.HK', '0868.HK', '0687.HK', '6288.HK', '2362.HK', '0295.HK', '0023.HK', '0840.HK', '0590.HK', '0660.HK', '3300.HK', '1025.HK', '0506.HK', '0906.HK', '0075.HK', '0343.HK', '1004.HK', '8137.HK', '0272.HK', '1808.HK', '3331.HK', '2607.HK', '1000.HK', '2193.HK', '2623.HK', '1280.HK', '0613.HK', '0844.HK', '8379.HK', '1105.HK', '3839.HK', '1681.HK', '1271.HK', '0168.HK', '0256.HK', '0130.HK', '6830.HK', '8237.HK', '0041.HK', '0131.HK', '0859.HK', '2212.HK', '0475.HK', '0722.HK', '0713.HK', '0483.HK', '1360.HK', '1999.HK', '2298.HK', '8005.HK', '0853.HK', '3100.HK', '1113.HK', '0995.HK', '8036.HK', '2196.HK', '0589.HK', '0820.HK', '3091.HK', '0567.HK', '3136.HK', '8219.HK', '0988.HK', '6896.HK', '8305.HK', '0423.HK', '8041.HK', '0351.HK', '3608.HK', '1168.HK', '0116.HK', '0268.HK', '0367.HK', '1002.HK', '1087.HK', '1400.HK', '1138.HK', '0863.HK', '0005.HK', '0809.HK', '2211.HK', '1689.HK', '0229.HK', '0853.HK', '3398.HK', '8172.HK', '6133.HK', '3816.HK', '0399.HK', '3055.HK', '0493.HK', '0132.HK']\n",
    "China_A_random=['600582.SS', '600419.SS', '600505.SS', '900937.SS', '600500.SS', '600982.SS', '600075.SS', '600513.SS', '600804.SS', '600201.SS', '600444.SS', '600423.SS', '600128.SS', '600326.SS', '600143.SS', '600059.SS', '601777.SS', '600795.SS', '600588.SS', '600571.SS', '600243.SS', '601555.SS', '603669.SS', '603969.SS', '600478.SS', '512600.SS', '600771.SS', '600058.SS', '600697.SS', '600745.SS', '600721.SS', '600860.SS', '600036.SS', '512510.SS', '600125.SS', '600867.SS', '600113.SS', '600490.SS', '510900.SS', '600645.SS', '600539.SS', '600316.SS', '600763.SS', '600127.SS', '600988.SS', '600076.SS', '600858.SS', '600106.SS', '600622.SS', '601519.SS', '600628.SS', '600337.SS', '600507.SS', '600715.SS', '600468.SS', '600269.SS', '601126.SS', '600096.SS', '600604.SS', '600396.SS', '600273.SS', '600297.SS', '900940.SS', '600241.SS', '600655.SS', '600331.SS', '600550.SS', '600358.SS', '600331.SS', '600671.SS', '603789.SS', '600179.SS', '601288.SS', '600761.SS', '600729.SS', '600549.SS', '600337.SS', '600227.SS', '603678.SS', '600006.SS', '600067.SS', '603600.SS', '600661.SS', '600735.SS', '600281.SS', '603026.SS', '601628.SS', '600971.SS', '600105.SS', '600523.SS', '600750.SS', '900926.SS', '600408.SS', '600658.SS', '603012.SS', '600136.SS', '600643.SS', '510030.SS', '513030.SS', '512330.SS', '600725.SS', '600718.SS', '600730.SS', '600118.SS', '600521.SS', '600433.SS', '600370.SS', '600601.SS', '601288.SS', '512990.SS', '600869.SS', '600967.SS', '600110.SS', '600967.SS', '600115.SS', '603018.SS', '512070.SS', '600545.SS', '600738.SS', '600855.SS', '600267.SS', '600418.SS', '600107.SS', '601799.SS', '600727.SS', '600727.SS', '600499.SS', '601998.SS', '600606.SS', '600118.SS', '600119.SS', '600098.SS', '600696.SS', '601988.SS', '600460.SS', '600420.SS', '600758.SS', '600822.SS', '601766.SS', '603669.SS', '600167.SS', '600325.SS', '603918.SS', '511010.SS', '518880.SS', '603899.SS', '601677.SS', '600262.SS', '600894.SS', '603519.SS', '510880.SS', '601288.SS', '600096.SS', '600707.SS', '600085.SS']"
   ]
  },
  {
   "cell_type": "code",
   "execution_count": 32,
   "id": "e318e45b",
   "metadata": {},
   "outputs": [],
   "source": [
    "df=pd.read_excel(r\"C:\\Users\\Administrator\\Desktop\\ARIN7600\\experiment_result\\Yahoo Ticker Symbols - September 2017.xlsx\")\n"
   ]
  },
  {
   "cell_type": "code",
   "execution_count": 36,
   "id": "5c7588d1",
   "metadata": {},
   "outputs": [],
   "source": [
    "China_A=df[df['Unnamed: 4']=='China']['Yahoo Stock Tickers'].to_list()"
   ]
  },
  {
   "cell_type": "code",
   "execution_count": 37,
   "id": "af67a598",
   "metadata": {},
   "outputs": [],
   "source": [
    "China_A_random=random.choices(China_A,k=180)"
   ]
  },
  {
   "cell_type": "code",
   "execution_count": 12,
   "id": "ad0e66c4",
   "metadata": {},
   "outputs": [],
   "source": [
    "hk_stocks=hk_stocks.to_list()\n",
    "import random\n",
    "hk_stocks_random=random.choices(hk_stocks,k=180)"
   ]
  },
  {
   "cell_type": "code",
   "execution_count": 8,
   "id": "35163f64",
   "metadata": {},
   "outputs": [
    {
     "data": {
      "text/plain": [
       "<Axes: xlabel='Date'>"
      ]
     },
     "execution_count": 8,
     "metadata": {},
     "output_type": "execute_result"
    },
    {
     "data": {
      "image/png": "[encoded data removed]",
      "text/plain": [
       "<Figure size 640x480 with 1 Axes>"
      ]
     },
     "metadata": {},
     "output_type": "display_data"
    }
   ],
   "source": [
    "df=data.get_data_yahoo(tickers='LIVE',start='2010-01-01',end='2023-08-01',progress=False)\n",
    "df['Adj Close'].plot()"
   ]
  },
  {
   "cell_type": "code",
   "execution_count": 6,
   "id": "54cdf728",
   "metadata": {},
   "outputs": [
    {
     "data": {
      "text/plain": [
       "<Axes: xlabel='Date'>"
      ]
     },
     "execution_count": 6,
     "metadata": {},
     "output_type": "execute_result"
    },
    {
     "data": {
      "image/png": "[encoded data removed]",
      "text/plain": [
       "<Figure size 640x480 with 1 Axes>"
      ]
     },
     "metadata": {},
     "output_type": "display_data"
    }
   ],
   "source": [
    "df=data.get_data_yahoo(tickers='ANDE',start='2010-01-01',end='2023-08-01',progress=False)\n",
    "df['Adj Close'].plot()"
   ]
  },
  {
   "cell_type": "code",
   "execution_count": 16,
   "id": "d84dcad2",
   "metadata": {},
   "outputs": [],
   "source": [
    "#buy and hold\n",
    "temp=[]\n",
    "\n",
    "import time\n",
    "\n",
    "counts={}\n",
    "\n",
    "#start=time.time()\n",
    "\n",
    "temp=[]\n",
    "for t in nasdaq_random:\n",
    "    df=data.get_data_yahoo(tickers=t,start='2010-01-01',end='2023-08-01',progress=False)\n",
    "    df_macd = get_macd(df['Close'], 26, 12, 9)\n",
    "    df_enlarged=pd.concat([df,df_macd],axis=1)[1:].reset_index()\n",
    "    temp.append(1000*df_enlarged.iloc[-1]['Adj Close']/df_enlarged.iloc[0]['Adj Close'])\n",
    "    #temp.append(len(df_enlarged))\n",
    "#end=time.time()    \n",
    "#print(end-start)\n",
    "    \n",
    "import numpy as np\n",
    "temp=np.reshape(np.array(temp),(-1,1))\n",
    "res=[]\n",
    "for _ in range(len(temp)):\n",
    "    tmp=[0]*len(temp[0])\n",
    "    res.append(tmp)\n",
    "df_plot=pd.DataFrame(res)\n",
    "\n",
    "for i in range(len(temp)):\n",
    "    for j in range(len(temp[0])):\n",
    "        df_plot.loc[i,j]=temp[i][j]\n",
    "        \n",
    "df_plot.to_excel(\"buy_hold.xlsx\")"
   ]
  },
  {
   "cell_type": "code",
   "execution_count": 9,
   "id": "f9065f1d",
   "metadata": {},
   "outputs": [
    {
     "data": {
      "text/plain": [
       "126.20999908447266"
      ]
     },
     "execution_count": 9,
     "metadata": {},
     "output_type": "execute_result"
    }
   ],
   "source": []
  },
  {
   "cell_type": "code",
   "execution_count": 93,
   "id": "0f7daacb",
   "metadata": {},
   "outputs": [],
   "source": [
    "#almost MACD: how often does it get an MACD golden crossover?\n",
    "temp=[]\n",
    "\n",
    "import time\n",
    "\n",
    "counts={}\n",
    "\n",
    "#start=time.time()\n",
    "\n",
    "for span in range(3,10):\n",
    "    total_count=0\n",
    "    MACD_count=0\n",
    "    for t in nasdaq_random:\n",
    "        df=data.get_data_yahoo(tickers=t,start='2010-01-01',end='2023-08-01',progress=False)\n",
    "        df_macd = get_macd(df['Close'], 26, 12, span)\n",
    "        df_enlarged=pd.concat([df,df_macd],axis=1)[1:].reset_index()\n",
    "        for i in range(2,len(df_enlarged)-1):\n",
    "            if (macd_diff(df_enlarged,i)>macd_diff(df_enlarged,i-1) and \\\n",
    "                macd_diff(df_enlarged,i-1)>macd_diff(df_enlarged,i-2) and macd_diff(df_enlarged,i)<0 \\\n",
    "                and macd_diff(df_enlarged,i)>-0.01):\n",
    "                total_count+=1\n",
    "                if (macd_diff(df_enlarged,i+1)>0 and macd_diff(df_enlarged,i)<0):\n",
    "                    MACD_count+=1\n",
    "                \n",
    "    counts[span]=(MACD_count,total_count)\n",
    "\n",
    "#end=time.time()    \n",
    "#print(end-start)\n",
    "    \n",
    "temp=[]\n",
    "for span in range(3,10):\n",
    "    temp.append(list(counts[span]))\n",
    "\n",
    "res=[]\n",
    "for _ in range(len(temp)):\n",
    "    tmp=[0]*len(temp[0])\n",
    "    res.append(tmp)\n",
    "df_plot=pd.DataFrame(res)\n",
    "\n",
    "for i in range(len(temp)):\n",
    "    for j in range(len(temp[0])):\n",
    "        df_plot.loc[i,j]=temp[i][j]\n",
    "        \n",
    "df_plot.to_excel(\"almost_MACD_find_MACD.xlsx\")"
   ]
  },
  {
   "cell_type": "code",
   "execution_count": null,
   "id": "3f2ed423",
   "metadata": {},
   "outputs": [],
   "source": [
    "#find how many times there will be earning when an MACD golden crossover appears.\n",
    "temp=[]\n",
    "\n",
    "import time\n",
    "\n",
    "counts={}\n",
    "\n",
    "#start=time.time()\n",
    "res={}\n",
    "long_c={}\n",
    "total_c={}\n",
    "for span in range(3,10):\n",
    "    total_count=0\n",
    "    long_count=0\n",
    "    \n",
    "    \n",
    "    res[span]=[]\n",
    "    long_c[span]={}\n",
    "    total_c[span]={}\n",
    "    \n",
    "    maxres=-float(\"inf\")\n",
    "    minres=float(\"inf\")\n",
    "    for t in ['CSWCZ']:\n",
    "        \n",
    "        long_c[span][t]=0\n",
    "        total_c[span][t]=0\n",
    "        \n",
    "        total_profit=1\n",
    "        df=data.get_data_yahoo(tickers=t,start='2010-01-01',end='2023-08-01',progress=False)\n",
    "        df_macd = get_macd(df['Close'], 26, 12, span)\n",
    "        df_enlarged=pd.concat([df,df_macd],axis=1)[1:].reset_index()\n",
    "        for i in range(1,len(df_enlarged)):\n",
    "            if (macd_diff(df_enlarged,i)>0 and macd_diff(df_enlarged,i-1)<0):\n",
    "                total_c[span][t]+=1\n",
    "                total_count+=1\n",
    "                if (df_enlarged.loc[i,'Adj Close']>df_enlarged.loc[i-1,'Adj Close']):\n",
    "                    long_c[span][t]+=1\n",
    "                    long_count+=1\n",
    "                total_profit*=(df_enlarged.loc[i,'Adj Close']/df_enlarged.loc[i-1,'Adj Close'])\n",
    "                #print(span,total_profit,df_enlarged.loc[i,'Adj Close']/df_enlarged.loc[i-1,'Adj Close'],total_count)\n",
    "             \n",
    "                #total_profit+=(df_enlarged.loc[i,'Close']-df_enlarged.loc[i-1,'Close'])\n",
    "                #print(df_enlarged.loc[i,'Close']-df_enlarged.loc[i-1,'Close'])\n",
    "        minres=min(total_profit,minres)\n",
    "        maxres=max(total_profit,maxres)\n",
    "        res[span].append(total_profit)\n",
    "        \n",
    "    counts[span]=(long_count,total_count,minres,maxres)\n",
    "\n",
    "#end=time.time()    \n",
    "#print(end-start)\n",
    "    \n",
    "temp=[]\n",
    "for span in range(3,10):\n",
    "    temp.append(list(counts[span]))\n",
    "\n",
    "rs=[]\n",
    "for _ in range(len(temp)):\n",
    "    tmp=[0]*len(temp[0])\n",
    "    rs.append(tmp)\n",
    "df_plot=pd.DataFrame(rs)\n",
    "\n",
    "for i in range(len(temp)):\n",
    "    for j in range(len(temp[0])):\n",
    "        df_plot.loc[i,j]=temp[i][j]\n",
    "        \n",
    "#df_plot.to_excel(\"long_on_the_day_of_crossover.xlsx\")\n",
    "\n",
    "#import pandas as pd\n",
    "#pd.DataFrame.from_dict(res, orient='index',columns=nasdaq_random).to_excel(\"sell_on_MACD_crossover_nasdaq_random.xlsx\")"
   ]
  },
  {
   "cell_type": "code",
   "execution_count": null,
   "id": "a764a40c",
   "metadata": {},
   "outputs": [],
   "source": [
    "#对应“MACD金死叉对单调2”表格\n",
    "temp=[]\n",
    "for t in ['601318.ss','603938.ss','002229.sz','603722.ss','600519.ss','300065.sz','000002.sz','000010.sz','000035.sz','301487.sz','300570.sz'\\\n",
    "         '688359.ss','301203.sz','000564.sz','002362.sz','688333.ss','002230.sz','002415.sz','002262.sz','001979.sz','601099.ss']:\n",
    "    df=data.get_data_yahoo(tickers=t,start='2010-01-01',end='2023-08-01')\n",
    "    df_macd = get_macd(df['Close'], 26, 12, 9)\n",
    "    df_enlarged=pd.concat([df,df_macd],axis=1)[1:].reset_index()\n",
    "    \n",
    "    temp.append([])\n",
    "    a=naive_backtest(df_enlarged,get_macd_signal)\n",
    "    print(a,end=\"\")\n",
    "    temp[-1].extend(a)\n",
    "    \n",
    "    a=naive_backtest(df_enlarged,get_almost_macd_signal)\n",
    "    print(a)\n",
    "    temp[-1].extend(a)"
   ]
  },
  {
   "cell_type": "code",
   "execution_count": 95,
   "id": "52d6d018",
   "metadata": {},
   "outputs": [],
   "source": [
    "df_plot.to_excel(f\"MACD_and_almost_MACD{span}.xlsx\")"
   ]
  },
  {
   "cell_type": "code",
   "execution_count": 103,
   "id": "e4f62d46",
   "metadata": {},
   "outputs": [],
   "source": [
    "#check how the strategy of buying on the day of MACD golden crossover and buying when almost_MACD is detected\n",
    "#behave w.r.t. each other\n",
    "\n",
    "for span in range(3,10):\n",
    "    temp=[]\n",
    "    for t in nasdaq_random:\n",
    "        #start=time.time()\n",
    "        \n",
    "        df=data.get_data_yahoo(tickers=t,start='2010-01-01',end='2023-08-01',progress=False)\n",
    "        df_macd = get_macd(df['Close'], 26, 12, span)\n",
    "        df_enlarged=pd.concat([df,df_macd],axis=1)[1:].reset_index()\n",
    "\n",
    "        temp.append([])\n",
    "        a=backtest_one_day(df_enlarged,get_macd_signal_new)\n",
    "        #print(a,end=\"\")\n",
    "        temp[-1].extend(a)\n",
    "\n",
    "        a=backtest_one_day(df_enlarged,get_almost_macd_signal)\n",
    "        #print(a)\n",
    "        temp[-1].extend(a)\n",
    " \n",
    "        #end=time.time()\n",
    "    \n",
    "        \n",
    "    \n",
    "    res=[]\n",
    "    for _ in range(len(temp)):\n",
    "        tmp=[0]*len(temp[0])\n",
    "        res.append(tmp)\n",
    "    df_plot=pd.DataFrame(res)\n",
    "\n",
    "    for i in range(len(temp)):\n",
    "        for j in range(len(temp[0])):\n",
    "            df_plot.loc[i,j]=temp[i][j]\n",
    "\n",
    "    df_plot.to_excel(f\"MACD_and_almost_MACD{span}.xlsx\")\n",
    " \n",
    "\n",
    "#print(end-start)"
   ]
  },
  {
   "cell_type": "code",
   "execution_count": 15,
   "id": "02a8cd77",
   "metadata": {},
   "outputs": [],
   "source": [
    "\n",
    "for span in range(3,10):\n",
    "    temp=[]\n",
    "    for t in nasdaq_random:\n",
    "        #start=time.time()\n",
    "        \n",
    "        df=data.get_data_yahoo(tickers=t,start='2010-01-01',end='2023-08-01',progress=False)\n",
    "        df_macd = get_macd(df['Close'], 26, 12, span)\n",
    "        df_enlarged=pd.concat([df,df_macd],axis=1)[1:].reset_index()\n",
    " \n",
    "        temp.append([])\n",
    "        a=backtest_one_day(df_enlarged,get_almost_macd_signal1)\n",
    "        #print(a,end=\"\")\n",
    "        temp[-1].extend(a)\n",
    "\n",
    "        a=backtest_one_day(df_enlarged,get_almost_macd_signal2)\n",
    "        #print(a)\n",
    "        temp[-1].extend(a)\n",
    " \n",
    "        #end=time.time()\n",
    "    res=[]\n",
    "    for _ in range(len(temp)):\n",
    "        tmp=[0]*len(temp[0])\n",
    "        res.append(tmp)\n",
    "    df_plot=pd.DataFrame(res)\n",
    "\n",
    "    for i in range(len(temp)):\n",
    "        for j in range(len(temp[0])):\n",
    "            df_plot.loc[i,j]=temp[i][j]\n",
    "\n",
    "    df_plot.to_excel(f\"MACD_and_almost_MACD{span}.xlsx\")\n",
    " \n",
    "        \n",
    "    \n"
   ]
  },
  {
   "cell_type": "code",
   "execution_count": null,
   "id": "cd2b4464",
   "metadata": {},
   "outputs": [],
   "source": [
    "temp=[]\n",
    "for t in ['601318.ss','603938.ss','002229.sz','603722.ss','600519.ss','300065.sz','000002.sz','000010.sz','000035.sz',\\\n",
    "         '688359.ss','301203.sz','000564.sz','002362.sz','688333.ss','002230.sz','002415.sz','002262.sz','001979.sz','601099.ss']:\n",
    "    df=data.get_data_yahoo(tickers=t,start='2010-01-01',end='2023-08-01')\n",
    "    df_macd = get_macd(df['Close'], 26, 12, 9)\n",
    "    df_enlarged=pd.concat([df,df_macd],axis=1)[1:].reset_index()\n",
    "    \n",
    "    temp.append([])\n",
    "    #a=backtest_one_day_short_possible(df_enlarged,get_macd_signal_new)\n",
    "    #print(a,end=\"\")\n",
    "    #temp[-1].extend(a)\n",
    "    \n",
    "    a=backtest_one_day_short_possible(df_enlarged,get_almost_macd_signal)\n",
    "    print(a)\n",
    "    temp[-1].extend(a)"
   ]
  },
  {
   "cell_type": "code",
   "execution_count": null,
   "id": "85a9eb62",
   "metadata": {},
   "outputs": [],
   "source": [
    "temp=[]\n",
    "for span in range(3,10):\n",
    "    temp.append(list(counts[span]))\n",
    "\n",
    "res=[]\n",
    "for _ in range(len(temp)):\n",
    "    tmp=[0]*len(temp[0])\n",
    "    res.append(tmp)\n",
    "df_plot=pd.DataFrame(res)\n",
    "\n",
    "for i in range(len(temp)):\n",
    "    for j in range(len(temp[0])):\n",
    "        df_plot.loc[i,j]=temp[i][j]\n",
    "        \n",
    "df_plot.to_excel(\"long_on_the_day_of_crossover.xlsx\")"
   ]
  },
  {
   "cell_type": "code",
   "execution_count": 53,
   "id": "a485f55f",
   "metadata": {},
   "outputs": [
    {
     "data": {
      "text/plain": [
       "(160, 29)"
      ]
     },
     "execution_count": 53,
     "metadata": {},
     "output_type": "execute_result"
    }
   ],
   "source": [
    "res.shape"
   ]
  },
  {
   "cell_type": "code",
   "execution_count": 44,
   "id": "8395073d",
   "metadata": {},
   "outputs": [
    {
     "data": {
      "text/plain": [
       "91"
      ]
     },
     "execution_count": 44,
     "metadata": {},
     "output_type": "execute_result"
    }
   ],
   "source": [
    "len(almost_win)"
   ]
  },
  {
   "cell_type": "code",
   "execution_count": 43,
   "id": "adda7ee5",
   "metadata": {},
   "outputs": [],
   "source": [
    "almost_win=[]\n",
    "def almost_win_it(i,k,j):\n",
    "    return ((res[i][4*k+j]>res[i][0]) and (res[i][4*k+j]>res[i][4*k+4]) and (res[i][4*k+j]>1000))\n",
    "    \n",
    "for i in range(len(res)):\n",
    "    for k in range(7):\n",
    "        if (almost_win_it(i,k,1) or almost_win_it(i,k,2) or almost_win_it(i,k,3)):\n",
    "            almost_win.append(i)\n",
    "            break"
   ]
  },
  {
   "cell_type": "code",
   "execution_count": 42,
   "id": "ffe013ae",
   "metadata": {},
   "outputs": [],
   "source": [
    "#现在检验nasdaq_random上\n",
    "#先算buy and hold\n",
    "temp=[]\n",
    "temp1=[]\n",
    "for t in nasdaq_random:\n",
    "    df=data.get_data_yahoo(tickers=t,start='2021-08-01',end='2023-08-01',progress=False)\n",
    "    temp.append(1000*df.iloc[-1]['Adj Close']/df.iloc[0]['Adj Close'])\n",
    "\n",
    "    temp1.append([])\n",
    "    for span in range(3,10):\n",
    "        df_macd = get_macd(df['Close'], 26, 12, span)\n",
    "        df_enlarged=pd.concat([df,df_macd],axis=1)[1:].reset_index()\n",
    "    \n",
    "\n",
    "        a=[backtest_one_day(df_enlarged,get_almost_macd_signal2)[0]]\n",
    "        temp1[-1].extend(a)\n",
    "        a=[backtest_one_day(df_enlarged,get_almost_macd_signal1)[0]]\n",
    "        temp1[-1].extend(a)\n",
    "        a=[backtest_one_day(df_enlarged,get_almost_macd_signal)[0]]\n",
    "        temp1[-1].extend(a)\n",
    "        a=[backtest_one_day(df_enlarged,get_macd_signal_new)[0]]\n",
    "        temp1[-1].extend(a)\n",
    "    \n",
    "    \n",
    "import numpy as np\n",
    "temp=np.reshape(np.array(temp),(-1,1))\n",
    "buy_and_hold=temp\n",
    "MACDs=np.array(temp1)\n",
    "res=np.concatenate((buy_and_hold,MACDs),axis=1)"
   ]
  },
  {
   "cell_type": "code",
   "execution_count": 25,
   "id": "a5197f89",
   "metadata": {},
   "outputs": [],
   "source": [
    "temp=[]\n",
    "temp1=[]\n",
    "for t in hk_stocks_random:\n",
    "    df=data.get_data_yahoo(tickers=t,start='2021-08-01',end='2023-08-01',progress=False)\n",
    "    temp.append(1000*df.iloc[-1]['Adj Close']/df.iloc[0]['Adj Close'])\n",
    "\n",
    "    temp1.append([])\n",
    "    for span in range(3,10):\n",
    "        df_macd = get_macd(df['Close'], 26, 12, span)\n",
    "        df_enlarged=pd.concat([df,df_macd],axis=1)[1:].reset_index()\n",
    "    \n",
    "\n",
    "        a=[backtest_one_day(df_enlarged,get_almost_macd_signal2)[0]]\n",
    "        temp1[-1].extend(a)\n",
    "        a=[backtest_one_day(df_enlarged,get_almost_macd_signal1)[0]]\n",
    "        temp1[-1].extend(a)\n",
    "        a=[backtest_one_day(df_enlarged,get_almost_macd_signal)[0]]\n",
    "        temp1[-1].extend(a)\n",
    "        a=[backtest_one_day(df_enlarged,get_macd_signal_new)[0]]\n",
    "        temp1[-1].extend(a)\n",
    "    \n",
    "    \n",
    "import numpy as np\n",
    "temp=np.reshape(np.array(temp),(-1,1))\n",
    "buy_and_hold=temp\n",
    "MACDs=np.array(temp1)\n",
    "res=np.concatenate((buy_and_hold,MACDs),axis=1)"
   ]
  },
  {
   "cell_type": "code",
   "execution_count": 17,
   "id": "7e81faa0",
   "metadata": {},
   "outputs": [
    {
     "data": {
      "text/plain": [
       "119"
      ]
     },
     "execution_count": 17,
     "metadata": {},
     "output_type": "execute_result"
    }
   ],
   "source": [
    "nasdaq_random.index(\"BTCY\")"
   ]
  },
  {
   "cell_type": "code",
   "execution_count": 14,
   "id": "1aa2864e",
   "metadata": {},
   "outputs": [],
   "source": [
    "temp=[]\n",
    "temp1=[]\n",
    "for t in ['PTPI','DKNG','BTCY']:\n",
    "    df=data.get_data_yahoo(tickers=t,start='2018-08-01',end='2021-07-31',progress=False)\n",
    "    temp.append(1000*df.iloc[-1]['Adj Close']/df.iloc[0]['Adj Close'])\n",
    "\n",
    "    temp1.append([])\n",
    "    for span in range(3,10):\n",
    "        df_macd = get_macd(df['Close'], 26, 12, span)\n",
    "        df_enlarged=pd.concat([df,df_macd],axis=1)[1:].reset_index()\n",
    "    \n",
    "\n",
    "        a=[backtest_one_day(df_enlarged,get_almost_macd_signal2)[0]]\n",
    "        temp1[-1].extend(a)\n",
    "        a=[backtest_one_day(df_enlarged,get_almost_macd_signal1)[0]]\n",
    "        temp1[-1].extend(a)\n",
    "        a=[backtest_one_day(df_enlarged,get_almost_macd_signal)[0]]\n",
    "        temp1[-1].extend(a)\n",
    "        a=[backtest_one_day(df_enlarged,get_macd_signal_new)[0]]\n",
    "        temp1[-1].extend(a)\n",
    "    \n",
    "    \n",
    "import numpy as np\n",
    "temp=np.reshape(np.array(temp),(-1,1))\n",
    "buy_and_hold=temp\n",
    "MACDs=np.array(temp1)\n",
    "res=np.concatenate((buy_and_hold,MACDs),axis=1)"
   ]
  },
  {
   "cell_type": "code",
   "execution_count": 41,
   "id": "73117eaa",
   "metadata": {},
   "outputs": [],
   "source": [
    "temp=[]\n",
    "temp1=[]\n",
    "for t in China_A_random:\n",
    "    df=data.get_data_yahoo(tickers=t,start='2021-08-01',end='2023-08-01',progress=False)\n",
    "    temp.append(1000*df.iloc[-1]['Adj Close']/df.iloc[0]['Adj Close'])\n",
    "\n",
    "    temp1.append([])\n",
    "    for span in range(3,10):\n",
    "        df_macd = get_macd(df['Close'], 26, 12, span)\n",
    "        df_enlarged=pd.concat([df,df_macd],axis=1)[1:].reset_index()\n",
    "    \n",
    "\n",
    "        a=[backtest_one_day(df_enlarged,get_almost_macd_signal2)[0]]\n",
    "        temp1[-1].extend(a)\n",
    "        a=[backtest_one_day(df_enlarged,get_almost_macd_signal1)[0]]\n",
    "        temp1[-1].extend(a)\n",
    "        a=[backtest_one_day(df_enlarged,get_almost_macd_signal)[0]]\n",
    "        temp1[-1].extend(a)\n",
    "        a=[backtest_one_day(df_enlarged,get_macd_signal_new)[0]]\n",
    "        temp1[-1].extend(a)\n",
    "    \n",
    "    \n",
    "import numpy as np\n",
    "temp=np.reshape(np.array(temp),(-1,1))\n",
    "buy_and_hold=temp\n",
    "MACDs=np.array(temp1)\n",
    "res=np.concatenate((buy_and_hold,MACDs),axis=1)"
   ]
  },
  {
   "cell_type": "code",
   "execution_count": 15,
   "id": "aee3e0d1",
   "metadata": {},
   "outputs": [],
   "source": [
    "temp=res#np.concatenate((buy_and_hold,almost_MACD,MACD_crossover),axis=1)\n",
    "rs=[]\n",
    "for _ in range(len(temp)):\n",
    "    tmp=[0]*len(temp[0])\n",
    "    rs.append(tmp)\n",
    "df_plot=pd.DataFrame(rs)\n",
    "\n",
    "for i in range(len(temp)):\n",
    "    for j in range(len(temp[0])):\n",
    "        df_plot.loc[i,j]=temp[i][j]\n",
    "        \n",
    "df_plot.to_excel(\"MACD2yearsSMALLRANDOM.xlsx\")\n"
   ]
  },
  {
   "cell_type": "code",
   "execution_count": 30,
   "id": "735fc71d",
   "metadata": {},
   "outputs": [],
   "source": [
    "count=0\n",
    "for i in range(len(buy_and_hold)):\n",
    "    if ((almost_MACD[i][0]>buy_and_hold[i][0]) and (almost_MACD[i][0]>MACD_crossover[i][0]) and almost_MACD[i][0]>1000):\n",
    "        count+=1"
   ]
  },
  {
   "cell_type": "code",
   "execution_count": 31,
   "id": "614f5153",
   "metadata": {},
   "outputs": [
    {
     "data": {
      "text/plain": [
       "'6133.HK'"
      ]
     },
     "execution_count": 31,
     "metadata": {},
     "output_type": "execute_result"
    }
   ],
   "source": [
    "hk_stocks_random[139]"
   ]
  },
  {
   "cell_type": "code",
   "execution_count": 38,
   "id": "69b5c24e",
   "metadata": {},
   "outputs": [
    {
     "data": {
      "text/plain": [
       "(array([[166.11300689],\n",
       "        [133.22259728]]),\n",
       " array([[ 787.27171598],\n",
       "        [5337.8086191 ]]),\n",
       " array([[895.99371977],\n",
       "        [474.01001391]]))"
      ]
     },
     "execution_count": 38,
     "metadata": {},
     "output_type": "execute_result"
    }
   ],
   "source": [
    "buy_and_hold,almost_MACD,MACD_crossover"
   ]
  },
  {
   "cell_type": "code",
   "execution_count": 40,
   "id": "65073d5a",
   "metadata": {},
   "outputs": [
    {
     "data": {
      "text/plain": [
       "'DKNG'"
      ]
     },
     "execution_count": 40,
     "metadata": {},
     "output_type": "execute_result"
    }
   ],
   "source": [
    "nasdaq_random[101]"
   ]
  },
  {
   "cell_type": "code",
   "execution_count": 41,
   "id": "40af015a",
   "metadata": {},
   "outputs": [
    {
     "data": {
      "text/plain": [
       "array([[3, 4],\n",
       "       [5, 6]])"
      ]
     },
     "execution_count": 41,
     "metadata": {},
     "output_type": "execute_result"
    }
   ],
   "source": [
    "np.reshape(np.array([[3,4],[5,6]]),(-1,2))"
   ]
  },
  {
   "cell_type": "code",
   "execution_count": null,
   "id": "91196f66",
   "metadata": {},
   "outputs": [],
   "source": []
  }
 ],
 "metadata": {
  "kernelspec": {
   "display_name": "Python 3 (ipykernel)",
   "language": "python",
   "name": "python3"
  },
  "language_info": {
   "codemirror_mode": {
    "name": "ipython",
    "version": 3
   },
   "file_extension": ".py",
   "mimetype": "text/x-python",
   "name": "python",
   "nbconvert_exporter": "python",
   "pygments_lexer": "ipython3",
   "version": "3.9.18"
  }
 },
 "nbformat": 4,
 "nbformat_minor": 5
}
