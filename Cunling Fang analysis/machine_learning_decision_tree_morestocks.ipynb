{
 "cells": [
  {
   "cell_type": "code",
   "execution_count": 1,
   "id": "b7381082",
   "metadata": {},
   "outputs": [],
   "source": [
    "from sklearn.preprocessing import StandardScaler\n",
    "from scipy.stats import randint\n",
    "from sklearn.tree import DecisionTreeClassifier\n",
    "from sklearn.model_selection import RandomizedSearchCV\n",
    "from sklearn.model_selection import train_test_split\n",
    "\n",
    "import pandas as pd\n",
    "import yfinance as yf\n",
    "\n",
    "from pandas_datareader import data\n",
    "import matplotlib.pyplot as plt\n",
    "from datetime import datetime, timedelta\n",
    "import talib \n",
    "from dateutil.relativedelta import relativedelta\n",
    "\n",
    "from Tool_v1 import *\n",
    "import numpy as np\n",
    "\n",
    "from sklearn.metrics import accuracy_score\n",
    "from sklearn.metrics import precision_recall_fscore_support\n",
    "from sklearn.metrics import precision_score\n",
    "from sklearn.metrics import recall_score\n",
    "from sklearn.metrics import f1_score\n",
    "# Machine learning\n",
    "from sklearn.linear_model import LogisticRegression\n",
    "from sklearn import metrics\n",
    "from sklearn.model_selection import cross_val_score\n",
    "yf.pdr_override()\n",
    "\n",
    "\n",
    "import time"
   ]
  },
  {
   "cell_type": "code",
   "execution_count": 9,
   "id": "721970d7",
   "metadata": {},
   "outputs": [
    {
     "name": "stdout",
     "output_type": "stream",
     "text": [
      "AAPL 0.7916666666666666 0.7922077922077922 0.7625 0.7770700636942675\n",
      "GOOG 0.8035714285714286 0.88 0.7333333333333333 0.8\n",
      "AMZN 0.8333333333333334 0.8315789473684211 0.8681318681318682 0.849462365591398\n",
      "TSLA 0.8571428571428571 0.8666666666666667 0.8666666666666667 0.8666666666666667\n",
      "BABA 0.7202380952380952 0.6949152542372882 0.5857142857142857 0.6356589147286822\n",
      "PTPI 0.7857142857142857 0.7272727272727273 0.6557377049180327 0.689655172413793\n",
      "BTCY 0.8392857142857143 0.8923076923076924 0.7435897435897436 0.8111888111888114\n",
      "FOX 0.8392857142857143 0.7934782608695652 0.9012345679012346 0.8439306358381502\n",
      "NVDA 0.7857142857142857 0.8266666666666667 0.7294117647058823 0.7749999999999999\n",
      "DIS 0.8214285714285714 0.8493150684931506 0.7654320987654321 0.8051948051948052\n",
      "NKE 0.7857142857142857 0.8705882352941177 0.7474747474747475 0.8043478260869567\n",
      "XOM 0.7857142857142857 0.7802197802197802 0.8160919540229885 0.797752808988764\n",
      "KO 0.8511904761904762 0.8387096774193549 0.8863636363636364 0.861878453038674\n"
     ]
    },
    {
     "name": "stderr",
     "output_type": "stream",
     "text": [
      "C:\\Users\\Administrator\\Desktop\\ARIN7600\\ARIN7600-Capstone-main\\ARIN7600-Capstone-main\\Tool_v1.py:118: RuntimeWarning: invalid value encountered in scalar divide\n",
      "  res.append(now_raise_sum/now_abs_sum)\n"
     ]
    },
    {
     "name": "stdout",
     "output_type": "stream",
     "text": [
      "2319.HK 0.7730061349693251 0.7191011235955056 0.8421052631578947 0.7757575757575758\n"
     ]
    },
    {
     "name": "stderr",
     "output_type": "stream",
     "text": [
      "C:\\Users\\Administrator\\Desktop\\ARIN7600\\ARIN7600-Capstone-main\\ARIN7600-Capstone-main\\Tool_v1.py:118: RuntimeWarning: invalid value encountered in scalar divide\n",
      "  res.append(now_raise_sum/now_abs_sum)\n"
     ]
    },
    {
     "name": "stdout",
     "output_type": "stream",
     "text": [
      "0700.HK 0.7730061349693251 0.7413793103448276 0.6615384615384615 0.6991869918699186\n"
     ]
    },
    {
     "name": "stderr",
     "output_type": "stream",
     "text": [
      "C:\\Users\\Administrator\\Desktop\\ARIN7600\\ARIN7600-Capstone-main\\ARIN7600-Capstone-main\\Tool_v1.py:118: RuntimeWarning: invalid value encountered in scalar divide\n",
      "  res.append(now_raise_sum/now_abs_sum)\n"
     ]
    },
    {
     "name": "stdout",
     "output_type": "stream",
     "text": [
      "1211.HK 0.8220858895705522 0.8695652173913043 0.75 0.8053691275167786\n"
     ]
    },
    {
     "name": "stderr",
     "output_type": "stream",
     "text": [
      "C:\\Users\\Administrator\\Desktop\\ARIN7600\\ARIN7600-Capstone-main\\ARIN7600-Capstone-main\\Tool_v1.py:118: RuntimeWarning: invalid value encountered in scalar divide\n",
      "  res.append(now_raise_sum/now_abs_sum)\n"
     ]
    },
    {
     "name": "stdout",
     "output_type": "stream",
     "text": [
      "6133.hk 0.71875 0.6666666666666666 0.7142857142857143 0.689655172413793\n"
     ]
    },
    {
     "name": "stderr",
     "output_type": "stream",
     "text": [
      "C:\\Users\\Administrator\\Desktop\\ARIN7600\\ARIN7600-Capstone-main\\ARIN7600-Capstone-main\\Tool_v1.py:118: RuntimeWarning: invalid value encountered in scalar divide\n",
      "  res.append(now_raise_sum/now_abs_sum)\n"
     ]
    },
    {
     "name": "stdout",
     "output_type": "stream",
     "text": [
      "2318.HK 0.8650306748466258 0.8311688311688312 0.8767123287671232 0.8533333333333334\n"
     ]
    },
    {
     "name": "stderr",
     "output_type": "stream",
     "text": [
      "C:\\Users\\Administrator\\Desktop\\ARIN7600\\ARIN7600-Capstone-main\\ARIN7600-Capstone-main\\Tool_v1.py:118: RuntimeWarning: invalid value encountered in scalar divide\n",
      "  res.append(now_raise_sum/now_abs_sum)\n"
     ]
    },
    {
     "name": "stdout",
     "output_type": "stream",
     "text": [
      "1448.HK 0.8834355828220859 0.8589743589743589 0.8933333333333333 0.8758169934640523\n"
     ]
    },
    {
     "name": "stderr",
     "output_type": "stream",
     "text": [
      "C:\\Users\\Administrator\\Desktop\\ARIN7600\\ARIN7600-Capstone-main\\ARIN7600-Capstone-main\\Tool_v1.py:118: RuntimeWarning: invalid value encountered in scalar divide\n",
      "  res.append(now_raise_sum/now_abs_sum)\n"
     ]
    },
    {
     "name": "stdout",
     "output_type": "stream",
     "text": [
      "1810.HK 0.7975460122699386 0.8 0.7222222222222222 0.759124087591241\n"
     ]
    },
    {
     "name": "stderr",
     "output_type": "stream",
     "text": [
      "C:\\Users\\Administrator\\Desktop\\ARIN7600\\ARIN7600-Capstone-main\\ARIN7600-Capstone-main\\Tool_v1.py:118: RuntimeWarning: invalid value encountered in scalar divide\n",
      "  res.append(now_raise_sum/now_abs_sum)\n"
     ]
    },
    {
     "name": "stdout",
     "output_type": "stream",
     "text": [
      "3690.HK 0.7852760736196319 0.7469879518072289 0.8157894736842105 0.7798742138364778\n"
     ]
    },
    {
     "name": "stderr",
     "output_type": "stream",
     "text": [
      "C:\\Users\\Administrator\\Desktop\\ARIN7600\\ARIN7600-Capstone-main\\ARIN7600-Capstone-main\\Tool_v1.py:118: RuntimeWarning: invalid value encountered in scalar divide\n",
      "  res.append(now_raise_sum/now_abs_sum)\n"
     ]
    },
    {
     "name": "stdout",
     "output_type": "stream",
     "text": [
      "2018.HK 0.8282208588957055 0.8169014084507042 0.7945205479452054 0.8055555555555557\n"
     ]
    }
   ],
   "source": [
    "stock_name=[\"AAPL\",\"GOOG\",\"AMZN\",\"TSLA\",\"BABA\",\"PTPI\",\"BTCY\",'FOX',\"NVDA\",\"DIS\",\"NKE\",\"XOM\",\"KO\",\n",
    "            \"2319.HK\",\"0700.HK\",\"1211.HK\",\"6133.hk\",'2318.HK','1448.HK','1810.HK',\"3690.HK\",\"2018.HK\"]\n",
    "start=\"2020-12-31\"\n",
    "end=\"2023-09-30\"\n",
    "\n",
    "\n",
    "param_dist = { 'max_depth': randint(2,20),\n",
    "    'min_samples_leaf': randint(5,100),\n",
    "    'criterion': [\"gini\", \"entropy\"]}\n",
    "\n",
    "for name in stock_name:\n",
    "    #MACD619RSI21_8020\n",
    "    stock_data=pct_change(name,start,end)\n",
    "    #stock_data=data.get_data_yahoo(tickers=name,start=start,end=end,progress=False)\n",
    "    stock_data=MACD_short(stock_data)\n",
    "    stock_data=RSI(stock_data)\n",
    "    stock_data=RSI_MACD(stock_data,21,80,20)\n",
    "    stock_data= my_rsi(stock_data, 21)\n",
    "\n",
    "    stock_data = stock_data.dropna()\n",
    "    del stock_data[\"real_situation\"]\n",
    "    #del stock_data[\"RSI6\"]\n",
    "    #del stock_data[\"RSI14\"]\n",
    "\n",
    "    #del stock_data[\"real_situation\"]\n",
    "    #del stock_data[\"Position\"]\n",
    "    #del stock_data[\"Close_price_percentage\"]\n",
    "\n",
    "    y = np.where(stock_data['Open'].shift(-1) > stock_data['Open'],1,-1)\n",
    "    #y = np.where(stock_data['Close'].shift(-1) > stock_data['Close'],1,-1)\n",
    "\n",
    "    X = stock_data.loc[:,[\"re_close\", \"re_open\", \"my_rsi\", \"Position\", \"RSI21\"]].values\n",
    "    X_train, X_test, y_train, y_test = train_test_split(X, y, test_size=0.25)\n",
    "\n",
    "\n",
    "    clf=DecisionTreeClassifier()\n",
    "    rand_search = RandomizedSearchCV(clf, \n",
    "                                     param_distributions = param_dist, \n",
    "                                     n_iter=100, \n",
    "                                     cv=5,scoring='f1')\n",
    "\n",
    "    rand_search.fit(X_train, y_train)\n",
    "    best_rf = rand_search.best_estimator_\n",
    "    y_pred = best_rf.predict(X_test)\n",
    "\n",
    "    accuracy = accuracy_score(y_test, y_pred)\n",
    "    prec=precision_score(y_test, y_pred)\n",
    "    rec=recall_score(y_test, y_pred)\n",
    "    f1=f1_score(y_test,y_pred)\n",
    "    print(name,accuracy,prec,rec,f1)"
   ]
  },
  {
   "cell_type": "code",
   "execution_count": 2,
   "id": "cff3ac06",
   "metadata": {},
   "outputs": [
    {
     "name": "stdout",
     "output_type": "stream",
     "text": [
      "10.723428010940552\n"
     ]
    }
   ],
   "source": [
    "#附录\n",
    "st=time.time()\n",
    "hk_stocks_random=['0237.HK', '1771.HK']\n",
    "#'1118.HK', '0570.HK', '3396.HK', '1515.HK', '2314.HK', '1069.HK', '1966.HK', '1013.HK', '0330.HK', '2948.HK', '8066.HK', '0046.HK', '0605.HK', '1766.HK', '0372.HK', '1300.HK', '1115.HK', '3363.HK', '2011.HK', '0242.HK', '0648.HK', '1808.HK', '1139.HK', '1383.HK', '0160.HK', '0820.HK', '8028.HK', '0366.HK', '0731.HK', '0802.HK', '1396.HK', '0604.HK', '1266.HK', '1189.HK', '0224.HK', '8193.HK', '0184.HK', '0585.HK', '0431.HK', '0883.HK', '0254.HK', '0455.HK', '1057.HK', '0156.HK', '0093.HK', '2607.HK', '3027.HK', '8162.HK', '0343.HK', '2009.HK', '0480.HK', '0730.HK', '0868.HK', '0687.HK', '6288.HK', '2362.HK', '0295.HK', '0023.HK', '0840.HK', '0590.HK', '0660.HK', '3300.HK', '1025.HK', '0506.HK', '0906.HK', '0075.HK', '0343.HK', '1004.HK', '8137.HK', '0272.HK', '1808.HK', '3331.HK', '2607.HK', '1000.HK', '2193.HK', '2623.HK', '1280.HK', '0613.HK', '0844.HK', '8379.HK', '1105.HK', '3839.HK', '1681.HK', '1271.HK', '0168.HK', '0256.HK', '0130.HK', '6830.HK', '8237.HK', '0041.HK', '0131.HK', '0859.HK', '2212.HK', '0475.HK', '0722.HK', '0713.HK', '0483.HK', '1360.HK', '1999.HK', '2298.HK', '8005.HK', '0853.HK', '3100.HK', '1113.HK', '0995.HK', '8036.HK', '2196.HK', '0589.HK', '0820.HK', '3091.HK', '0567.HK', '3136.HK', '8219.HK', '0988.HK', '6896.HK', '8305.HK', '0423.HK', '8041.HK', '0351.HK', '3608.HK', '1168.HK', '0116.HK', '0268.HK', '0367.HK', '1002.HK', '1087.HK', '1400.HK', '1138.HK', '0863.HK', '0005.HK', '0809.HK', '2211.HK', '1689.HK', '0229.HK', '0853.HK', '3398.HK', '8172.HK', '6133.HK', '3816.HK', '0399.HK', '3055.HK', '0493.HK', '0132.HK']\n",
    "\n",
    "st_x= StandardScaler() \n",
    "param_dist = { 'max_depth': randint(2,20),\n",
    "    'min_samples_leaf': randint(5,100),\n",
    "    'criterion': [\"gini\", \"entropy\"]}\n",
    "\n",
    "ans=[]\n",
    "for stock_name in hk_stocks_random:\n",
    "    start=\"2020-12-31\"\n",
    "    end=\"2022-12-31\"\n",
    "    name=stock_name\n",
    "\n",
    "    #MACD619RSI21_8020\n",
    "    stock_data=pct_change(name,start,end)\n",
    "    #stock_data=data.get_data_yahoo(tickers=name,start=start,end=end,progress=False)\n",
    "\n",
    "    stock_data=MACD_short(stock_data)\n",
    "    stock_data=RSI(stock_data)\n",
    "    stock_data=RSI_MACD(stock_data,21,80,20)\n",
    "\n",
    "\n",
    "    stock_data = stock_data.dropna()\n",
    "    del stock_data[\"real_situation\"]\n",
    "    #del stock_data[\"RSI6\"]\n",
    "    #del stock_data[\"RSI14\"]\n",
    "\n",
    "    #del stock_data[\"real_situation\"]\n",
    "    #del stock_data[\"Position\"]\n",
    "    #del stock_data[\"Close_price_percentage\"]\n",
    "\n",
    "    y = np.where(stock_data['Close'].shift(-1) > stock_data['Close'],1,-1)\n",
    "     \n",
    "    stock_data= st_x.fit_transform(stock_data)\n",
    "    X=stock_data\n",
    "    X_train, X_test, y_train, y_test = train_test_split(X, y, test_size=0.25)\n",
    "\n",
    "\n",
    "    clf=DecisionTreeClassifier()\n",
    "    rand_search = RandomizedSearchCV(clf, \n",
    "                                     param_distributions = param_dist, \n",
    "                                     n_iter=100, \n",
    "                                     cv=5)\n",
    "    \n",
    "    rand_search.fit(X_train, y_train)\n",
    "    best_rf = rand_search.best_estimator_\n",
    "    y_pred = best_rf.predict(X_test)\n",
    "    \n",
    "    accuracy = accuracy_score(y_test, y_pred)\n",
    "    if (accuracy>0.7):\n",
    "        ans.append(stock_name)\n",
    "ed=time.time()\n",
    "print(ed-st)"
   ]
  },
  {
   "cell_type": "code",
   "execution_count": 20,
   "id": "1735ccee",
   "metadata": {},
   "outputs": [
    {
     "name": "stdout",
     "output_type": "stream",
     "text": [
      "0.5546218487394958 0.5319148936170213 0.44642857142857145\n"
     ]
    }
   ],
   "source": [
    "st_x= StandardScaler() \n",
    "\n",
    "start=\"2020-12-31\"\n",
    "end=\"2022-12-31\"\n",
    "\n",
    "#name='0237.HK' '8066.HK'\n",
    "\n",
    "#1771\n",
    "name='0001.HK'\n",
    "\n",
    "#MACD619RSI21_8020 \n",
    "stock_data=pct_change(name,start,end)\n",
    "#stock_data=data.get_data_yahoo(tickers=name,start=start,end=end,progress=False)\n",
    "\n",
    "stock_data=MACD_short(stock_data)\n",
    "stock_data=RSI(stock_data)\n",
    "stock_data=RSI_MACD(stock_data,21,80,20)\n",
    "\n",
    "\n",
    "stock_data = stock_data.dropna()\n",
    "del stock_data[\"real_situation\"]\n",
    "#del stock_data[\"RSI6\"]\n",
    "#del stock_data[\"RSI14\"]\n",
    "\n",
    "#del stock_data[\"real_situation\"]\n",
    "#del stock_data[\"Position\"]\n",
    "#del stock_data[\"Close_price_percentage\"]\n",
    "\n",
    "y = np.where(stock_data['Close'].shift(-1) > stock_data['Close'],1,-1)\n",
    "\n",
    "stock_data= st_x.fit_transform(stock_data)\n",
    "X=stock_data\n",
    "X_train, X_test, y_train, y_test = train_test_split(X, y, test_size=0.3)\n",
    "\n",
    "\n",
    "clf=DecisionTreeClassifier()\n",
    "rand_search = RandomizedSearchCV(clf, \n",
    "                                 param_distributions = param_dist, \n",
    "                                 n_iter=100, \n",
    "                                 cv=5,scoring='f1')\n",
    "\n",
    "rand_search.fit(X_train, y_train)\n",
    "best_rf = rand_search.best_estimator_\n",
    "y_pred = best_rf.predict(X_test)\n",
    "\n",
    "accuracy = accuracy_score(y_test, y_pred)\n",
    "prec=precision_score(y_test, y_pred)\n",
    "rec=recall_score(y_test, y_pred)\n",
    "print(accuracy,prec,rec)"
   ]
  }
 ],
 "metadata": {
  "kernelspec": {
   "display_name": "Python 3 (ipykernel)",
   "language": "python",
   "name": "python3"
  },
  "language_info": {
   "codemirror_mode": {
    "name": "ipython",
    "version": 3
   },
   "file_extension": ".py",
   "mimetype": "text/x-python",
   "name": "python",
   "nbconvert_exporter": "python",
   "pygments_lexer": "ipython3",
   "version": "3.9.18"
  }
 },
 "nbformat": 4,
 "nbformat_minor": 5
}
