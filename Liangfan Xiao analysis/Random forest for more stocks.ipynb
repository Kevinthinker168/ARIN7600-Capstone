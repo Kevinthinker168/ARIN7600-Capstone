{
 "cells": [
  {
   "cell_type": "code",
   "execution_count": 1,
   "id": "dba90180",
   "metadata": {},
   "outputs": [],
   "source": [
    "import pandas as pd\n",
    "import yfinance as yf\n",
    "from pandas_datareader import data\n",
    "import matplotlib.pyplot as plt\n",
    "from datetime import datetime, timedelta\n",
    "import talib \n",
    "from dateutil.relativedelta import relativedelta\n",
    "from sklearn.decomposition import PCA\n",
    "import seaborn as sns\n",
    "import numpy as np\n",
    "\n",
    "from Tool_v1 import *\n",
    "\n",
    "# Machine learning\n",
    "from sklearn.ensemble import RandomForestClassifier\n",
    "from sklearn import metrics\n",
    "from sklearn.metrics import accuracy_score, confusion_matrix, precision_score, recall_score, ConfusionMatrixDisplay\n",
    "from sklearn.model_selection import RandomizedSearchCV, train_test_split\n",
    "from scipy.stats import randint\n",
    "\n",
    "from sklearn.model_selection import cross_val_score\n",
    "from sklearn.model_selection import train_test_split\n",
    "from sklearn.preprocessing import StandardScaler  \n",
    "from sklearn.preprocessing import MinMaxScaler\n",
    "yf.pdr_override()"
   ]
  },
  {
   "cell_type": "code",
   "execution_count": 2,
   "id": "bb4fe6be",
   "metadata": {},
   "outputs": [],
   "source": [
    "stock_name=[\"AAPL\",\"GOOG\",\"AMZN\",\"TSLA\",\"BABA\",\"PTPI\",\"BTCY\",'FOX',\"NVDA\",\"DIS\",\"NKE\",\"XOM\",\"KO\",\n",
    "            \"2319.HK\",\"0700.HK\",\"1211.HK\",\"6133.hk\",'2318.HK','1448.HK','1810.HK',\"3690.HK\",\"2018.HK\"]\n",
    "start=\"2020-12-31\"\n",
    "end=\"2023-09-30\"\n",
    "score=[]"
   ]
  },
  {
   "cell_type": "code",
   "execution_count": 3,
   "id": "276ab399",
   "metadata": {},
   "outputs": [
    {
     "name": "stdout",
     "output_type": "stream",
     "text": [
      "Accuracy: 0.8407960199004975\n",
      "\n",
      "Accuracy: 0.8109452736318408\n",
      "\n",
      "Accuracy: 0.8606965174129353\n",
      "\n",
      "Accuracy: 0.8606965174129353\n",
      "\n",
      "Accuracy: 0.736318407960199\n",
      "\n",
      "Accuracy: 0.7810945273631841\n",
      "\n",
      "Accuracy: 0.7611940298507462\n",
      "\n",
      "Accuracy: 0.7711442786069652\n",
      "\n",
      "Accuracy: 0.8109452736318408\n",
      "\n",
      "Accuracy: 0.8208955223880597\n",
      "\n",
      "Accuracy: 0.8159203980099502\n",
      "\n",
      "Accuracy: 0.8258706467661692\n",
      "\n",
      "Accuracy: 0.8308457711442786\n",
      "\n",
      "Accuracy: 0.8367346938775511\n",
      "\n",
      "Accuracy: 0.826530612244898\n",
      "\n",
      "Accuracy: 0.8367346938775511\n",
      "\n",
      "Accuracy: 0.6944444444444444\n",
      "\n",
      "Accuracy: 0.8061224489795918\n",
      "\n",
      "Accuracy: 0.8877551020408163\n",
      "\n",
      "Accuracy: 0.8061224489795918\n",
      "\n",
      "Accuracy: 0.7755102040816326\n",
      "\n",
      "Accuracy: 0.8622448979591837\n",
      "\n"
     ]
    }
   ],
   "source": [
    "for i in stock_name:\n",
    "    #MACD619RSI21_8020\n",
    "    stock_data=pct_change(i,start,end)\n",
    "    stock_data=stock_data.copy()\n",
    "    #指标运算\n",
    "    stock_data=MACD_short(stock_data)\n",
    "    stock_data=RSI(stock_data)\n",
    "    stock_data=RSI_MACD(stock_data,21,80,20)\n",
    "    stock_data= my_rsi(stock_data, 21)\n",
    "    stock_data = stock_data.dropna()\n",
    "    X = stock_data.loc[:,[\"Open\",\"High\",\"Close_price_percentage\",\"log_return\",\"re_close\", \"re_open\", \"MACD\",\"Position\"]].values\n",
    "    #X = stock_data.loc[:,[\"Open\",\"High\",\"Low\",\"Close\"]].values\n",
    "    st_x= StandardScaler()  \n",
    "    X= st_x.fit_transform(X)  \n",
    "\n",
    "    #Y = stock_data.loc[:,[\"up_or_down\"]].values.ravel()\n",
    "    Y = np.where(stock_data['Open'].shift(-1) > stock_data['Open'],1,-1)\n",
    "    #Y = np.where(stock_data['Close'].shift(-1) > stock_data['Close'],1,-1)\n",
    "\n",
    "    #X_train, X_test, Y_train, Y_test = train_test_split(X,Y,train_size=0.8)\n",
    "\n",
    "    split = int(0.7*len(stock_data))\n",
    "    X_train, X_test, Y_train, Y_test = X[:split], X[split:], Y[:split], Y[split:]\n",
    "    \n",
    "    # Random forest\n",
    "    rf = RandomForestClassifier(max_depth= 4, n_estimators=184)\n",
    "    \n",
    "    # Train the model on training data\n",
    "    rf.fit(X_train, Y_train)\n",
    "    Y_pred = rf.predict(X_test)\n",
    "    accuracy = accuracy_score(Y_test, Y_pred)\n",
    "    score.append(accuracy)\n",
    "    print(\"Accuracy:\", accuracy)\n",
    "    \n",
    "    \n",
    "    print()"
   ]
  },
  {
   "cell_type": "code",
   "execution_count": 5,
   "id": "01d4cbde",
   "metadata": {},
   "outputs": [
    {
     "data": {
      "image/png": "[encoded data removed]",
      "text/plain": [
       "<Figure size 1440x720 with 1 Axes>"
      ]
     },
     "metadata": {
      "needs_background": "light"
     },
     "output_type": "display_data"
    }
   ],
   "source": [
    "plt.figure(figsize=(20, 10))\n",
    "plt.bar(stock_name, score)\n",
    "\n",
    "\n",
    "plt.xlabel('Stock')\n",
    "plt.ylabel('Score')\n",
    "\n",
    "plt.savefig('random forest Score.png')\n",
    "# 显示图形\n",
    "plt.show()"
   ]
  },
  {
   "cell_type": "code",
   "execution_count": null,
   "id": "ee0223fa",
   "metadata": {},
   "outputs": [],
   "source": []
  }
 ],
 "metadata": {
  "kernelspec": {
   "display_name": "Python 3 (ipykernel)",
   "language": "python",
   "name": "python3"
  },
  "language_info": {
   "codemirror_mode": {
    "name": "ipython",
    "version": 3
   },
   "file_extension": ".py",
   "mimetype": "text/x-python",
   "name": "python",
   "nbconvert_exporter": "python",
   "pygments_lexer": "ipython3",
   "version": "3.9.12"
  }
 },
 "nbformat": 4,
 "nbformat_minor": 5
}
