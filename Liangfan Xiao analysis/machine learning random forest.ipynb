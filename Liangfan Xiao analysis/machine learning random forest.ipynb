{
 "cells": [
  {
   "cell_type": "code",
   "execution_count": 1,
   "id": "e8fea681",
   "metadata": {},
   "outputs": [],
   "source": [
    "import pandas as pd\n",
    "import yfinance as yf\n",
    "from pandas_datareader import data\n",
    "import matplotlib.pyplot as plt\n",
    "from datetime import datetime, timedelta\n",
    "import talib \n",
    "from dateutil.relativedelta import relativedelta\n",
    "from sklearn.decomposition import PCA\n",
    "import seaborn as sns\n",
    "import numpy as np\n",
    "\n",
    "from Tool_v1 import *\n",
    "\n",
    "# Machine learning\n",
    "from sklearn.ensemble import RandomForestClassifier\n",
    "from sklearn import metrics\n",
    "from sklearn.metrics import accuracy_score, confusion_matrix, precision_score, recall_score, ConfusionMatrixDisplay\n",
    "from sklearn.model_selection import RandomizedSearchCV, train_test_split\n",
    "from scipy.stats import randint\n",
    "\n",
    "from sklearn.model_selection import cross_val_score\n",
    "from sklearn.model_selection import train_test_split\n",
    "from sklearn.preprocessing import StandardScaler  \n",
    "from sklearn.preprocessing import MinMaxScaler\n",
    "yf.pdr_override()"
   ]
  },
  {
   "cell_type": "code",
   "execution_count": 2,
   "id": "4998c671",
   "metadata": {},
   "outputs": [
    {
     "name": "stdout",
     "output_type": "stream",
     "text": [
      "            re_close   re_open    my_rsi  Position      RSI21\n",
      "Date                                                         \n",
      "2021-02-03  0.152778  0.995366  0.454127        -1  54.368370\n",
      "2021-02-04  0.996443  0.608544  0.526673        -1  57.348233\n",
      "2021-02-05  0.576920  0.955133  0.486111        -1  56.639046\n",
      "2021-02-08  0.975489  0.544116  0.517102        -1  56.772694\n",
      "2021-02-09  0.078812  0.379305  0.465740        -1  55.691336\n",
      "...              ...       ...       ...       ...        ...\n",
      "2022-12-23  0.798562  0.460431  0.365719        -1  39.225752\n",
      "2022-12-27  0.486987  0.988848  0.332003        -1  37.826304\n",
      "2022-12-28  0.032945  0.736434  0.308548        -1  34.970080\n",
      "2022-12-29  0.683637  0.094544  0.337056        -1  39.277645\n",
      "2022-12-30  0.992062  0.388891  0.380272        -1  39.653853\n",
      "\n",
      "[482 rows x 5 columns]\n",
      "[[-1.128675    1.69633022 -0.56773884 -0.95535251  0.30374278]\n",
      " [ 1.44811211  0.40808075 -0.0650234  -0.95535251  0.63931812]\n",
      " [ 0.1667717   1.5623418  -0.34610168 -0.95535251  0.55945349]\n",
      " ...\n",
      " [-1.49467818  0.83399796 -1.57655733 -0.95535251 -1.88078283]\n",
      " [ 0.49271569 -1.30371528 -1.37900648 -0.95535251 -1.39568923]\n",
      " [ 1.43472995 -0.32343914 -1.07952838 -0.95535251 -1.35332277]]\n"
     ]
    }
   ],
   "source": [
    "start=\"2020-12-31\"\n",
    "end=\"2022-12-31\"\n",
    "name=\"AAPL\"\n",
    "\n",
    "#MACD619RSI21_8020\n",
    "stock_data=pct_change(name,start,end)\n",
    "stock_data=stock_data.copy()\n",
    "\n",
    "#指标运算\n",
    "stock_data=MACD_short(stock_data)\n",
    "stock_data=RSI(stock_data)\n",
    "stock_data=RSI_MACD(stock_data,21,80,20)\n",
    "stock_data= my_rsi(stock_data, 21)\n",
    "del stock_data[\"real_situation\"]\n",
    "stock_data = stock_data.dropna()\n",
    "\n",
    "\n",
    "#print(stock_data)\n",
    "\n",
    "\n",
    "#X = stock_data.loc[:,[\"re_close\", \"re_open\", \"my_rsi\", \"Position\", \"RSI21\"]].values\n",
    "X = stock_data.loc[:,[\"re_close\", \"re_open\", \"my_rsi\", \"Position\", \"RSI21\"]]\n",
    "print(X)\n",
    "st_x= StandardScaler()  \n",
    "X= st_x.fit_transform(X)  \n",
    "print(X)\n",
    "#Y = stock_data.loc[:,[\"up_or_down\"]].values.ravel()\n",
    "Y = np.where(stock_data['Open'].shift(-1) > stock_data['Open'],1,-1)"
   ]
  },
  {
   "cell_type": "code",
   "execution_count": 3,
   "id": "0b7406e9",
   "metadata": {},
   "outputs": [
    {
     "name": "stdout",
     "output_type": "stream",
     "text": [
      "The shape of our features is: (482, 20)\n"
     ]
    },
    {
     "data": {
      "text/html": [
       "<div>\n",
       "<style scoped>\n",
       "    .dataframe tbody tr th:only-of-type {\n",
       "        vertical-align: middle;\n",
       "    }\n",
       "\n",
       "    .dataframe tbody tr th {\n",
       "        vertical-align: top;\n",
       "    }\n",
       "\n",
       "    .dataframe thead th {\n",
       "        text-align: right;\n",
       "    }\n",
       "</style>\n",
       "<table border=\"1\" class=\"dataframe\">\n",
       "  <thead>\n",
       "    <tr style=\"text-align: right;\">\n",
       "      <th></th>\n",
       "      <th>Open</th>\n",
       "      <th>High</th>\n",
       "      <th>Low</th>\n",
       "      <th>Close</th>\n",
       "      <th>Adj Close</th>\n",
       "      <th>Volume</th>\n",
       "      <th>Close_price_percentage</th>\n",
       "      <th>log_return</th>\n",
       "      <th>re_close</th>\n",
       "      <th>re_open</th>\n",
       "      <th>up_or_down</th>\n",
       "      <th>EMA6</th>\n",
       "      <th>EMA19</th>\n",
       "      <th>DIF</th>\n",
       "      <th>MACD</th>\n",
       "      <th>Position</th>\n",
       "      <th>RSI6</th>\n",
       "      <th>RSI14</th>\n",
       "      <th>RSI21</th>\n",
       "      <th>my_rsi</th>\n",
       "    </tr>\n",
       "  </thead>\n",
       "  <tbody>\n",
       "    <tr>\n",
       "      <th>count</th>\n",
       "      <td>482.000000</td>\n",
       "      <td>482.000000</td>\n",
       "      <td>482.000000</td>\n",
       "      <td>482.000000</td>\n",
       "      <td>482.000000</td>\n",
       "      <td>4.820000e+02</td>\n",
       "      <td>482.000000</td>\n",
       "      <td>482.000000</td>\n",
       "      <td>482.000000</td>\n",
       "      <td>482.000000</td>\n",
       "      <td>482.000000</td>\n",
       "      <td>482.000000</td>\n",
       "      <td>482.000000</td>\n",
       "      <td>482.000000</td>\n",
       "      <td>482.000000</td>\n",
       "      <td>482.000000</td>\n",
       "      <td>482.000000</td>\n",
       "      <td>482.000000</td>\n",
       "      <td>482.000000</td>\n",
       "      <td>482.000000</td>\n",
       "    </tr>\n",
       "    <tr>\n",
       "      <th>mean</th>\n",
       "      <td>148.452843</td>\n",
       "      <td>150.243755</td>\n",
       "      <td>146.719606</td>\n",
       "      <td>148.539606</td>\n",
       "      <td>147.123387</td>\n",
       "      <td>8.806619e+07</td>\n",
       "      <td>0.000106</td>\n",
       "      <td>-0.000079</td>\n",
       "      <td>0.522317</td>\n",
       "      <td>0.486010</td>\n",
       "      <td>0.506224</td>\n",
       "      <td>148.567464</td>\n",
       "      <td>148.517275</td>\n",
       "      <td>0.050189</td>\n",
       "      <td>0.110200</td>\n",
       "      <td>-0.045643</td>\n",
       "      <td>51.273375</td>\n",
       "      <td>51.534428</td>\n",
       "      <td>51.671175</td>\n",
       "      <td>0.536056</td>\n",
       "    </tr>\n",
       "    <tr>\n",
       "      <th>std</th>\n",
       "      <td>15.435325</td>\n",
       "      <td>15.662461</td>\n",
       "      <td>15.259497</td>\n",
       "      <td>15.487822</td>\n",
       "      <td>15.520966</td>\n",
       "      <td>2.600389e+07</td>\n",
       "      <td>0.019292</td>\n",
       "      <td>0.019268</td>\n",
       "      <td>0.327750</td>\n",
       "      <td>0.300581</td>\n",
       "      <td>0.500481</td>\n",
       "      <td>15.105587</td>\n",
       "      <td>14.398706</td>\n",
       "      <td>3.393645</td>\n",
       "      <td>2.991616</td>\n",
       "      <td>0.999996</td>\n",
       "      <td>18.451699</td>\n",
       "      <td>11.502619</td>\n",
       "      <td>8.889090</td>\n",
       "      <td>0.144457</td>\n",
       "    </tr>\n",
       "    <tr>\n",
       "      <th>min</th>\n",
       "      <td>119.029999</td>\n",
       "      <td>120.400002</td>\n",
       "      <td>116.209999</td>\n",
       "      <td>116.360001</td>\n",
       "      <td>114.662354</td>\n",
       "      <td>3.519590e+07</td>\n",
       "      <td>-0.058680</td>\n",
       "      <td>-0.060472</td>\n",
       "      <td>0.004184</td>\n",
       "      <td>0.000000</td>\n",
       "      <td>0.000000</td>\n",
       "      <td>120.670024</td>\n",
       "      <td>122.277311</td>\n",
       "      <td>-8.365363</td>\n",
       "      <td>-6.865316</td>\n",
       "      <td>-1.000000</td>\n",
       "      <td>7.736545</td>\n",
       "      <td>28.534189</td>\n",
       "      <td>34.155729</td>\n",
       "      <td>0.214765</td>\n",
       "    </tr>\n",
       "    <tr>\n",
       "      <th>25%</th>\n",
       "      <td>136.637497</td>\n",
       "      <td>138.002502</td>\n",
       "      <td>134.672497</td>\n",
       "      <td>136.922504</td>\n",
       "      <td>135.267548</td>\n",
       "      <td>7.036815e+07</td>\n",
       "      <td>-0.010888</td>\n",
       "      <td>-0.010948</td>\n",
       "      <td>0.222401</td>\n",
       "      <td>0.210385</td>\n",
       "      <td>0.000000</td>\n",
       "      <td>137.733277</td>\n",
       "      <td>139.537363</td>\n",
       "      <td>-2.585637</td>\n",
       "      <td>-2.203696</td>\n",
       "      <td>-1.000000</td>\n",
       "      <td>37.496099</td>\n",
       "      <td>42.234511</td>\n",
       "      <td>44.601305</td>\n",
       "      <td>0.411128</td>\n",
       "    </tr>\n",
       "    <tr>\n",
       "      <th>50%</th>\n",
       "      <td>147.800003</td>\n",
       "      <td>149.290001</td>\n",
       "      <td>146.149994</td>\n",
       "      <td>148.019997</td>\n",
       "      <td>146.601746</td>\n",
       "      <td>8.325120e+07</td>\n",
       "      <td>-0.000168</td>\n",
       "      <td>-0.000168</td>\n",
       "      <td>0.521322</td>\n",
       "      <td>0.510534</td>\n",
       "      <td>1.000000</td>\n",
       "      <td>147.128376</td>\n",
       "      <td>147.257022</td>\n",
       "      <td>0.032519</td>\n",
       "      <td>0.144469</td>\n",
       "      <td>-1.000000</td>\n",
       "      <td>50.759674</td>\n",
       "      <td>50.363990</td>\n",
       "      <td>50.450072</td>\n",
       "      <td>0.524476</td>\n",
       "    </tr>\n",
       "    <tr>\n",
       "      <th>75%</th>\n",
       "      <td>160.012505</td>\n",
       "      <td>162.709995</td>\n",
       "      <td>157.697502</td>\n",
       "      <td>159.952496</td>\n",
       "      <td>158.527992</td>\n",
       "      <td>9.926695e+07</td>\n",
       "      <td>0.012633</td>\n",
       "      <td>0.012554</td>\n",
       "      <td>0.852592</td>\n",
       "      <td>0.743418</td>\n",
       "      <td>1.000000</td>\n",
       "      <td>160.735385</td>\n",
       "      <td>161.265322</td>\n",
       "      <td>2.456426</td>\n",
       "      <td>2.084092</td>\n",
       "      <td>1.000000</td>\n",
       "      <td>64.654176</td>\n",
       "      <td>59.896145</td>\n",
       "      <td>58.027936</td>\n",
       "      <td>0.646331</td>\n",
       "    </tr>\n",
       "    <tr>\n",
       "      <th>max</th>\n",
       "      <td>182.630005</td>\n",
       "      <td>182.940002</td>\n",
       "      <td>179.119995</td>\n",
       "      <td>182.009995</td>\n",
       "      <td>180.190964</td>\n",
       "      <td>1.954327e+08</td>\n",
       "      <td>0.088975</td>\n",
       "      <td>0.085236</td>\n",
       "      <td>1.000000</td>\n",
       "      <td>1.000000</td>\n",
       "      <td>1.000000</td>\n",
       "      <td>179.168205</td>\n",
       "      <td>175.157704</td>\n",
       "      <td>8.219328</td>\n",
       "      <td>6.742969</td>\n",
       "      <td>1.000000</td>\n",
       "      <td>94.519508</td>\n",
       "      <td>81.306163</td>\n",
       "      <td>75.035441</td>\n",
       "      <td>0.875963</td>\n",
       "    </tr>\n",
       "  </tbody>\n",
       "</table>\n",
       "</div>"
      ],
      "text/plain": [
       "             Open        High         Low       Close   Adj Close  \\\n",
       "count  482.000000  482.000000  482.000000  482.000000  482.000000   \n",
       "mean   148.452843  150.243755  146.719606  148.539606  147.123387   \n",
       "std     15.435325   15.662461   15.259497   15.487822   15.520966   \n",
       "min    119.029999  120.400002  116.209999  116.360001  114.662354   \n",
       "25%    136.637497  138.002502  134.672497  136.922504  135.267548   \n",
       "50%    147.800003  149.290001  146.149994  148.019997  146.601746   \n",
       "75%    160.012505  162.709995  157.697502  159.952496  158.527992   \n",
       "max    182.630005  182.940002  179.119995  182.009995  180.190964   \n",
       "\n",
       "             Volume  Close_price_percentage  log_return    re_close  \\\n",
       "count  4.820000e+02              482.000000  482.000000  482.000000   \n",
       "mean   8.806619e+07                0.000106   -0.000079    0.522317   \n",
       "std    2.600389e+07                0.019292    0.019268    0.327750   \n",
       "min    3.519590e+07               -0.058680   -0.060472    0.004184   \n",
       "25%    7.036815e+07               -0.010888   -0.010948    0.222401   \n",
       "50%    8.325120e+07               -0.000168   -0.000168    0.521322   \n",
       "75%    9.926695e+07                0.012633    0.012554    0.852592   \n",
       "max    1.954327e+08                0.088975    0.085236    1.000000   \n",
       "\n",
       "          re_open  up_or_down        EMA6       EMA19         DIF        MACD  \\\n",
       "count  482.000000  482.000000  482.000000  482.000000  482.000000  482.000000   \n",
       "mean     0.486010    0.506224  148.567464  148.517275    0.050189    0.110200   \n",
       "std      0.300581    0.500481   15.105587   14.398706    3.393645    2.991616   \n",
       "min      0.000000    0.000000  120.670024  122.277311   -8.365363   -6.865316   \n",
       "25%      0.210385    0.000000  137.733277  139.537363   -2.585637   -2.203696   \n",
       "50%      0.510534    1.000000  147.128376  147.257022    0.032519    0.144469   \n",
       "75%      0.743418    1.000000  160.735385  161.265322    2.456426    2.084092   \n",
       "max      1.000000    1.000000  179.168205  175.157704    8.219328    6.742969   \n",
       "\n",
       "         Position        RSI6       RSI14       RSI21      my_rsi  \n",
       "count  482.000000  482.000000  482.000000  482.000000  482.000000  \n",
       "mean    -0.045643   51.273375   51.534428   51.671175    0.536056  \n",
       "std      0.999996   18.451699   11.502619    8.889090    0.144457  \n",
       "min     -1.000000    7.736545   28.534189   34.155729    0.214765  \n",
       "25%     -1.000000   37.496099   42.234511   44.601305    0.411128  \n",
       "50%     -1.000000   50.759674   50.363990   50.450072    0.524476  \n",
       "75%      1.000000   64.654176   59.896145   58.027936    0.646331  \n",
       "max      1.000000   94.519508   81.306163   75.035441    0.875963  "
      ]
     },
     "execution_count": 3,
     "metadata": {},
     "output_type": "execute_result"
    }
   ],
   "source": [
    "print('The shape of our features is:', stock_data.shape)\n",
    "# Descriptive statistics for each column\n",
    "stock_data.describe()"
   ]
  },
  {
   "cell_type": "code",
   "execution_count": 4,
   "id": "7c96472a",
   "metadata": {},
   "outputs": [],
   "source": [
    "#X_train, X_test, Y_train, Y_test = train_test_split(X, Y, test_size=0.20)\n",
    "\n",
    "split = int(0.8*len(stock_data))\n",
    "X_train, X_test, Y_train, Y_test = X[:split], X[split:], Y[:split], Y[split:]"
   ]
  },
  {
   "cell_type": "code",
   "execution_count": 5,
   "id": "896e4cb9",
   "metadata": {
    "scrolled": true
   },
   "outputs": [
    {
     "name": "stdout",
     "output_type": "stream",
     "text": [
      "Training Features Shape: (385, 5)\n",
      "Training Labels Shape: (385,)\n",
      "Testing Features Shape: (97, 5)\n",
      "Testing Labels Shape: (97,)\n"
     ]
    }
   ],
   "source": [
    "print('Training Features Shape:', X_train.shape)\n",
    "print('Training Labels Shape:', Y_train.shape)\n",
    "print('Testing Features Shape:', X_test.shape)\n",
    "print('Testing Labels Shape:', Y_test.shape)"
   ]
  },
  {
   "cell_type": "code",
   "execution_count": 6,
   "id": "5e1156fd",
   "metadata": {},
   "outputs": [
    {
     "data": {
      "text/plain": [
       "RandomForestClassifier(max_depth=4, n_estimators=184)"
      ]
     },
     "execution_count": 6,
     "metadata": {},
     "output_type": "execute_result"
    }
   ],
   "source": [
    "\n",
    "# Instantiate model with 1000 decision trees\n",
    "rf = RandomForestClassifier(max_depth= 4, n_estimators=184)\n",
    "# Train the model on training data\n",
    "rf.fit(X_train, Y_train)"
   ]
  },
  {
   "cell_type": "code",
   "execution_count": 7,
   "id": "86488870",
   "metadata": {},
   "outputs": [
    {
     "name": "stdout",
     "output_type": "stream",
     "text": [
      "Accuracy: 0.8041237113402062\n"
     ]
    }
   ],
   "source": [
    "Y_pred = rf.predict(X_test)\n",
    "accuracy = accuracy_score(Y_test, Y_pred)\n",
    "print(\"Accuracy:\", accuracy)"
   ]
  },
  {
   "cell_type": "code",
   "execution_count": 8,
   "id": "1ff29b18",
   "metadata": {},
   "outputs": [
    {
     "data": {
      "text/plain": [
       "RandomizedSearchCV(cv=5, estimator=RandomForestClassifier(), n_iter=5,\n",
       "                   param_distributions={'max_depth': <scipy.stats._distn_infrastructure.rv_discrete_frozen object at 0x7fbe34354cd0>,\n",
       "                                        'n_estimators': <scipy.stats._distn_infrastructure.rv_discrete_frozen object at 0x7fbe3427e0d0>})"
      ]
     },
     "execution_count": 8,
     "metadata": {},
     "output_type": "execute_result"
    }
   ],
   "source": [
    "param_dist = {'n_estimators': randint(50,500),\n",
    "              'max_depth': randint(1,20)}\n",
    "\n",
    "# Create a random forest classifier\n",
    "rf = RandomForestClassifier()\n",
    "\n",
    "# Use random search to find the best hyperparameters\n",
    "rand_search = RandomizedSearchCV(rf, \n",
    "                                 param_distributions = param_dist, \n",
    "                                 n_iter=5, \n",
    "                                 cv=5)\n",
    "\n",
    "# Fit the random search object to the data\n",
    "rand_search.fit(X_train, Y_train)"
   ]
  },
  {
   "cell_type": "code",
   "execution_count": 9,
   "id": "ea2006c9",
   "metadata": {},
   "outputs": [
    {
     "name": "stdout",
     "output_type": "stream",
     "text": [
      "Best hyperparameters: {'max_depth': 1, 'n_estimators': 58}\n"
     ]
    }
   ],
   "source": [
    "# Create a variable for the best model\n",
    "best_rf = rand_search.best_estimator_\n",
    "\n",
    "# Print the best hyperparameters\n",
    "print('Best hyperparameters:',  rand_search.best_params_)\n",
    "\n"
   ]
  },
  {
   "cell_type": "code",
   "execution_count": 10,
   "id": "98ca7f1d",
   "metadata": {},
   "outputs": [
    {
     "data": {
      "image/png": "[encoded data removed]",
      "text/plain": [
       "<Figure size 432x288 with 2 Axes>"
      ]
     },
     "metadata": {
      "needs_background": "light"
     },
     "output_type": "display_data"
    }
   ],
   "source": [
    "Y_pred = best_rf.predict(X_test)\n",
    "\n",
    "# Create the confusion matrix\n",
    "cm = confusion_matrix(Y_test, Y_pred)\n",
    "\n",
    "ConfusionMatrixDisplay(confusion_matrix=cm).plot();"
   ]
  },
  {
   "cell_type": "code",
   "execution_count": 11,
   "id": "228fe6b2",
   "metadata": {},
   "outputs": [
    {
     "name": "stdout",
     "output_type": "stream",
     "text": [
      "Accuracy: 0.7938144329896907\n",
      "Precision: 0.7560975609756098\n",
      "Recall: 0.7560975609756098\n"
     ]
    }
   ],
   "source": [
    "Y_pred = best_rf.predict(X_test)\n",
    "\n",
    "accuracy = accuracy_score(Y_test, Y_pred)\n",
    "precision = precision_score(Y_test, Y_pred)\n",
    "recall = recall_score(Y_test, Y_pred)\n",
    "\n",
    "print(\"Accuracy:\", accuracy)\n",
    "print(\"Precision:\", precision)\n",
    "print(\"Recall:\", recall)"
   ]
  },
  {
   "cell_type": "code",
   "execution_count": 12,
   "id": "1ee8de7a",
   "metadata": {},
   "outputs": [
    {
     "data": {
      "image/png": "[encoded data removed]",
      "text/plain": [
       "<Figure size 432x288 with 1 Axes>"
      ]
     },
     "metadata": {
      "needs_background": "light"
     },
     "output_type": "display_data"
    }
   ],
   "source": [
    "# Create a series containing feature importances from the model and feature names from the training data\n",
    "feature_importances = pd.Series(best_rf.feature_importances_).sort_values(ascending=False)\n",
    "\n",
    "# Plot a simple bar chart\n",
    "feature_importances.plot.bar();"
   ]
  },
  {
   "cell_type": "code",
   "execution_count": null,
   "id": "ed269239",
   "metadata": {},
   "outputs": [],
   "source": []
  }
 ],
 "metadata": {
  "kernelspec": {
   "display_name": "Python 3 (ipykernel)",
   "language": "python",
   "name": "python3"
  },
  "language_info": {
   "codemirror_mode": {
    "name": "ipython",
    "version": 3
   },
   "file_extension": ".py",
   "mimetype": "text/x-python",
   "name": "python",
   "nbconvert_exporter": "python",
   "pygments_lexer": "ipython3",
   "version": "3.11.5"
  }
 },
 "nbformat": 4,
 "nbformat_minor": 5
}
