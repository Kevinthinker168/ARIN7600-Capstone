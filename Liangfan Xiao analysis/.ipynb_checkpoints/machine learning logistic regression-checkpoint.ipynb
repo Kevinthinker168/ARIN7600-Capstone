{
 "cells": [
  {
   "cell_type": "code",
   "execution_count": 1,
   "id": "f4e384d4",
   "metadata": {},
   "outputs": [],
   "source": [
    "import pandas as pd\n",
    "import yfinance as yf\n",
    "from pandas_datareader import data\n",
    "import matplotlib.pyplot as plt\n",
    "from datetime import datetime, timedelta\n",
    "import talib \n",
    "from dateutil.relativedelta import relativedelta\n",
    "from sklearn.decomposition import PCA\n",
    "\n",
    "from Tools import *\n",
    "from Tools2 import *\n",
    "import numpy as np\n",
    "\n",
    "# Machine learning\n",
    "from sklearn.linear_model import LogisticRegression\n",
    "from sklearn import metrics\n",
    "from sklearn.model_selection import cross_val_score\n",
    "\n",
    "from sklearn.preprocessing import StandardScaler  \n",
    "from sklearn.preprocessing import MinMaxScaler\n",
    "yf.pdr_override()"
   ]
  },
  {
   "cell_type": "code",
   "execution_count": 2,
   "id": "f97e4cde",
   "metadata": {},
   "outputs": [
    {
     "name": "stdout",
     "output_type": "stream",
     "text": [
      "4095\n"
     ]
    }
   ],
   "source": [
    "from itertools import combinations\n",
    "c = (1,2,3,4,5,6,7,8,9,10,11,12) \n",
    "i=0\n",
    "result=[]\n",
    "while i<len(c):\n",
    "    for j in combinations(c,i):\n",
    "        #print(list(j))\n",
    "        result.append(list(j))\n",
    "    i+=1 \n",
    "print(len(result))"
   ]
  },
  {
   "cell_type": "code",
   "execution_count": 3,
   "id": "dba22bc7",
   "metadata": {
    "scrolled": true
   },
   "outputs": [
    {
     "name": "stdout",
     "output_type": "stream",
     "text": [
      "                  Open        High         Low       Close   Adj Close  \\\n",
      "Date                                                                     \n",
      "2021-02-02  135.729996  136.309998  134.610001  134.990005  132.822067   \n",
      "2021-02-03  135.759995  135.770004  133.610001  133.940002  131.788971   \n",
      "2021-02-04  136.300003  137.399994  134.589996  137.389999  135.183517   \n",
      "2021-02-05  137.350006  137.419998  135.860001  136.759995  134.764709   \n",
      "2021-02-08  136.029999  136.960007  134.919998  136.910004  134.912552   \n",
      "...                ...         ...         ...         ...         ...   \n",
      "2022-12-23  130.919998  132.419998  129.639999  131.860001  131.299820   \n",
      "2022-12-27  131.380005  131.410004  128.720001  130.029999  129.477600   \n",
      "2022-12-28  129.669998  131.029999  125.870003  126.040001  125.504539   \n",
      "2022-12-29  127.989998  130.479996  127.730003  129.610001  129.059387   \n",
      "2022-12-30  128.410004  129.949997  127.430000  129.929993  129.378006   \n",
      "\n",
      "              Volume        EMA6       EMA19       DIF      MACD       RSI6  \\\n",
      "Date                                                                          \n",
      "2021-02-02  83305400  135.742787  134.691455  1.051332  1.888470  47.513609   \n",
      "2021-02-03  89880900  135.227706  134.616310  0.611396  1.633055  43.944185   \n",
      "2021-02-04  84183100  135.845504  134.893679  0.951825  1.496809  56.753832   \n",
      "2021-02-05  75693800  136.106787  135.080310  1.026476  1.402743  54.047396   \n",
      "2021-02-08  71297200  136.336277  135.263280  1.072998  1.336794  54.665114   \n",
      "...              ...         ...         ...       ...       ...        ...   \n",
      "2022-12-23  63814900  134.005551  138.976031 -4.970479 -3.837252  28.572084   \n",
      "2022-12-27  69007800  132.869679  138.081427 -5.211748 -4.112151  24.333763   \n",
      "2022-12-28  85438400  130.918343  136.877285 -5.958942 -4.481509  17.530147   \n",
      "2022-12-29  75703700  130.544531  136.150556 -5.606026 -4.706413  36.571296   \n",
      "2022-12-30  77034200  130.368948  135.528500 -5.159552 -4.797040  38.108326   \n",
      "\n",
      "                RSI14      RSI21  \n",
      "Date                              \n",
      "2021-02-02  50.118551  52.126483  \n",
      "2021-02-03  48.592865  51.085036  \n",
      "2021-02-04  53.591767  54.239236  \n",
      "2021-02-05  52.586151  53.576808  \n",
      "2021-02-08  52.813196  53.718127  \n",
      "...               ...        ...  \n",
      "2022-12-23  35.675357  39.225752  \n",
      "2022-12-27  33.658569  37.826304  \n",
      "2022-12-28  29.714325  34.970080  \n",
      "2022-12-29  36.845374  39.277645  \n",
      "2022-12-30  37.457887  39.653853  \n",
      "\n",
      "[483 rows x 13 columns]\n",
      "1 :  0.5724137931034483\n",
      "2 :  0.5724137931034483\n",
      "3 :  0.5724137931034483\n",
      "4 :  0.5655172413793104\n",
      "5 :  0.5655172413793104\n",
      "6 :  0.5724137931034483\n",
      "7 :  0.5517241379310345\n",
      "8 :  0.5517241379310345\n",
      "9 :  0.5724137931034483\n",
      "10 :  0.5448275862068965\n",
      "11 :  0.5862068965517241\n",
      "12 :  0.5793103448275863\n",
      "13 :  0.5655172413793104\n"
     ]
    }
   ],
   "source": [
    "start=\"2020-12-31\"\n",
    "end=\"2022-12-31\"\n",
    "name=\"AAPL\"\n",
    "\n",
    "\n",
    "stock_data=pct_change(name,start,end)\n",
    "stock_data=MACD_short(stock_data)\n",
    "stock_data=RSI(stock_data)\n",
    "stock_data=RSI_MACD(stock_data,21,80,20)\n",
    "\n",
    "\n",
    "stock_data = stock_data.dropna()\n",
    "del stock_data[\"real_situation\"]\n",
    "del stock_data[\"Position\"]\n",
    "del stock_data[\"Close_price_percentage\"]\n",
    "print(stock_data)\n",
    "\n",
    "y = np.where(stock_data['Close'].shift(-1) > stock_data['Close'],1,-1)\n",
    "\n",
    "for i in range(1,14):\n",
    "    #standardScaler\n",
    "    X = stock_data.iloc[:,:i]\n",
    "    st_x= StandardScaler()  \n",
    "    X= st_x.fit_transform(X)  \n",
    "    \n",
    "    #split dataset\n",
    "    split = int(0.7*len(stock_data))\n",
    "    X_train, X_test, y_train, y_test = X[:split], X[split:], y[:split], y[split:]\n",
    "    \n",
    "    #logistic regression\n",
    "    model = LogisticRegression(max_iter=20000)\n",
    "    model = model.fit (X_train,y_train)\n",
    "    probability = model.predict_proba(X_test)\n",
    "    predicted = model.predict(X_test)\n",
    "    #result\n",
    "    #print(metrics.classification_report(y_test, predicted))\n",
    "    #print(metrics.confusion_matrix(y_test, predicted)) \n",
    "    print(i,\": \",model.score(X_test,y_test))\n",
    "\n",
    "\n",
    "\n"
   ]
  },
  {
   "cell_type": "code",
   "execution_count": 4,
   "id": "a5980113",
   "metadata": {},
   "outputs": [
    {
     "name": "stdout",
     "output_type": "stream",
     "text": [
      "1 :  0.5655172413793104\n",
      "2 :  0.5655172413793104\n",
      "3 :  0.5586206896551724\n",
      "4 :  0.5655172413793104\n",
      "5 :  0.5724137931034483\n",
      "6 :  0.5724137931034483\n",
      "7 :  0.5586206896551724\n",
      "8 :  0.5517241379310345\n",
      "9 :  0.5586206896551724\n",
      "10 :  0.5517241379310345\n",
      "11 :  0.5517241379310345\n",
      "12 :  0.5586206896551724\n",
      "13 :  0.5310344827586206\n"
     ]
    }
   ],
   "source": [
    "\n",
    "\n",
    "for i in range(1,14):\n",
    "    #normalization MinMaxScalar\n",
    "    X = stock_data.iloc[:,:i]\n",
    "    st_x= MinMaxScaler()   \n",
    "    X= st_x.fit_transform(X)  \n",
    "    \n",
    "    \n",
    "    #split dataset\n",
    "    split = int(0.7*len(stock_data))\n",
    "    X_train, X_test, y_train, y_test = X[:split], X[split:], y[:split], y[split:]\n",
    "    \n",
    "    #logistic regression\n",
    "    model = LogisticRegression(max_iter=20000)\n",
    "    model = model.fit (X_train,y_train)\n",
    "    probability = model.predict_proba(X_test)\n",
    "    predicted = model.predict(X_test)\n",
    "    #result\n",
    "    #print(metrics.classification_report(y_test, predicted))\n",
    "    #print(metrics.confusion_matrix(y_test, predicted)) \n",
    "    print(i,\": \",model.score(X_test,y_test))"
   ]
  },
  {
   "cell_type": "code",
   "execution_count": 5,
   "id": "5b2fd0cb",
   "metadata": {},
   "outputs": [
    {
     "name": "stdout",
     "output_type": "stream",
     "text": [
      "13 :  0.5517241379310345\n"
     ]
    }
   ],
   "source": [
    "#standardScaler\n",
    "X = stock_data.iloc[:,:13]\n",
    "st_x= StandardScaler()  \n",
    "X= st_x.fit_transform(X)  \n",
    "    \n",
    "#PCA\n",
    "pca = PCA(n_components=2)\n",
    "X = pca.fit_transform(X)\n",
    "    \n",
    "#split dataset\n",
    "split = int(0.7*len(stock_data))\n",
    "X_train, X_test, y_train, y_test = X[:split], X[split:], y[:split], y[split:]\n",
    "    \n",
    "#logistic regression\n",
    "model = LogisticRegression(max_iter=20000)\n",
    "model = model.fit (X_train,y_train)\n",
    "probability = model.predict_proba(X_test)\n",
    "predicted = model.predict(X_test)\n",
    "#result\n",
    "#print(metrics.classification_report(y_test, predicted))\n",
    "#print(metrics.confusion_matrix(y_test, predicted)) \n",
    "print(i,\": \",model.score(X_test,y_test))"
   ]
  },
  {
   "cell_type": "code",
   "execution_count": 6,
   "id": "4af81de9",
   "metadata": {},
   "outputs": [
    {
     "name": "stdout",
     "output_type": "stream",
     "text": [
      "13 :  0.5448275862068965\n"
     ]
    }
   ],
   "source": [
    "#normalization MinMaxScalar\n",
    "X = stock_data.iloc[:,:13]\n",
    "st_x= MinMaxScaler()   \n",
    "X= st_x.fit_transform(X)  \n",
    "    \n",
    "#PCA\n",
    "pca = PCA(n_components=2)\n",
    "X = pca.fit_transform(X)\n",
    "    \n",
    "#split dataset\n",
    "split = int(0.7*len(stock_data))\n",
    "X_train, X_test, y_train, y_test = X[:split], X[split:], y[:split], y[split:]\n",
    "\n",
    "#logistic regression\n",
    "model = LogisticRegression(max_iter=20000)\n",
    "model = model.fit (X_train,y_train)\n",
    "probability = model.predict_proba(X_test)\n",
    "predicted = model.predict(X_test)\n",
    "#result\n",
    "#print(metrics.classification_report(y_test, predicted))\n",
    "#print(metrics.confusion_matrix(y_test, predicted)) \n",
    "print(i,\": \",model.score(X_test,y_test))"
   ]
  }
 ],
 "metadata": {
  "kernelspec": {
   "display_name": "Python 3 (ipykernel)",
   "language": "python",
   "name": "python3"
  },
  "language_info": {
   "codemirror_mode": {
    "name": "ipython",
    "version": 3
   },
   "file_extension": ".py",
   "mimetype": "text/x-python",
   "name": "python",
   "nbconvert_exporter": "python",
   "pygments_lexer": "ipython3",
   "version": "3.9.12"
  }
 },
 "nbformat": 4,
 "nbformat_minor": 5
}
