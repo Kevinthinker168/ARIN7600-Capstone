{
 "cells": [
  {
   "cell_type": "code",
   "execution_count": 1,
   "id": "e1d3f911",
   "metadata": {},
   "outputs": [],
   "source": [
    "import pandas as pd\n",
    "import yfinance as yf\n",
    "from pandas_datareader import data\n",
    "import matplotlib.pyplot as plt\n",
    "from datetime import datetime, timedelta\n",
    "import talib \n",
    "from dateutil.relativedelta import relativedelta\n",
    "from sklearn.decomposition import PCA\n",
    "import seaborn as sns\n",
    "import numpy as np\n",
    "\n",
    "from Tool_v1 import *\n",
    "\n",
    "\n",
    "# Machine learning\n",
    "from sklearn.linear_model import LogisticRegression\n",
    "from sklearn import metrics\n",
    "from sklearn.model_selection import cross_val_score\n",
    "from sklearn.preprocessing import StandardScaler  \n",
    "from sklearn.preprocessing import MinMaxScaler\n",
    "from sklearn.metrics import f1_score\n",
    "from sklearn.metrics import accuracy_score\n",
    "from sklearn.model_selection import train_test_split, cross_val_score\n",
    "yf.pdr_override()"
   ]
  },
  {
   "cell_type": "code",
   "execution_count": 2,
   "id": "527a0194",
   "metadata": {
    "scrolled": false
   },
   "outputs": [
    {
     "data": {
      "image/png": "[encoded data removed]",
      "text/plain": [
       "<Figure size 432x288 with 1 Axes>"
      ]
     },
     "metadata": {
      "needs_background": "light"
     },
     "output_type": "display_data"
    },
    {
     "name": "stdout",
     "output_type": "stream",
     "text": [
      "AAPL :  model_score:  0.8144329896907216  f1_score:  0.7906976744186047  accuary_score:  0.8144329896907216\n",
      "\n",
      "GOOG :  model_score:  0.8144329896907216  f1_score:  0.7857142857142858  accuary_score:  0.8144329896907216\n",
      "\n",
      "AMZN :  model_score:  0.7628865979381443  f1_score:  0.7294117647058823  accuary_score:  0.7628865979381443\n",
      "\n",
      "TSLA :  model_score:  0.865979381443299  f1_score:  0.8311688311688312  accuary_score:  0.865979381443299\n",
      "\n",
      "BABA :  model_score:  0.7216494845360825  f1_score:  0.689655172413793  accuary_score:  0.7216494845360825\n",
      "\n",
      "PTPI :  model_score:  0.7835051546391752  f1_score:  0.676923076923077  accuary_score:  0.7835051546391752\n",
      "\n",
      "BTCY :  model_score:  0.845360824742268  f1_score:  0.8148148148148148  accuary_score:  0.845360824742268\n",
      "\n",
      "FOX :  model_score:  0.8556701030927835  f1_score:  0.8444444444444444  accuary_score:  0.8556701030927835\n",
      "\n",
      "NVDA :  model_score:  0.8247422680412371  f1_score:  0.8247422680412373  accuary_score:  0.8247422680412371\n",
      "\n",
      "DIS :  model_score:  0.8865979381443299  f1_score:  0.8571428571428571  accuary_score:  0.8865979381443299\n",
      "\n",
      "NKE :  model_score:  0.8350515463917526  f1_score:  0.836734693877551  accuary_score:  0.8350515463917526\n",
      "\n",
      "XOM :  model_score:  0.7835051546391752  f1_score:  0.8037383177570094  accuary_score:  0.7835051546391752\n",
      "\n",
      "KO :  model_score:  0.8144329896907216  f1_score:  0.8200000000000001  accuary_score:  0.8144329896907216\n",
      "\n",
      "2319.HK :  model_score:  0.851063829787234  f1_score:  0.8372093023255814  accuary_score:  0.851063829787234\n",
      "\n",
      "0700.HK :  model_score:  0.8191489361702128  f1_score:  0.8  accuary_score:  0.8191489361702128\n",
      "\n",
      "1211.HK :  model_score:  0.7978723404255319  f1_score:  0.7466666666666667  accuary_score:  0.7978723404255319\n",
      "\n",
      "6133.hk :  model_score:  0.5882352941176471  f1_score:  0.0  accuary_score:  0.5882352941176471\n",
      "\n",
      "2318.HK :  model_score:  0.7872340425531915  f1_score:  0.7499999999999999  accuary_score:  0.7872340425531915\n",
      "\n",
      "1448.HK :  model_score:  0.851063829787234  f1_score:  0.8250000000000001  accuary_score:  0.851063829787234\n",
      "\n",
      "1810.HK :  model_score:  0.8085106382978723  f1_score:  0.7567567567567569  accuary_score:  0.8085106382978723\n",
      "\n",
      "3690.HK :  model_score:  0.8191489361702128  f1_score:  0.8045977011494253  accuary_score:  0.8191489361702128\n",
      "\n",
      "2018.HK :  model_score:  0.8191489361702128  f1_score:  0.7999999999999999  accuary_score:  0.8191489361702128\n",
      "\n"
     ]
    }
   ],
   "source": [
    "stock_name=[\"AAPL\",\"GOOG\",\"AMZN\",\"TSLA\",\"BABA\",\"PTPI\",\"BTCY\",'FOX',\"NVDA\",\"DIS\",\"NKE\",\"XOM\",\"KO\",\n",
    "            \"2319.HK\",\"0700.HK\",\"1211.HK\",\"6133.hk\",'2318.HK','1448.HK','1810.HK',\"3690.HK\",\"2018.HK\"]\n",
    "start=\"2020-12-31\"\n",
    "end=\"2022-12-31\"\n",
    "\n",
    "for i in stock_name:\n",
    "    #MACD619RSI21_8020\n",
    "    stock_data=pct_change(i,start,end)\n",
    "    stock_data=stock_data.copy()\n",
    "    #指标运算\n",
    "    stock_data=MACD_short(stock_data)\n",
    "    stock_data=RSI(stock_data)\n",
    "    stock_data=RSI_MACD(stock_data,21,80,20)\n",
    "    stock_data= my_rsi(stock_data, 21)\n",
    "    stock_data = stock_data.dropna()\n",
    "    \n",
    "#    lr = LogisticRegression()\n",
    "    # 设置正则化类型（L1, L2, Elastic Net）\n",
    "    penalty = 'l2' \n",
    "\n",
    "    # 设置正则化强度（C）\n",
    "    C = 0.01\n",
    "    #logistic regression\n",
    "    lr = LogisticRegression(penalty =penalty, C=C) \n",
    "    \n",
    "    X = stock_data.loc[:,[\"re_close\", \"re_open\", \"my_rsi\", \"Position\", \"RSI21\"]].values\n",
    "    #X = stock_data.loc[:,[\"re_close\", \"re_open\", \"my_rsi\", \"Position\", \"RSI21\",\"Open\",\"High\",\"Low\",\"Close\"]].values\n",
    "    #X = stock_data.loc[:,[\"Open\",\"High\",\"Low\",\"Close\"]].values\n",
    "    \n",
    "\n",
    "    st_x= StandardScaler()  \n",
    "    X= st_x.fit_transform(X)  \n",
    "\n",
    "    #Y = stock_data.loc[:,[\"up_or_down\"]].values.ravel()\n",
    "    Y = np.where(stock_data['Open'].shift(-1) > stock_data['Open'],1,-1)\n",
    "    #Y = np.where(stock_data['Close'].shift(-1) > stock_data['Close'],1,-1)\n",
    "\n",
    "    #X_train, X_test, Y_train, Y_test = train_test_split(X,Y,train_size=0.8)\n",
    "\n",
    "    split = int(0.8*len(stock_data))\n",
    "    X_train, X_test, Y_train, Y_test = X[:split], X[split:], Y[:split], Y[split:]\n",
    "    \n",
    "    lr.fit(X_train, Y_train)\n",
    "    y_pred = lr.predict(X_test)\n",
    "    f1_score(y_pred, Y_test)\n",
    "    \n",
    "    importance = lr.coef_[0]\n",
    "\n",
    "\n",
    "    # plot feature importance\n",
    "    #plt.bar([x for x in range(len(importance))], importance)\n",
    "    if i==\"AAPL\":\n",
    "        plt.bar(range(len(importance)), importance)\n",
    "        plt.xticks(range(len(importance)), range(len(importance)))\n",
    "        plt.show()\n",
    "    \n",
    "    \n",
    "    print(i,\": \",\"model_score: \",lr.score(X_test,Y_test),\" f1_score: \",f1_score(y_pred, Y_test),\" accuary_score: \",accuracy_score(Y_test,y_pred))\n",
    "    print()"
   ]
  },
  {
   "cell_type": "code",
   "execution_count": 3,
   "id": "74665476",
   "metadata": {
    "scrolled": false
   },
   "outputs": [
    {
     "name": "stderr",
     "output_type": "stream",
     "text": [
      "/Users/liangfanxiao/opt/anaconda3/lib/python3.9/site-packages/sklearn/utils/validation.py:993: DataConversionWarning: A column-vector y was passed when a 1d array was expected. Please change the shape of y to (n_samples, ), for example using ravel().\n",
      "  y = column_or_1d(y, warn=True)\n",
      "/Users/liangfanxiao/opt/anaconda3/lib/python3.9/site-packages/sklearn/utils/validation.py:993: DataConversionWarning: A column-vector y was passed when a 1d array was expected. Please change the shape of y to (n_samples, ), for example using ravel().\n",
      "  y = column_or_1d(y, warn=True)\n"
     ]
    },
    {
     "name": "stdout",
     "output_type": "stream",
     "text": [
      "AAPL :  model_score:  0.6288659793814433  f1_score:  0.5384615384615384  accuary_score:  0.6288659793814433\n",
      "\n",
      "GOOG :  model_score:  0.5876288659793815  f1_score:  0.5  accuary_score:  0.5876288659793815\n",
      "\n"
     ]
    },
    {
     "name": "stderr",
     "output_type": "stream",
     "text": [
      "/Users/liangfanxiao/opt/anaconda3/lib/python3.9/site-packages/sklearn/utils/validation.py:993: DataConversionWarning: A column-vector y was passed when a 1d array was expected. Please change the shape of y to (n_samples, ), for example using ravel().\n",
      "  y = column_or_1d(y, warn=True)\n"
     ]
    },
    {
     "name": "stdout",
     "output_type": "stream",
     "text": [
      "AMZN :  model_score:  0.5773195876288659  f1_score:  0.5060240963855421  accuary_score:  0.5773195876288659\n",
      "\n"
     ]
    },
    {
     "name": "stderr",
     "output_type": "stream",
     "text": [
      "/Users/liangfanxiao/opt/anaconda3/lib/python3.9/site-packages/sklearn/utils/validation.py:993: DataConversionWarning: A column-vector y was passed when a 1d array was expected. Please change the shape of y to (n_samples, ), for example using ravel().\n",
      "  y = column_or_1d(y, warn=True)\n",
      "/Users/liangfanxiao/opt/anaconda3/lib/python3.9/site-packages/sklearn/utils/validation.py:993: DataConversionWarning: A column-vector y was passed when a 1d array was expected. Please change the shape of y to (n_samples, ), for example using ravel().\n",
      "  y = column_or_1d(y, warn=True)\n"
     ]
    },
    {
     "name": "stdout",
     "output_type": "stream",
     "text": [
      "TSLA :  model_score:  0.7216494845360825  f1_score:  0.5714285714285714  accuary_score:  0.7216494845360825\n",
      "\n",
      "BABA :  model_score:  0.6185567010309279  f1_score:  0.49315068493150693  accuary_score:  0.6185567010309279\n",
      "\n"
     ]
    },
    {
     "name": "stderr",
     "output_type": "stream",
     "text": [
      "/Users/liangfanxiao/opt/anaconda3/lib/python3.9/site-packages/sklearn/utils/validation.py:993: DataConversionWarning: A column-vector y was passed when a 1d array was expected. Please change the shape of y to (n_samples, ), for example using ravel().\n",
      "  y = column_or_1d(y, warn=True)\n",
      "/Users/liangfanxiao/opt/anaconda3/lib/python3.9/site-packages/sklearn/utils/validation.py:993: DataConversionWarning: A column-vector y was passed when a 1d array was expected. Please change the shape of y to (n_samples, ), for example using ravel().\n",
      "  y = column_or_1d(y, warn=True)\n"
     ]
    },
    {
     "name": "stdout",
     "output_type": "stream",
     "text": [
      "PTPI :  model_score:  0.6597938144329897  f1_score:  0.23255813953488372  accuary_score:  0.6597938144329897\n",
      "\n",
      "BTCY :  model_score:  0.6082474226804123  f1_score:  0.4242424242424242  accuary_score:  0.6082474226804123\n",
      "\n"
     ]
    },
    {
     "name": "stderr",
     "output_type": "stream",
     "text": [
      "/Users/liangfanxiao/opt/anaconda3/lib/python3.9/site-packages/sklearn/utils/validation.py:993: DataConversionWarning: A column-vector y was passed when a 1d array was expected. Please change the shape of y to (n_samples, ), for example using ravel().\n",
      "  y = column_or_1d(y, warn=True)\n",
      "/Users/liangfanxiao/opt/anaconda3/lib/python3.9/site-packages/sklearn/utils/validation.py:993: DataConversionWarning: A column-vector y was passed when a 1d array was expected. Please change the shape of y to (n_samples, ), for example using ravel().\n",
      "  y = column_or_1d(y, warn=True)\n"
     ]
    },
    {
     "name": "stdout",
     "output_type": "stream",
     "text": [
      "FOX :  model_score:  0.6494845360824743  f1_score:  0.5750000000000001  accuary_score:  0.6494845360824743\n",
      "\n",
      "NVDA :  model_score:  0.6391752577319587  f1_score:  0.6534653465346534  accuary_score:  0.6391752577319587\n",
      "\n"
     ]
    },
    {
     "name": "stderr",
     "output_type": "stream",
     "text": [
      "/Users/liangfanxiao/opt/anaconda3/lib/python3.9/site-packages/sklearn/utils/validation.py:993: DataConversionWarning: A column-vector y was passed when a 1d array was expected. Please change the shape of y to (n_samples, ), for example using ravel().\n",
      "  y = column_or_1d(y, warn=True)\n"
     ]
    },
    {
     "name": "stdout",
     "output_type": "stream",
     "text": [
      "DIS :  model_score:  0.6391752577319587  f1_score:  0.47761194029850756  accuary_score:  0.6391752577319587\n",
      "\n"
     ]
    },
    {
     "name": "stderr",
     "output_type": "stream",
     "text": [
      "/Users/liangfanxiao/opt/anaconda3/lib/python3.9/site-packages/sklearn/utils/validation.py:993: DataConversionWarning: A column-vector y was passed when a 1d array was expected. Please change the shape of y to (n_samples, ), for example using ravel().\n",
      "  y = column_or_1d(y, warn=True)\n"
     ]
    },
    {
     "name": "stdout",
     "output_type": "stream",
     "text": [
      "NKE :  model_score:  0.6288659793814433  f1_score:  0.6603773584905661  accuary_score:  0.6288659793814433\n",
      "\n"
     ]
    },
    {
     "name": "stderr",
     "output_type": "stream",
     "text": [
      "/Users/liangfanxiao/opt/anaconda3/lib/python3.9/site-packages/sklearn/utils/validation.py:993: DataConversionWarning: A column-vector y was passed when a 1d array was expected. Please change the shape of y to (n_samples, ), for example using ravel().\n",
      "  y = column_or_1d(y, warn=True)\n"
     ]
    },
    {
     "name": "stdout",
     "output_type": "stream",
     "text": [
      "XOM :  model_score:  0.6185567010309279  f1_score:  0.6782608695652174  accuary_score:  0.6185567010309279\n",
      "\n"
     ]
    },
    {
     "name": "stderr",
     "output_type": "stream",
     "text": [
      "/Users/liangfanxiao/opt/anaconda3/lib/python3.9/site-packages/sklearn/utils/validation.py:993: DataConversionWarning: A column-vector y was passed when a 1d array was expected. Please change the shape of y to (n_samples, ), for example using ravel().\n",
      "  y = column_or_1d(y, warn=True)\n"
     ]
    },
    {
     "name": "stdout",
     "output_type": "stream",
     "text": [
      "KO :  model_score:  0.6185567010309279  f1_score:  0.6476190476190476  accuary_score:  0.6185567010309279\n",
      "\n"
     ]
    },
    {
     "name": "stderr",
     "output_type": "stream",
     "text": [
      "/Users/liangfanxiao/opt/anaconda3/lib/python3.9/site-packages/sklearn/utils/validation.py:993: DataConversionWarning: A column-vector y was passed when a 1d array was expected. Please change the shape of y to (n_samples, ), for example using ravel().\n",
      "  y = column_or_1d(y, warn=True)\n",
      "/Users/liangfanxiao/opt/anaconda3/lib/python3.9/site-packages/sklearn/utils/validation.py:993: DataConversionWarning: A column-vector y was passed when a 1d array was expected. Please change the shape of y to (n_samples, ), for example using ravel().\n",
      "  y = column_or_1d(y, warn=True)\n"
     ]
    },
    {
     "name": "stdout",
     "output_type": "stream",
     "text": [
      "2319.HK :  model_score:  0.6808510638297872  f1_score:  0.6052631578947368  accuary_score:  0.6808510638297872\n",
      "\n",
      "0700.HK :  model_score:  0.6382978723404256  f1_score:  0.5526315789473685  accuary_score:  0.6382978723404256\n",
      "\n"
     ]
    },
    {
     "name": "stderr",
     "output_type": "stream",
     "text": [
      "/Users/liangfanxiao/opt/anaconda3/lib/python3.9/site-packages/sklearn/utils/validation.py:993: DataConversionWarning: A column-vector y was passed when a 1d array was expected. Please change the shape of y to (n_samples, ), for example using ravel().\n",
      "  y = column_or_1d(y, warn=True)\n",
      "/Users/liangfanxiao/opt/anaconda3/lib/python3.9/site-packages/sklearn/utils/validation.py:993: DataConversionWarning: A column-vector y was passed when a 1d array was expected. Please change the shape of y to (n_samples, ), for example using ravel().\n",
      "  y = column_or_1d(y, warn=True)\n"
     ]
    },
    {
     "name": "stdout",
     "output_type": "stream",
     "text": [
      "1211.HK :  model_score:  0.6276595744680851  f1_score:  0.4444444444444445  accuary_score:  0.6276595744680851\n",
      "\n",
      "6133.hk :  model_score:  0.8235294117647058  f1_score:  0.0  accuary_score:  0.8235294117647058\n",
      "\n"
     ]
    },
    {
     "name": "stderr",
     "output_type": "stream",
     "text": [
      "/Users/liangfanxiao/opt/anaconda3/lib/python3.9/site-packages/sklearn/utils/validation.py:993: DataConversionWarning: A column-vector y was passed when a 1d array was expected. Please change the shape of y to (n_samples, ), for example using ravel().\n",
      "  y = column_or_1d(y, warn=True)\n",
      "/Users/liangfanxiao/opt/anaconda3/lib/python3.9/site-packages/sklearn/utils/validation.py:993: DataConversionWarning: A column-vector y was passed when a 1d array was expected. Please change the shape of y to (n_samples, ), for example using ravel().\n",
      "  y = column_or_1d(y, warn=True)\n"
     ]
    },
    {
     "name": "stdout",
     "output_type": "stream",
     "text": [
      "2318.HK :  model_score:  0.6276595744680851  f1_score:  0.44444444444444436  accuary_score:  0.6276595744680851\n",
      "\n",
      "1448.HK :  model_score:  0.5957446808510638  f1_score:  0.5365853658536585  accuary_score:  0.5957446808510638\n",
      "\n"
     ]
    },
    {
     "name": "stderr",
     "output_type": "stream",
     "text": [
      "/Users/liangfanxiao/opt/anaconda3/lib/python3.9/site-packages/sklearn/utils/validation.py:993: DataConversionWarning: A column-vector y was passed when a 1d array was expected. Please change the shape of y to (n_samples, ), for example using ravel().\n",
      "  y = column_or_1d(y, warn=True)\n",
      "/Users/liangfanxiao/opt/anaconda3/lib/python3.9/site-packages/sklearn/utils/validation.py:993: DataConversionWarning: A column-vector y was passed when a 1d array was expected. Please change the shape of y to (n_samples, ), for example using ravel().\n",
      "  y = column_or_1d(y, warn=True)\n"
     ]
    },
    {
     "name": "stdout",
     "output_type": "stream",
     "text": [
      "1810.HK :  model_score:  0.6595744680851063  f1_score:  0.5  accuary_score:  0.6595744680851063\n",
      "\n",
      "3690.HK :  model_score:  0.6276595744680851  f1_score:  0.5882352941176471  accuary_score:  0.6276595744680851\n",
      "\n",
      "2018.HK :  model_score:  0.5531914893617021  f1_score:  0.34375  accuary_score:  0.5531914893617021\n",
      "\n"
     ]
    },
    {
     "name": "stderr",
     "output_type": "stream",
     "text": [
      "/Users/liangfanxiao/opt/anaconda3/lib/python3.9/site-packages/sklearn/utils/validation.py:993: DataConversionWarning: A column-vector y was passed when a 1d array was expected. Please change the shape of y to (n_samples, ), for example using ravel().\n",
      "  y = column_or_1d(y, warn=True)\n"
     ]
    }
   ],
   "source": [
    "stock_name=[\"AAPL\",\"GOOG\",\"AMZN\",\"TSLA\",\"BABA\",\"PTPI\",\"BTCY\",'FOX',\"NVDA\",\"DIS\",\"NKE\",\"XOM\",\"KO\",\n",
    "            \"2319.HK\",\"0700.HK\",\"1211.HK\",\"6133.hk\",'2318.HK','1448.HK','1810.HK',\"3690.HK\",\"2018.HK\"]\n",
    "start=\"2020-12-31\"\n",
    "end=\"2022-12-31\"\n",
    "\n",
    "for i in stock_name:\n",
    "    #MACD619RSI21_8020\n",
    "    stock_data=pct_change(i,start,end)\n",
    "    stock_data=stock_data.copy()\n",
    "    #指标运算\n",
    "    stock_data=MACD_short(stock_data)\n",
    "    stock_data=RSI(stock_data)\n",
    "    stock_data=RSI_MACD(stock_data,21,80,20)\n",
    "    stock_data= my_rsi(stock_data, 21)\n",
    "    stock_data = stock_data.dropna()\n",
    "    \n",
    "    #lr = LogisticRegression()\n",
    "    # 设置正则化类型（L1, L2, Elastic Net）\n",
    "    penalty = 'l2' \n",
    "\n",
    "    # 设置正则化强度（C）\n",
    "    C = 0.01\n",
    "    #logistic regression\n",
    "    lr = LogisticRegression(penalty =penalty, C=C) \n",
    "    \n",
    "    X = stock_data.loc[:,[\"re_close\", \"re_open\", \"my_rsi\", \"Position\", \"RSI21\"]].values\n",
    "    #X = stock_data.loc[:,[\"re_close\",\"re_open\"]].values\n",
    "    \n",
    "\n",
    "    st_x= StandardScaler()  \n",
    "    X= st_x.fit_transform(X)  \n",
    "\n",
    "    #Y = stock_data.loc[:,[\"up_or_down\"]].values.ravel()\n",
    "    Y = stock_data.loc[:,[\"up_or_down\"]].values\n",
    "    #Y = np.where(stock_data['Open'].shift(-1) > stock_data['Open'],1,-1)\n",
    "    #Y = np.where(stock_data['Close'].shift(-1) > stock_data['Close'],1,-1)\n",
    "\n",
    "    #X_train, X_test, Y_train, Y_test = train_test_split(X,Y,train_size=0.8)\n",
    "\n",
    "    split = int(0.8*len(stock_data))\n",
    "    X_train, X_test, Y_train, Y_test = X[:split], X[split:], Y[:split], Y[split:]\n",
    "    \n",
    "    lr.fit(X_train, Y_train)\n",
    "    y_pred = lr.predict(X_test)\n",
    "    f1_score(y_pred, Y_test)\n",
    "    \n",
    "    \n",
    "    print(i,\": \",\"model_score: \",lr.score(X_test,Y_test),\" f1_score: \",f1_score(y_pred, Y_test),\" accuary_score: \",accuracy_score(Y_test,y_pred))\n",
    "    print()"
   ]
  }
 ],
 "metadata": {
  "kernelspec": {
   "display_name": "Python 3 (ipykernel)",
   "language": "python",
   "name": "python3"
  },
  "language_info": {
   "codemirror_mode": {
    "name": "ipython",
    "version": 3
   },
   "file_extension": ".py",
   "mimetype": "text/x-python",
   "name": "python",
   "nbconvert_exporter": "python",
   "pygments_lexer": "ipython3",
   "version": "3.9.12"
  }
 },
 "nbformat": 4,
 "nbformat_minor": 5
}
