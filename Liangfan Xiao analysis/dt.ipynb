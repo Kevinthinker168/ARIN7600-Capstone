{
 "cells": [
  {
   "cell_type": "code",
   "execution_count": null,
   "metadata": {},
   "outputs": [],
   "source": [
    "from sklearn.tree import DecisionTreeClassifier\n",
    "import matplotlib.pyplot as plt\n",
    "from sklearn.model_selection import train_test_split\n",
    "import pandas as pd\n",
    "# 训练样本\n",
    "# %%\n",
    "data = pd.read_csv(\"\")\n",
    "X=data[[]]\n",
    "Y=data[]\n",
    "X_train,X_test,Y_train,Y_test=train_test_split(X,Y,random_state=22)\n",
    "test = []\n",
    "for i in range(10):\n",
    "    clf = DecisionTreeClassifier(max_depth=i+1\n",
    "                                     ,criterion=\"entropy\"\n",
    "                                     ,random_state=30\n",
    "                                     ,splitter=\"random\"\n",
    "                                     )\n",
    "    clf = clf.fit(X_train, Y_train)\n",
    "    score = clf.score(X_test, Y_test)\n",
    "    test.append(score)\n",
    "plt.plot(range(1,11),test,color=\"red\",label=\"max_depth\")\n",
    "plt.legend()\n",
    "plt.show()"
   ]
  }
 ],
 "metadata": {
  "language_info": {
   "name": "python"
  },
  "orig_nbformat": 4
 },
 "nbformat": 4,
 "nbformat_minor": 2
}
