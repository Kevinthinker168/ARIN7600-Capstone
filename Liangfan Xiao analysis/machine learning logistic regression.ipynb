{
 "cells": [
  {
   "cell_type": "code",
   "execution_count": 1,
   "id": "f4e384d4",
   "metadata": {},
   "outputs": [],
   "source": [
    "import pandas as pd\n",
    "import yfinance as yf\n",
    "from pandas_datareader import data\n",
    "import matplotlib.pyplot as plt\n",
    "from datetime import datetime, timedelta\n",
    "import talib \n",
    "from dateutil.relativedelta import relativedelta\n",
    "from sklearn.decomposition import PCA\n",
    "import seaborn as sns\n",
    "import numpy as np\n",
    "\n",
    "from Tool_v1 import *\n",
    "\n",
    "\n",
    "# Machine learning\n",
    "from sklearn.linear_model import LogisticRegression\n",
    "from sklearn import metrics\n",
    "from sklearn.model_selection import cross_val_score\n",
    "from sklearn.preprocessing import StandardScaler  \n",
    "from sklearn.preprocessing import MinMaxScaler\n",
    "from sklearn.metrics import f1_score\n",
    "from sklearn.metrics import accuracy_score\n",
    "yf.pdr_override()"
   ]
  },
  {
   "cell_type": "code",
   "execution_count": 2,
   "id": "f97e4cde",
   "metadata": {},
   "outputs": [
    {
     "name": "stdout",
     "output_type": "stream",
     "text": [
      "4095\n"
     ]
    }
   ],
   "source": [
    "from itertools import combinations\n",
    "c = (1,2,3,4,5,6,7,8,9,10,11,12) \n",
    "i=0\n",
    "result=[]\n",
    "while i<len(c):\n",
    "    for j in combinations(c,i):\n",
    "        #print(list(j))\n",
    "        result.append(list(j))\n",
    "    i+=1 \n",
    "print(len(result))"
   ]
  },
  {
   "cell_type": "code",
   "execution_count": 3,
   "id": "dba22bc7",
   "metadata": {
    "scrolled": false
   },
   "outputs": [
    {
     "name": "stdout",
     "output_type": "stream",
     "text": [
      "                  Open        High  Close_price_percentage  log_return  \\\n",
      "Date                                                                     \n",
      "2021-02-03  135.759995  135.770004               -0.007778   -0.007809   \n",
      "2021-02-04  136.300003  137.399994                0.025758    0.025432   \n",
      "2021-02-05  137.350006  137.419998               -0.004586   -0.004596   \n",
      "2021-02-08  136.029999  136.960007                0.001097    0.001096   \n",
      "2021-02-09  136.619995  137.880005               -0.006574   -0.006595   \n",
      "...                ...         ...                     ...         ...   \n",
      "2023-09-25  174.199997  176.970001                0.007380    0.007353   \n",
      "2023-09-26  174.820007  175.199997               -0.023398   -0.023677   \n",
      "2023-09-27  172.619995  173.039993               -0.008897   -0.008937   \n",
      "2023-09-28  169.339996  172.029999                0.001526    0.001524   \n",
      "2023-09-29  172.020004  173.070007                0.003046    0.003042   \n",
      "\n",
      "            re_close   re_open      MACD  Position      RSI14      RSI21  \\\n",
      "Date                                                                       \n",
      "2021-02-03  0.152778  0.995366  2.133897        -1  51.839397  54.368370   \n",
      "2021-02-04  0.996443  0.608544  1.955337        -1  56.576157  57.348233   \n",
      "2021-02-05  0.576920  0.955133  1.821688        -1  55.502630  56.639046   \n",
      "2021-02-08  0.975489  0.544116  1.718898        -1  55.718089  56.772694   \n",
      "2021-02-09  0.078812  0.379305  1.598420        -1  54.027799  55.691336   \n",
      "...              ...       ...       ...       ...        ...        ...   \n",
      "2023-09-25  0.684398  0.017732 -2.051389        -1  44.397096  44.853887   \n",
      "2023-09-26  0.084747  0.892658 -2.171540        -1  38.386669  40.668875   \n",
      "2023-09-27  0.345863  0.894737 -2.374817        -1  36.415084  39.241208   \n",
      "2023-09-28  0.696146  0.390023 -2.578449        -1  37.007197  39.619429   \n",
      "2023-09-29  0.318684  0.615385 -2.729017        -1  38.245764  40.398541   \n",
      "\n",
      "              my_rsi  \n",
      "Date                  \n",
      "2021-02-03  0.454127  \n",
      "2021-02-04  0.526673  \n",
      "2021-02-05  0.486111  \n",
      "2021-02-08  0.517102  \n",
      "2021-02-09  0.465740  \n",
      "...              ...  \n",
      "2023-09-25  0.463878  \n",
      "2023-09-26  0.480595  \n",
      "2023-09-27  0.438977  \n",
      "2023-09-28  0.455717  \n",
      "2023-09-29  0.383229  \n",
      "\n",
      "[669 rows x 11 columns]\n",
      "[ 1  1 -1  1 -1 -1 -1  1 -1 -1  1 -1 -1  1 -1 -1  1  1 -1 -1 -1 -1 -1  1\n",
      "  1 -1  1  1 -1 -1 -1  1  1 -1 -1  1  1 -1  1  1  1  1 -1  1  1  1 -1  1\n",
      " -1  1 -1  1 -1  1 -1  1  1 -1  1 -1  1 -1 -1 -1  1 -1 -1 -1  1  1  1 -1\n",
      " -1  1  1 -1  1 -1 -1 -1 -1 -1  1 -1  1  1  1 -1 -1  1  1  1 -1  1 -1  1\n",
      "  1  1 -1 -1  1  1  1  1  1  1 -1  1  1 -1  1  1 -1 -1 -1  1  1  1  1  1\n",
      " -1 -1 -1  1 -1  1 -1 -1 -1  1 -1  1  1 -1  1 -1 -1  1  1  1  1 -1 -1  1\n",
      "  1  1  1 -1  1  1 -1 -1 -1 -1 -1 -1  1 -1  1  1  1 -1 -1 -1 -1  1 -1 -1\n",
      " -1 -1  1  1 -1  1 -1  1  1 -1  1  1  1  1 -1  1  1  1 -1  1 -1  1  1  1\n",
      " -1 -1 -1 -1 -1  1 -1  1  1  1  1 -1 -1 -1 -1  1  1 -1  1  1  1  1  1  1\n",
      "  1 -1 -1  1 -1 -1  1  1  1  1  1 -1  1 -1 -1  1 -1 -1  1 -1  1  1 -1 -1\n",
      "  1 -1 -1 -1 -1 -1  1 -1  1  1  1  1 -1 -1  1 -1  1 -1 -1 -1  1  1 -1 -1\n",
      " -1  1 -1  1 -1  1 -1  1 -1 -1 -1  1 -1 -1 -1 -1  1  1  1  1  1  1  1  1\n",
      " -1  1  1 -1 -1  1  1 -1 -1  1 -1 -1 -1  1 -1  1  1  1 -1 -1  1 -1  1  1\n",
      " -1  1  1  1 -1 -1  1 -1 -1  1  1  1 -1 -1 -1 -1  1 -1 -1  1  1  1 -1 -1\n",
      "  1 -1  1 -1 -1 -1  1  1 -1 -1  1  1  1  1  1 -1 -1 -1 -1  1  1  1  1  1\n",
      "  1 -1  1  1  1 -1  1  1  1 -1 -1  1  1  1 -1 -1  1  1 -1  1 -1  1  1 -1\n",
      "  1  1 -1  1 -1 -1 -1  1  1  1 -1  1 -1 -1  1 -1 -1 -1  1  1  1 -1 -1 -1\n",
      " -1  1  1 -1 -1 -1  1 -1 -1 -1 -1  1 -1  1 -1 -1 -1 -1 -1  1 -1  1 -1  1\n",
      " -1  1  1  1 -1  1  1  1 -1 -1  1 -1  1 -1  1  1  1  1 -1 -1  1 -1 -1  1\n",
      " -1 -1 -1 -1  1 -1  1 -1 -1  1 -1  1  1 -1 -1 -1 -1 -1  1  1 -1  1 -1 -1\n",
      "  1  1 -1  1 -1  1 -1  1  1 -1  1  1 -1  1  1  1  1  1 -1  1 -1  1  1 -1\n",
      "  1 -1  1 -1 -1  1  1  1  1 -1 -1 -1  1 -1  1 -1 -1 -1  1  1 -1 -1  1 -1\n",
      " -1  1 -1  1  1 -1  1  1 -1  1  1 -1  1  1  1  1  1 -1 -1 -1  1 -1  1  1\n",
      "  1  1 -1  1 -1 -1  1 -1  1  1  1  1 -1 -1  1  1  1 -1  1 -1 -1 -1 -1  1\n",
      "  1 -1 -1 -1  1  1  1  1  1  1  1 -1 -1 -1  1 -1  1  1  1  1 -1  1 -1  1\n",
      "  1 -1  1  1  1  1 -1 -1  1 -1 -1  1  1 -1  1  1 -1  1 -1 -1 -1  1  1 -1\n",
      "  1  1 -1 -1 -1 -1 -1  1 -1 -1  1  1 -1  1 -1  1  1  1  1 -1  1 -1  1  1\n",
      "  1 -1  1 -1  1  1 -1 -1 -1  1 -1  1  1 -1  1 -1  1 -1 -1  1 -1]\n"
     ]
    }
   ],
   "source": [
    "start=\"2020-12-31\"\n",
    "end=\"2023-09-30\"\n",
    "name=\"AAPL\"\n",
    "\n",
    "#MACD619RSI21_8020\n",
    "stock_data=pct_change(name,start,end)\n",
    "stock_data=stock_data.copy()\n",
    "\n",
    "#指标运算\n",
    "stock_data=MACD_short(stock_data)\n",
    "stock_data=RSI(stock_data)\n",
    "stock_data=RSI_MACD(stock_data,21,80,20)\n",
    "stock_data= my_rsi(stock_data, 21)\n",
    "\n",
    "#y值\n",
    "#stock_data[\"y\"]=np.where(stock_data['Close'].shift(-1) > stock_data['Close'],1,-1)\n",
    "\n",
    "\n",
    "del stock_data[\"real_situation\"]\n",
    "del stock_data[\"Volume\"]\n",
    "del stock_data[\"Adj Close\"]\n",
    "del stock_data[\"EMA6\"]\n",
    "del stock_data[\"Close\"]\n",
    "del stock_data[\"EMA19\"]\n",
    "del stock_data[\"RSI6\"]\n",
    "#del stock_data[\"RSI14\"]\n",
    "# del stock_data[\"re_close\"]\n",
    "# del stock_data[\"re_open\"]\n",
    "del stock_data[\"Low\"]\n",
    "#del stock_data[\"High\"]\n",
    "# del stock_data[\"log_return\"] \n",
    "# del stock_data[\"Close_price_percentage\"]\n",
    "# del stock_data[\"MACD\"]\n",
    "del stock_data[\"DIF\"]\n",
    "# del stock_data[\"Position\"]\n",
    "\n",
    "stock_data = stock_data.dropna()\n",
    "\n",
    "\n",
    "print(stock_data)\n",
    "\n",
    "#y = np.where(stock_data['Close'].shift(-1) > stock_data['Close'],1,-1)\n",
    "\n",
    "y = np.where(stock_data['Open'].shift(-1) > stock_data['Open'],1,-1)\n",
    "\n",
    "print(y)\n"
   ]
  },
  {
   "cell_type": "code",
   "execution_count": 4,
   "id": "9723390a",
   "metadata": {},
   "outputs": [
    {
     "name": "stdout",
     "output_type": "stream",
     "text": [
      "            Close_price_percentage      RSI14      RSI21\n",
      "Date                                                    \n",
      "2021-02-03               -0.007778  51.839397  54.368370\n",
      "2021-02-04                0.025758  56.576157  57.348233\n",
      "2021-02-05               -0.004586  55.502630  56.639046\n",
      "2021-02-08                0.001097  55.718089  56.772694\n",
      "2021-02-09               -0.006574  54.027799  55.691336\n",
      "...                            ...        ...        ...\n",
      "2023-09-25                0.007380  44.397096  44.853887\n",
      "2023-09-26               -0.023398  38.386669  40.668875\n",
      "2023-09-27               -0.008897  36.415084  39.241208\n",
      "2023-09-28                0.001526  37.007197  39.619429\n",
      "2023-09-29                0.003046  38.245764  40.398541\n",
      "\n",
      "[669 rows x 3 columns]\n"
     ]
    }
   ],
   "source": [
    "#stock_data = stock_data.loc[:,[\"re_close\", \"re_open\", \"my_rsi\", \"Position\", \"RSI21\", \"up_or_down\",\"y\"]]\n",
    "stock_data.head()\n",
    "\n",
    "print(stock_data.iloc[:, [2,8,9]])"
   ]
  },
  {
   "cell_type": "code",
   "execution_count": 5,
   "id": "eb70ea0c",
   "metadata": {
    "scrolled": false
   },
   "outputs": [
    {
     "data": {
      "image/png": "[encoded data removed]",
      "text/plain": [
       "<Figure size 1440x1440 with 2 Axes>"
      ]
     },
     "metadata": {
      "needs_background": "light"
     },
     "output_type": "display_data"
    }
   ],
   "source": [
    "\n",
    "cor = np.corrcoef(stock_data.T)\n",
    "plt.figure(figsize=(20, 20))\n",
    "sns.heatmap(cor, annot=True)\n",
    "plt.show()"
   ]
  },
  {
   "cell_type": "code",
   "execution_count": 6,
   "id": "f8ad1c8d",
   "metadata": {},
   "outputs": [
    {
     "name": "stdout",
     "output_type": "stream",
     "text": [
      "12\n"
     ]
    }
   ],
   "source": [
    "#del stock_data[\"y\"]\n",
    "num_columns = stock_data.shape[1]+1\n",
    "print(num_columns)"
   ]
  },
  {
   "cell_type": "code",
   "execution_count": 7,
   "id": "7a7a4ab1",
   "metadata": {
    "scrolled": false
   },
   "outputs": [
    {
     "name": "stdout",
     "output_type": "stream",
     "text": [
      "1 :  model_score:  0.5074626865671642  f1_score:  0.48704663212435234  accuary_score:  0.5074626865671642\n",
      "\n",
      "2 :  model_score:  0.5174129353233831  f1_score:  0.5125628140703518  accuary_score:  0.5174129353233831\n",
      "\n",
      "3 :  model_score:  0.7860696517412935  f1_score:  0.8018433179723501  accuary_score:  0.7860696517412935\n",
      "\n",
      "4 :  model_score:  0.7860696517412935  f1_score:  0.8018433179723501  accuary_score:  0.7860696517412935\n",
      "\n",
      "5 :  model_score:  0.835820895522388  f1_score:  0.8506787330316742  accuary_score:  0.835820895522388\n",
      "\n",
      "6 :  model_score:  0.8656716417910447  f1_score:  0.88  accuary_score:  0.8656716417910447\n",
      "\n",
      "7 :  model_score:  0.8606965174129353  f1_score:  0.875  accuary_score:  0.8606965174129353\n",
      "\n",
      "8 :  model_score:  0.8706467661691543  f1_score:  0.8839285714285715  accuary_score:  0.8706467661691543\n",
      "\n",
      "9 :  model_score:  0.8557213930348259  f1_score:  0.8711111111111111  accuary_score:  0.8557213930348259\n",
      "\n",
      "10 :  model_score:  0.8557213930348259  f1_score:  0.8711111111111111  accuary_score:  0.8557213930348259\n",
      "\n",
      "11 :  model_score:  0.845771144278607  f1_score:  0.8609865470852017  accuary_score:  0.845771144278607\n",
      "\n"
     ]
    }
   ],
   "source": [
    "for i in range(1,num_columns):\n",
    "    #standardScaler\n",
    "    X = stock_data.iloc[:,:i]\n",
    "    #print(i,\"features below:\")\n",
    "   # print(X)\n",
    "    st_x= StandardScaler()  \n",
    "    X= st_x.fit_transform(X)  \n",
    "    \n",
    "    #split dataset\n",
    "    split = int(0.7*len(stock_data))\n",
    "    X_train, X_test, y_train, y_test = X[:split], X[split:], y[:split], y[split:]\n",
    "    \n",
    "    # 设置正则化类型（L1, L2, Elastic Net）\n",
    "    penalty = 'l2' \n",
    "\n",
    "    # 设置正则化强度（C）\n",
    "    C = 0.005\n",
    "\n",
    "    #logistic regression\n",
    "    model = LogisticRegression(penalty =penalty, C=C) \n",
    "    #logistic regression\n",
    "    #model = LogisticRegression(max_iter=20000)\n",
    "    model = model.fit (X_train,y_train)\n",
    "    probability = model.predict_proba(X_test)\n",
    "    predicted = model.predict(X_test)\n",
    "    \n",
    "\n",
    "    \n",
    "    #result\n",
    "    #print(metrics.classification_report(y_test, predicted))\n",
    "    #print(metrics.confusion_matrix(y_test, predicted)) \n",
    "    print(i,\": \",\"model_score: \",model.score(X_test,y_test),\" f1_score: \",f1_score(predicted, y_test),\" accuary_score: \",accuracy_score(y_test,predicted))\n",
    "    print()"
   ]
  },
  {
   "cell_type": "code",
   "execution_count": 8,
   "id": "a5980113",
   "metadata": {},
   "outputs": [
    {
     "name": "stdout",
     "output_type": "stream",
     "text": [
      "1 :  model_score:  0.46766169154228854  f1_score:  0.38857142857142857  accuary_score:  0.46766169154228854\n",
      "2 :  model_score:  0.4975124378109453  f1_score:  0.42937853107344637  accuary_score:  0.4975124378109453\n",
      "3 :  model_score:  0.7661691542288557  f1_score:  0.7751196172248803  accuary_score:  0.7661691542288557\n",
      "4 :  model_score:  0.7661691542288557  f1_score:  0.7772511848341234  accuary_score:  0.7661691542288557\n",
      "5 :  model_score:  0.835820895522388  f1_score:  0.8465116279069769  accuary_score:  0.835820895522388\n",
      "6 :  model_score:  0.845771144278607  f1_score:  0.8584474885844747  accuary_score:  0.845771144278607\n",
      "7 :  model_score:  0.8507462686567164  f1_score:  0.8623853211009175  accuary_score:  0.8507462686567164\n",
      "8 :  model_score:  0.8507462686567164  f1_score:  0.8623853211009175  accuary_score:  0.8507462686567164\n",
      "9 :  model_score:  0.8507462686567164  f1_score:  0.8623853211009175  accuary_score:  0.8507462686567164\n",
      "10 :  model_score:  0.8507462686567164  f1_score:  0.8623853211009175  accuary_score:  0.8507462686567164\n",
      "11 :  model_score:  0.8507462686567164  f1_score:  0.8623853211009175  accuary_score:  0.8507462686567164\n"
     ]
    }
   ],
   "source": [
    "\n",
    "\n",
    "for i in range(1,num_columns):\n",
    "    #normalization MinMaxScalar\n",
    "    X = stock_data.iloc[:,:i]\n",
    "    st_x= MinMaxScaler()   \n",
    "    X= st_x.fit_transform(X)  \n",
    "    \n",
    "    \n",
    "    #split dataset\n",
    "    split = int(0.7*len(stock_data))\n",
    "    X_train, X_test, y_train, y_test = X[:split], X[split:], y[:split], y[split:]\n",
    "    \n",
    "    #logistic regression\n",
    "    model = LogisticRegression(max_iter=20000)\n",
    "    model = model.fit (X_train,y_train)\n",
    "    probability = model.predict_proba(X_test)\n",
    "    predicted = model.predict(X_test)\n",
    "    #result\n",
    "    #print(metrics.classification_report(y_test, predicted))\n",
    "    #print(metrics.confusion_matrix(y_test, predicted)) \n",
    "    print(i,\": \",\"model_score: \",model.score(X_test,y_test),\" f1_score: \",f1_score(predicted, y_test),\" accuary_score: \",accuracy_score(y_test,predicted))"
   ]
  },
  {
   "cell_type": "code",
   "execution_count": 9,
   "id": "5b2fd0cb",
   "metadata": {},
   "outputs": [
    {
     "name": "stdout",
     "output_type": "stream",
     "text": [
      "model_score:  0.835820895522388  f1_score:  0.8436018957345973  accuary_score:  0.835820895522388\n"
     ]
    }
   ],
   "source": [
    "#standardScaler\n",
    "X = stock_data.iloc[:,:num_columns]\n",
    "st_x= StandardScaler()  \n",
    "X= st_x.fit_transform(X)  \n",
    "    \n",
    "#PCA\n",
    "pca = PCA(n_components=2)\n",
    "X = pca.fit_transform(X)\n",
    "    \n",
    "#split dataset\n",
    "split = int(0.7*len(stock_data))\n",
    "X_train, X_test, y_train, y_test = X[:split], X[split:], y[:split], y[split:]\n",
    "    \n",
    "#logistic regression\n",
    "model = LogisticRegression(max_iter=20000)\n",
    "model = model.fit (X_train,y_train)\n",
    "probability = model.predict_proba(X_test)\n",
    "predicted = model.predict(X_test)\n",
    "#result\n",
    "#print(metrics.classification_report(y_test, predicted))\n",
    "#print(metrics.confusion_matrix(y_test, predicted)) \n",
    "print(\"model_score: \",model.score(X_test,y_test),\" f1_score: \",f1_score(predicted, y_test),\" accuary_score: \",accuracy_score(y_test,predicted))"
   ]
  },
  {
   "cell_type": "code",
   "execution_count": 10,
   "id": "4af81de9",
   "metadata": {},
   "outputs": [
    {
     "name": "stdout",
     "output_type": "stream",
     "text": [
      "model_score:  0.6368159203980099  f1_score:  0.6696832579185521  accuary_score:  0.6368159203980099\n"
     ]
    }
   ],
   "source": [
    "#normalization MinMaxScalar\n",
    "X = stock_data.iloc[:,:num_columns]\n",
    "st_x= MinMaxScaler()   \n",
    "X= st_x.fit_transform(X)  \n",
    "    \n",
    "#PCA\n",
    "pca = PCA(n_components=2)\n",
    "X = pca.fit_transform(X)\n",
    "    \n",
    "#split dataset\n",
    "split = int(0.7*len(stock_data))\n",
    "X_train, X_test, y_train, y_test = X[:split], X[split:], y[:split], y[split:]\n",
    "\n",
    "#logistic regression\n",
    "model = LogisticRegression(max_iter=20000)\n",
    "model = model.fit (X_train,y_train)\n",
    "probability = model.predict_proba(X_test)\n",
    "predicted = model.predict(X_test)\n",
    "#result\n",
    "#print(metrics.classification_report(y_test, predicted))\n",
    "#print(metrics.confusion_matrix(y_test, predicted)) \n",
    "print(\"model_score: \",model.score(X_test,y_test),\" f1_score: \",f1_score(predicted, y_test),\" accuary_score: \",accuracy_score(y_test,predicted))"
   ]
  },
  {
   "cell_type": "code",
   "execution_count": 11,
   "id": "3754f1be",
   "metadata": {
    "scrolled": false
   },
   "outputs": [
    {
     "name": "stdout",
     "output_type": "stream",
     "text": [
      "                  Open        High  Close_price_percentage  log_return  \\\n",
      "Date                                                                     \n",
      "2021-02-03  135.759995  135.770004               -0.007778   -0.007809   \n",
      "2021-02-04  136.300003  137.399994                0.025758    0.025432   \n",
      "2021-02-05  137.350006  137.419998               -0.004586   -0.004596   \n",
      "2021-02-08  136.029999  136.960007                0.001097    0.001096   \n",
      "2021-02-09  136.619995  137.880005               -0.006574   -0.006595   \n",
      "...                ...         ...                     ...         ...   \n",
      "2023-09-25  174.199997  176.970001                0.007380    0.007353   \n",
      "2023-09-26  174.820007  175.199997               -0.023398   -0.023677   \n",
      "2023-09-27  172.619995  173.039993               -0.008897   -0.008937   \n",
      "2023-09-28  169.339996  172.029999                0.001526    0.001524   \n",
      "2023-09-29  172.020004  173.070007                0.003046    0.003042   \n",
      "\n",
      "            re_close   re_open      MACD  Position  \n",
      "Date                                                \n",
      "2021-02-03  0.152778  0.995366  2.133897        -1  \n",
      "2021-02-04  0.996443  0.608544  1.955337        -1  \n",
      "2021-02-05  0.576920  0.955133  1.821688        -1  \n",
      "2021-02-08  0.975489  0.544116  1.718898        -1  \n",
      "2021-02-09  0.078812  0.379305  1.598420        -1  \n",
      "...              ...       ...       ...       ...  \n",
      "2023-09-25  0.684398  0.017732 -2.051389        -1  \n",
      "2023-09-26  0.084747  0.892658 -2.171540        -1  \n",
      "2023-09-27  0.345863  0.894737 -2.374817        -1  \n",
      "2023-09-28  0.696146  0.390023 -2.578449        -1  \n",
      "2023-09-29  0.318684  0.615385 -2.729017        -1  \n",
      "\n",
      "[669 rows x 8 columns]\n",
      "[-0.03207504 -0.01226186  0.18004609  0.17944456  0.27973063 -0.31562533\n",
      "  0.03327597  0.04618759]\n",
      "Score:0 -0.03208\n",
      "Score:1 -0.01226\n",
      "Score:2 0.18005\n",
      "Score:3 0.17944\n",
      "Score:4 0.27973\n",
      "Score:5 -0.31563\n",
      "Score:6 0.03328\n",
      "Score:7 0.04619\n"
     ]
    },
    {
     "data": {
      "image/png": "[encoded data removed]",
      "text/plain": [
       "<Figure size 1080x720 with 1 Axes>"
      ]
     },
     "metadata": {
      "needs_background": "light"
     },
     "output_type": "display_data"
    },
    {
     "name": "stdout",
     "output_type": "stream",
     "text": [
      "model_score:  0.8706467661691543  f1_score:  0.8839285714285715  accuary_score:  0.8706467661691543\n"
     ]
    }
   ],
   "source": [
    "#num_columns\n",
    "#X = stock_data.iloc[:,:num_columns]\n",
    "X = stock_data.iloc[:,:8]\n",
    "print(X)\n",
    "column_names = X.columns.tolist()\n",
    "st_x= StandardScaler()  \n",
    "X= st_x.fit_transform(X)  \n",
    "    \n",
    "#split dataset\n",
    "split = int(0.7*len(stock_data))\n",
    "X_train, X_test, y_train, y_test = X[:split], X[split:], y[:split], y[split:]\n",
    "    \n",
    "# 设置正则化类型（L1, L2, Elastic Net）\n",
    "penalty = 'l2' \n",
    "\n",
    "    # 设置正则化强度（C）\n",
    "C = 0.005\n",
    "\n",
    "    #logistic regression\n",
    "model = LogisticRegression(penalty =penalty, C=C) \n",
    "\n",
    "#logistic regression\n",
    "# model = LogisticRegression(max_iter=20000)\n",
    "model = model.fit (X_train,y_train)\n",
    "\n",
    "probability = model.predict_proba(X_test)\n",
    "predicted = model.predict(X_test)\n",
    "    \n",
    "# get importance\n",
    "importance = model.coef_[0]\n",
    "print(importance)\n",
    "# summarize feature importance\n",
    "count=0\n",
    "for i in importance:\n",
    "    print('Score:%.d %.5f' % (count,i))\n",
    "    count+=1\n",
    "# plot feature importance\n",
    "\n",
    "plt.figure(figsize=(15,10))\n",
    "plt.bar(column_names, importance)\n",
    "plt.savefig('logistic_featureimp.png')\n",
    "plt.show()\n",
    "    \n",
    "#result\n",
    "#print(metrics.classification_report(y_test, predicted))\n",
    "#print(metrics.confusion_matrix(y_test, predicted)) \n",
    "print(\"model_score: \",model.score(X_test,y_test),\" f1_score: \",f1_score(predicted, y_test),\" accuary_score: \",accuracy_score(y_test,predicted))"
   ]
  },
  {
   "cell_type": "code",
   "execution_count": 12,
   "id": "6b0bc4a2",
   "metadata": {},
   "outputs": [
    {
     "name": "stdout",
     "output_type": "stream",
     "text": [
      "326\n"
     ]
    }
   ],
   "source": [
    "count = len(stock_data[stock_data[\"Position\"] == 1])\n",
    "print(count)"
   ]
  },
  {
   "cell_type": "code",
   "execution_count": 13,
   "id": "b8ead1bd",
   "metadata": {},
   "outputs": [],
   "source": [
    "a=list(stock_data[\"Position\"]==1)"
   ]
  },
  {
   "cell_type": "code",
   "execution_count": 14,
   "id": "dba927c6",
   "metadata": {},
   "outputs": [],
   "source": [
    "count=0\n",
    "for i in a:\n",
    "    if i ==1:\n",
    "        count+=1\n",
    "        \n",
    "        "
   ]
  },
  {
   "cell_type": "code",
   "execution_count": 15,
   "id": "1cbf54ea",
   "metadata": {},
   "outputs": [
    {
     "name": "stdout",
     "output_type": "stream",
     "text": [
      "326\n"
     ]
    }
   ],
   "source": [
    "print(count)"
   ]
  },
  {
   "cell_type": "code",
   "execution_count": null,
   "id": "32229ece",
   "metadata": {},
   "outputs": [],
   "source": []
  }
 ],
 "metadata": {
  "kernelspec": {
   "display_name": "Python 3 (ipykernel)",
   "language": "python",
   "name": "python3"
  },
  "language_info": {
   "codemirror_mode": {
    "name": "ipython",
    "version": 3
   },
   "file_extension": ".py",
   "mimetype": "text/x-python",
   "name": "python",
   "nbconvert_exporter": "python",
   "pygments_lexer": "ipython3",
   "version": "3.9.12"
  }
 },
 "nbformat": 4,
 "nbformat_minor": 5
}
