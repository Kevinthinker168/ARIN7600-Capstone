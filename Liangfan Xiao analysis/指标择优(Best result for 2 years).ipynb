{
 "cells": [
  {
   "cell_type": "code",
   "execution_count": 1,
   "metadata": {
    "colab": {
     "base_uri": "https://localhost:8080/",
     "height": 361
    },
    "id": "CBZkaHqw4fTJ",
    "outputId": "0b412c9a-cba1-4efd-f556-e3d86aa60bad"
   },
   "outputs": [],
   "source": [
    "import pandas as pd\n",
    "import yfinance as yf\n",
    "from pandas_datareader import data\n",
    "import matplotlib.pyplot as plt\n",
    "from datetime import datetime, timedelta\n",
    "import talib \n",
    "from dateutil.relativedelta import relativedelta\n",
    "\n",
    "from Tool_v1 import *\n",
    "from Best_Result import *\n",
    "\n",
    "yf.pdr_override()\n"
   ]
  },
  {
   "cell_type": "code",
   "execution_count": 2,
   "metadata": {},
   "outputs": [
    {
     "name": "stdout",
     "output_type": "stream",
     "text": [
      "AAPL result:\n",
      "The holding income is  [-0.02101981142352294]\n",
      "name:  MACD619RSI21_8020 . The best prediction rate is  0.584493041749503  income is:  1.149524056849324\n",
      "name:  MACD619RSI21_8020 . The best strategy prediction rate is  0.584493041749503  income is:  1.149524056849324\n",
      "\n",
      "GOOG result:\n",
      "The holding income is  [0.012885566027390993]\n",
      "name:  MACD619RSI21_8020 . The best prediction rate is  0.5924453280318092  income is:  1.0907247742634025\n",
      "name:  MACD619RSI21_8020 . The best strategy prediction rate is  0.5924453280318092  income is:  1.0907247742634025\n",
      "\n",
      "AMZN result:\n",
      "The holding income is  [-0.6619912194883604]\n",
      "name:  MACD619RSI21_8020 . The best prediction rate is  0.5944333996023857  income is:  0.9287796026939832\n",
      "name:  MACD619RSI21_8020 . The best strategy prediction rate is  0.5944333996023857  income is:  0.9287796026939832\n",
      "\n",
      "TSLA result:\n",
      "The holding income is  [-0.6468886904987805]\n",
      "name:  MACD_6_19 . The best prediction rate is  0.5785288270377733  income is:  1.7527249588633378\n",
      "name:  MACD_6_19 . The best strategy prediction rate is  0.5785288270377733  income is:  1.7527249588633378\n",
      "\n",
      "BABA result:\n",
      "The holding income is  [-0.9715199874492173]\n",
      "name:  MACD619RSI21_8020 . The best prediction rate is  0.5745526838966203  income is:  1.48043936714737\n",
      "name:  MACD619RSI21_8020 . The best strategy prediction rate is  0.5745526838966203  income is:  1.48043936714737\n",
      "\n",
      "0700.HK result:\n",
      "The holding income is  [-0.5955977635683238]\n",
      "name:  MACD_12_26 . The best prediction rate is  0.5612244897959183  income is:  0.8054674927166747\n",
      "name:  MACD_6_19 . The best strategy prediction rate is  0.5408163265306123  income is:  0.989905975983457\n",
      "\n",
      "1211.HK result:\n",
      "The holding income is  [-0.03845587396025785]\n",
      "name:  MACD619RSI21_8020 . The best prediction rate is  0.5836734693877551  income is:  1.5425213199006587\n",
      "name:  MACD619RSI21_8020 . The best strategy prediction rate is  0.5836734693877551  income is:  1.5425213199006587\n",
      "\n",
      "PTPI result:\n",
      "The holding income is  [-2.9383213990848334]\n",
      "name:  MACD619RSI21_8020 . The best prediction rate is  0.5387673956262425  income is:  1.3975418678930702\n",
      "name:  MACD619RSI21_8020 . The best strategy prediction rate is  0.5387673956262425  income is:  1.3975418678930702\n",
      "\n",
      "BTCY result:\n",
      "The holding income is  [-0.4991505283666342]\n",
      "name:  MACD_6_19 . The best prediction rate is  0.5427435387673957  income is:  2.7582911428865042\n",
      "name:  MACD_6_19 . The best strategy prediction rate is  0.5427435387673957  income is:  2.7582911428865042\n",
      "\n",
      "1013.hk result:\n",
      "The holding income is  [-0.22036884571987825]\n",
      "name:  MACD619RSI21_7030 . The best prediction rate is  0.5032258064516129  income is:  1.496798933763419\n",
      "name:  MACD619RSI21_7030 . The best strategy prediction rate is  0.5032258064516129  income is:  1.496798933763419\n",
      "\n",
      "0567.hk result:\n",
      "The holding income is  [0.5169622122240338]\n",
      "name:  MACD619RSI21_8020 . The best prediction rate is  0.5068493150684932  income is:  1.8360998731226652\n",
      "name:  MACD619RSI21_8020 . The best strategy prediction rate is  0.5068493150684932  income is:  1.8360998731226652\n",
      "\n",
      "6133.hk result:\n",
      "The holding income is  [0.9480312854976787]\n",
      "name:  MACD619RSI21_7030 . The best prediction rate is  0.5142857142857142  income is:  1.8302189361132604\n",
      "name:  MACD619RSI21_7030 . The best strategy prediction rate is  0.5142857142857142  income is:  1.8302189361132604\n",
      "\n"
     ]
    }
   ],
   "source": [
    "#12值股票 根据两年时间回测，根据rsi+macd，选择最优策略参数\n",
    "start=\"2020-12-31\"\n",
    "end=\"2022-12-31\"\n",
    "stock_name=[\"AAPL\",\"GOOG\",\"AMZN\",\"TSLA\",\"BABA\",\"0700.HK\",\"1211.HK\",\"PTPI\",\"BTCY\",\"1013.hk\",\"0567.hk\",\"6133.hk\"]\n",
    "for i in stock_name:\n",
    "    print(i+\" result:\")\n",
    "    result=Best_result(i,start,end)\n",
    "   \n",
    "    best_prediction_rate=result[0]\n",
    "    best_strategy=result[1]\n",
    "    holding_income= result[2]\n",
    "    print(\"The holding income is \",holding_income)\n",
    "    print(\"name: \",best_prediction_rate[2],\". The best prediction rate is \",best_prediction_rate[0],\" income is: \",best_prediction_rate[1])\n",
    "    print(\"name: \",best_strategy[2],\". The best strategy prediction rate is \",best_strategy[0],\" income is: \",best_strategy[1])\n",
    "    print()\n",
    "    \n",
    "\n"
   ]
  },
  {
   "cell_type": "code",
   "execution_count": null,
   "metadata": {},
   "outputs": [],
   "source": []
  }
 ],
 "metadata": {
  "colab": {
   "provenance": []
  },
  "kernelspec": {
   "display_name": "Python 3 (ipykernel)",
   "language": "python",
   "name": "python3"
  },
  "language_info": {
   "codemirror_mode": {
    "name": "ipython",
    "version": 3
   },
   "file_extension": ".py",
   "mimetype": "text/x-python",
   "name": "python",
   "nbconvert_exporter": "python",
   "pygments_lexer": "ipython3",
   "version": "3.9.12"
  }
 },
 "nbformat": 4,
 "nbformat_minor": 1
}
