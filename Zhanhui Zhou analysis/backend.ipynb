{
 "cells": [
  {
   "cell_type": "markdown",
   "metadata": {},
   "source": [
    "数据库结构  \n",
    "数据库名：stock_data  \n",
    "表名：data_status\n",
    "|字段|类型|值|\n",
    "|:-:|:-:|:-:|\n",
    "|stock_name|VARCHAR(20)|股票名|\n",
    "|last_date|VARCHAR(10)|数据尾部的日期|\n",
    "|last_update|VARCHAR(10)|上次更新的时间|"
   ]
  },
  {
   "cell_type": "code",
   "execution_count": 1,
   "metadata": {},
   "outputs": [],
   "source": [
    "import pymysql\n",
    "import time\n",
    "import yfinance as yf\n",
    "from pandas_datareader import data\n",
    "import datetime\n",
    "import os\n",
    "import pandas as pd\n",
    "import torch\n",
    "from kits import *\n",
    "from Tool_v1 import *\n",
    "yf.pdr_override()\n",
    "db_map = {\"test\": \"stock_data_test\", \"formal\": \"stock_data\"}"
   ]
  },
  {
   "cell_type": "code",
   "execution_count": 14,
   "metadata": {},
   "outputs": [],
   "source": [
    "def fetch_stock_data(stock_name, start=\"default\", end = \"default\"):\n",
    "    if end == \"default\":\n",
    "        now_date, now_time = get_now_date()\n",
    "        end = now_date\n",
    "    if start == \"default\":\n",
    "        start = get_previous_date(end)\n",
    "    stock_data = data.get_data_yahoo(tickers=stock_name,start=start,end=end,progress=False)\n",
    "    if len(stock_data) == 0:\n",
    "        return None, None\n",
    "    return stock_data, str(stock_data.index.tolist()[-1]).split(' ')[0]\n",
    "\n",
    "\n",
    "def read_db(stock_name, date, env):\n",
    "    update(stock_name, env)\n",
    "    now_date = get_now_date()[0]\n",
    "    if date > now_date:\n",
    "        return None\n",
    "    else:\n",
    "        previous = get_previous_date(now_date)\n",
    "        database = db_map[env]\n",
    "        db = pymysql.connect(\n",
    "            user = \"root\",\n",
    "            passwd = \"123456\",\n",
    "            database = database\n",
    "        )\n",
    "        cursor = db.cursor()\n",
    "        cursor.execute(\"SELECT * FROM %s WHERE Date < '%s' and Date >= '%s'\"%(stock_name, date, previous))\n",
    "        d = cursor.fetchall()\n",
    "        df = pd.core.frame.DataFrame(d)\n",
    "        df.columns = [\"Date\", \"Open\", \"High\", \"Low\", \"Close\", \"Adj Close\", \"Volume\"]\n",
    "        df.set_index(\"Date\", inplace=True)\n",
    "        return df"
   ]
  },
  {
   "cell_type": "code",
   "execution_count": 15,
   "metadata": {},
   "outputs": [
    {
     "name": "stdout",
     "output_type": "stream",
     "text": [
      "              0       1       2       3       4        5          6\n",
      "0    2021-11-18  153.71  158.67  153.05  157.87  156.087  137827700\n",
      "1    2021-11-19  157.65  161.02  156.53  160.55  158.736  117305600\n",
      "2    2021-11-22  161.68  165.70  161.00  161.02  159.201  117467900\n",
      "3    2021-11-23  161.12  161.80  159.06  161.41  159.587   96041900\n",
      "4    2021-11-24  160.75  162.14  159.64  161.94  160.111   69463600\n",
      "..          ...     ...     ...     ...     ...      ...        ...\n",
      "494  2023-11-07  179.18  182.44  178.97  181.82  181.581   70530000\n",
      "495  2023-11-08  182.35  183.45  181.59  182.89  182.649   49340300\n",
      "496  2023-11-09  182.96  184.12  181.81  182.41  182.170   53763500\n",
      "497  2023-11-10  183.97  186.57  183.53  186.40  186.400   66133400\n",
      "498  2023-11-13  185.82  186.03  184.21  184.80  184.800   43627500\n",
      "\n",
      "[499 rows x 7 columns]\n"
     ]
    }
   ],
   "source": [
    "df = read_db(\"aapl\", \"2023-11-14\", \"test\")"
   ]
  },
  {
   "cell_type": "code",
   "execution_count": 17,
   "metadata": {},
   "outputs": [
    {
     "data": {
      "text/html": [
       "<div>\n",
       "<style scoped>\n",
       "    .dataframe tbody tr th:only-of-type {\n",
       "        vertical-align: middle;\n",
       "    }\n",
       "\n",
       "    .dataframe tbody tr th {\n",
       "        vertical-align: top;\n",
       "    }\n",
       "\n",
       "    .dataframe thead th {\n",
       "        text-align: right;\n",
       "    }\n",
       "</style>\n",
       "<table border=\"1\" class=\"dataframe\">\n",
       "  <thead>\n",
       "    <tr style=\"text-align: right;\">\n",
       "      <th></th>\n",
       "      <th>Open</th>\n",
       "      <th>High</th>\n",
       "      <th>Low</th>\n",
       "      <th>Close</th>\n",
       "      <th>Adj Close</th>\n",
       "      <th>Volume</th>\n",
       "    </tr>\n",
       "    <tr>\n",
       "      <th>Date</th>\n",
       "      <th></th>\n",
       "      <th></th>\n",
       "      <th></th>\n",
       "      <th></th>\n",
       "      <th></th>\n",
       "      <th></th>\n",
       "    </tr>\n",
       "  </thead>\n",
       "  <tbody>\n",
       "    <tr>\n",
       "      <th>2021-11-18</th>\n",
       "      <td>153.71</td>\n",
       "      <td>158.67</td>\n",
       "      <td>153.05</td>\n",
       "      <td>157.87</td>\n",
       "      <td>156.087</td>\n",
       "      <td>137827700</td>\n",
       "    </tr>\n",
       "    <tr>\n",
       "      <th>2021-11-19</th>\n",
       "      <td>157.65</td>\n",
       "      <td>161.02</td>\n",
       "      <td>156.53</td>\n",
       "      <td>160.55</td>\n",
       "      <td>158.736</td>\n",
       "      <td>117305600</td>\n",
       "    </tr>\n",
       "    <tr>\n",
       "      <th>2021-11-22</th>\n",
       "      <td>161.68</td>\n",
       "      <td>165.70</td>\n",
       "      <td>161.00</td>\n",
       "      <td>161.02</td>\n",
       "      <td>159.201</td>\n",
       "      <td>117467900</td>\n",
       "    </tr>\n",
       "    <tr>\n",
       "      <th>2021-11-23</th>\n",
       "      <td>161.12</td>\n",
       "      <td>161.80</td>\n",
       "      <td>159.06</td>\n",
       "      <td>161.41</td>\n",
       "      <td>159.587</td>\n",
       "      <td>96041900</td>\n",
       "    </tr>\n",
       "    <tr>\n",
       "      <th>2021-11-24</th>\n",
       "      <td>160.75</td>\n",
       "      <td>162.14</td>\n",
       "      <td>159.64</td>\n",
       "      <td>161.94</td>\n",
       "      <td>160.111</td>\n",
       "      <td>69463600</td>\n",
       "    </tr>\n",
       "    <tr>\n",
       "      <th>...</th>\n",
       "      <td>...</td>\n",
       "      <td>...</td>\n",
       "      <td>...</td>\n",
       "      <td>...</td>\n",
       "      <td>...</td>\n",
       "      <td>...</td>\n",
       "    </tr>\n",
       "    <tr>\n",
       "      <th>2023-11-07</th>\n",
       "      <td>179.18</td>\n",
       "      <td>182.44</td>\n",
       "      <td>178.97</td>\n",
       "      <td>181.82</td>\n",
       "      <td>181.581</td>\n",
       "      <td>70530000</td>\n",
       "    </tr>\n",
       "    <tr>\n",
       "      <th>2023-11-08</th>\n",
       "      <td>182.35</td>\n",
       "      <td>183.45</td>\n",
       "      <td>181.59</td>\n",
       "      <td>182.89</td>\n",
       "      <td>182.649</td>\n",
       "      <td>49340300</td>\n",
       "    </tr>\n",
       "    <tr>\n",
       "      <th>2023-11-09</th>\n",
       "      <td>182.96</td>\n",
       "      <td>184.12</td>\n",
       "      <td>181.81</td>\n",
       "      <td>182.41</td>\n",
       "      <td>182.170</td>\n",
       "      <td>53763500</td>\n",
       "    </tr>\n",
       "    <tr>\n",
       "      <th>2023-11-10</th>\n",
       "      <td>183.97</td>\n",
       "      <td>186.57</td>\n",
       "      <td>183.53</td>\n",
       "      <td>186.40</td>\n",
       "      <td>186.400</td>\n",
       "      <td>66133400</td>\n",
       "    </tr>\n",
       "    <tr>\n",
       "      <th>2023-11-13</th>\n",
       "      <td>185.82</td>\n",
       "      <td>186.03</td>\n",
       "      <td>184.21</td>\n",
       "      <td>184.80</td>\n",
       "      <td>184.800</td>\n",
       "      <td>43627500</td>\n",
       "    </tr>\n",
       "  </tbody>\n",
       "</table>\n",
       "<p>499 rows × 6 columns</p>\n",
       "</div>"
      ],
      "text/plain": [
       "              Open    High     Low   Close  Adj Close     Volume\n",
       "Date                                                            \n",
       "2021-11-18  153.71  158.67  153.05  157.87    156.087  137827700\n",
       "2021-11-19  157.65  161.02  156.53  160.55    158.736  117305600\n",
       "2021-11-22  161.68  165.70  161.00  161.02    159.201  117467900\n",
       "2021-11-23  161.12  161.80  159.06  161.41    159.587   96041900\n",
       "2021-11-24  160.75  162.14  159.64  161.94    160.111   69463600\n",
       "...            ...     ...     ...     ...        ...        ...\n",
       "2023-11-07  179.18  182.44  178.97  181.82    181.581   70530000\n",
       "2023-11-08  182.35  183.45  181.59  182.89    182.649   49340300\n",
       "2023-11-09  182.96  184.12  181.81  182.41    182.170   53763500\n",
       "2023-11-10  183.97  186.57  183.53  186.40    186.400   66133400\n",
       "2023-11-13  185.82  186.03  184.21  184.80    184.800   43627500\n",
       "\n",
       "[499 rows x 6 columns]"
      ]
     },
     "execution_count": 17,
     "metadata": {},
     "output_type": "execute_result"
    }
   ],
   "source": [
    "df"
   ]
  },
  {
   "cell_type": "code",
   "execution_count": 86,
   "metadata": {},
   "outputs": [],
   "source": [
    "stock_data, last_date = fetch_stock_data(\"aapl\")"
   ]
  },
  {
   "cell_type": "code",
   "execution_count": 89,
   "metadata": {},
   "outputs": [
    {
     "name": "stdout",
     "output_type": "stream",
     "text": [
      "2023-11-14\n",
      "2023-11-14\n"
     ]
    }
   ],
   "source": [
    "update(\"aapl\", \"test\")"
   ]
  },
  {
   "cell_type": "code",
   "execution_count": 32,
   "metadata": {},
   "outputs": [],
   "source": [
    "def get_previous_date(now_time, delta_year=2):\n",
    "    [now_year, now_mon, now_day] = now_time.split(\"-\")\n",
    "    return \"-\".join([str(int(now_year) - delta_year), now_mon, now_day])"
   ]
  },
  {
   "cell_type": "code",
   "execution_count": 33,
   "metadata": {},
   "outputs": [
    {
     "data": {
      "text/plain": [
       "'2021-11-13'"
      ]
     },
     "execution_count": 33,
     "metadata": {},
     "output_type": "execute_result"
    }
   ],
   "source": [
    "get_previous_date(get_now_date())"
   ]
  }
 ],
 "metadata": {
  "kernelspec": {
   "display_name": "base",
   "language": "python",
   "name": "python3"
  },
  "language_info": {
   "codemirror_mode": {
    "name": "ipython",
    "version": 3
   },
   "file_extension": ".py",
   "mimetype": "text/x-python",
   "name": "python",
   "nbconvert_exporter": "python",
   "pygments_lexer": "ipython3",
   "version": "3.8.8"
  }
 },
 "nbformat": 4,
 "nbformat_minor": 2
}
