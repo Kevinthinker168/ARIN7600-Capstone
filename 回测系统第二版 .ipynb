{
 "cells": [
  {
   "cell_type": "code",
   "execution_count": 1,
   "metadata": {
    "colab": {
     "base_uri": "https://localhost:8080/",
     "height": 361
    },
    "id": "CBZkaHqw4fTJ",
    "outputId": "0b412c9a-cba1-4efd-f556-e3d86aa60bad"
   },
   "outputs": [],
   "source": [
    "import pandas as pd\n",
    "import yfinance as yf\n",
    "from pandas_datareader import data\n",
    "import matplotlib.pyplot as plt\n",
    "from datetime import datetime, timedelta\n",
    "import talib \n",
    "from dateutil.relativedelta import relativedelta\n",
    "\n",
    "from Tools import *\n",
    "from Tools2 import *\n",
    "yf.pdr_override()\n"
   ]
  },
  {
   "cell_type": "code",
   "execution_count": 2,
   "metadata": {},
   "outputs": [
    {
     "name": "stdout",
     "output_type": "stream",
     "text": [
      "AAPL result:\n",
      "The holding income is  -2760.009765625\n",
      "name:  MACD619RSI21_8020 . The best prediction rate is  0.5793650793650794  income is:  33760.040283203125\n",
      "name:  MACD1226RSI6_7030 . The best strategy prediction rate is  0.37103174603174605  income is:  77520.02716064453\n",
      "\n",
      "GOOG result:\n",
      "The holding income is  1136.0015869140625\n",
      "name:  MACD619RSI21_8020 . The best prediction rate is  0.5932539682539683  income is:  -27410.51483154297\n",
      "name:  MACD1939RSI6_7030 . The best strategy prediction rate is  0.3611111111111111  income is:  50971.00830078125\n",
      "\n",
      "AMZN result:\n",
      "The holding income is  -78846.49658203125\n",
      "name:  MACD619RSI21_8020 . The best prediction rate is  0.5912698412698413  income is:  20931.442260742188\n",
      "name:  MACD619RSI6_7030 . The best strategy prediction rate is  0.40476190476190477  income is:  40279.49523925781\n",
      "\n",
      "TSLA result:\n",
      "The holding income is  -112043.32733154297\n",
      "name:  MACD_6_19 . The best prediction rate is  0.5813492063492064  income is:  72339.98107910156\n",
      "name:  MACD619RSI14_7030 . The best strategy prediction rate is  0.5257936507936508  income is:  113249.96948242188\n",
      "\n",
      "BABA result:\n",
      "The holding income is  -144639.99938964844\n",
      "name:  MACD619RSI21_8020 . The best prediction rate is  0.5793650793650794  income is:  -96350.02136230469\n",
      "name:  MACD1226RSI21_7030 . The best strategy prediction rate is  0.5376984126984127  income is:  -21569.992065429688\n",
      "\n",
      "0700.HK result:\n",
      "The holding income is  -248773.95629882812\n",
      "name:  MACD_12_26 . The best prediction rate is  0.5587044534412956  income is:  -40476.654052734375\n",
      "name:  MACD1226RSI21_8020 . The best strategy prediction rate is  0.5566801619433198  income is:  28523.345947265625\n",
      "\n",
      "1211.HK result:\n",
      "The holding income is  -10599.990844726562\n",
      "name:  MACD619RSI21_8020 . The best prediction rate is  0.5850202429149798  income is:  -41200.042724609375\n",
      "name:  MACD1939RSI6_8020 . The best strategy prediction rate is  0.47368421052631576  income is:  205600.06713867188\n",
      "\n",
      "PTPI result:\n",
      "The holding income is  -41670.000076293945\n",
      "name:  MACD619RSI21_8020 . The best prediction rate is  0.5396825396825397  income is:  -32520.000219345093\n",
      "name:  MACD619RSI6_7030 . The best strategy prediction rate is  0.37103174603174605  income is:  21899.99532699585\n",
      "\n",
      "BTCY result:\n",
      "The holding income is  -289.99996185302734\n",
      "name:  MACD_6_19 . The best prediction rate is  0.5436507936507936  income is:  -1303.999900817871\n",
      "name:  MACD1939RSI6_8020 . The best strategy prediction rate is  0.43452380952380953  income is:  357.99914598464966\n",
      "\n",
      "1013.hk result:\n",
      "The holding income is  -89.00000527501106\n",
      "name:  MACD619RSI21_8020 . The best prediction rate is  0.2935222672064777  income is:  -124.00000914931297\n",
      "name:  MACD1939RSI6_7030 . The best strategy prediction rate is  0.12348178137651822  income is:  41.99998453259468\n",
      "\n",
      "0567.hk result:\n",
      "The holding income is  -14.99999314546585\n",
      "name:  MACD619RSI21_8020 . The best prediction rate is  0.3582995951417004  income is:  -266.9999860227108\n",
      "name:  MACD1226RSI6_7030 . The best strategy prediction rate is  0.1882591093117409  income is:  65.81499427556992\n",
      "\n",
      "6133.hk result:\n",
      "The holding income is  -233.99999737739563\n",
      "name:  MACD619RSI21_8020 . The best prediction rate is  0.3117408906882591  income is:  -689.9999529123306\n",
      "name:  MACD1939RSI6_7030 . The best strategy prediction rate is  0.13360323886639677  income is:  -71.00000977516174\n",
      "\n"
     ]
    }
   ],
   "source": [
    "start=\"2020-12-31\"\n",
    "end=\"2022-12-31\"\n",
    "stock_name=[\"AAPL\",\"GOOG\",\"AMZN\",\"TSLA\",\"BABA\",\"0700.HK\",\"1211.HK\",\"PTPI\",\"BTCY\",\"1013.hk\",\"0567.hk\",\"6133.hk\"]\n",
    "for i in stock_name:\n",
    "    print(i+\" result:\")\n",
    "    result=Best_result(i,start,end)\n",
    "    best_prediction_rate=result[0]\n",
    "    best_strategy=result[1]\n",
    "    holding_income= result[0][1]\n",
    "    print(\"The holding income is \",holding_income)\n",
    "    print(\"name: \",best_prediction_rate[3],\". The best prediction rate is \",best_prediction_rate[0],\" income is: \",best_prediction_rate[2])\n",
    "    print(\"name: \",best_strategy[3],\". The best strategy prediction rate is \",best_strategy[0],\" income is: \",best_strategy[2])\n",
    "    print()\n",
    "    \n",
    "\n"
   ]
  },
  {
   "cell_type": "code",
   "execution_count": null,
   "metadata": {},
   "outputs": [],
   "source": []
  }
 ],
 "metadata": {
  "colab": {
   "provenance": []
  },
  "kernelspec": {
   "display_name": "Python 3 (ipykernel)",
   "language": "python",
   "name": "python3"
  },
  "language_info": {
   "codemirror_mode": {
    "name": "ipython",
    "version": 3
   },
   "file_extension": ".py",
   "mimetype": "text/x-python",
   "name": "python",
   "nbconvert_exporter": "python",
   "pygments_lexer": "ipython3",
   "version": "3.9.12"
  }
 },
 "nbformat": 4,
 "nbformat_minor": 1
}
